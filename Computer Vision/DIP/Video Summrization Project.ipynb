{
 "cells": [
  {
   "cell_type": "code",
   "execution_count": 1,
   "id": "bb95ef07-3c1b-4de9-854e-db291e493f1f",
   "metadata": {},
   "outputs": [],
   "source": [
    "import numpy as np\n",
    "import matplotlib.pyplot as plt\n",
    "import cv2 \n",
    "import math\n",
    "import os"
   ]
  },
  {
   "cell_type": "code",
   "execution_count": 2,
   "id": "19b16163-43d0-4dcf-bc99-a0f861c0c504",
   "metadata": {},
   "outputs": [],
   "source": [
    "cap=cv2.VideoCapture(\"Cooking.mp4\")"
   ]
  },
  {
   "cell_type": "code",
   "execution_count": 3,
   "id": "d7990d39-982b-45df-b077-fa1c7aaba14f",
   "metadata": {},
   "outputs": [],
   "source": [
    "no=0\n",
    "while True:\n",
    "    ret,frame=cap.read()\n",
    "    if ret==False:\n",
    "        break\n",
    "    gframe=cv2.cvtColor(frame,cv2.COLOR_BGR2GRAY)\n",
    "    cv2.imwrite(\"./capture_all_frames/frame\"+str(no)+\".jpeg\",gframe)    \n",
    "    no=no+1\n",
    "    cv2.imshow(\"My video\",frame)\n",
    "    if cv2.waitKey(25) & 0xFF == ord('q'):\n",
    "        break\n",
    "cap.release()\n",
    "cv2.destroyAllWindows()"
   ]
  },
  {
   "cell_type": "code",
   "execution_count": 4,
   "id": "68d83c4b-2dff-4f67-ab86-5b65d4e0c97d",
   "metadata": {},
   "outputs": [],
   "source": [
    "files=os.listdir('./capture_all_frames')"
   ]
  },
  {
   "cell_type": "code",
   "execution_count": 5,
   "id": "8ec30a14-697f-4c36-99ae-50faf0afc33f",
   "metadata": {},
   "outputs": [],
   "source": [
    "meanlist=[]\n",
    "for f in files:\n",
    "    im=cv2.imread('./capture_all_frames/'+f,0)\n",
    "    e=np.mean(im)\n",
    "    meanlist.append(e)"
   ]
  },
  {
   "cell_type": "code",
   "execution_count": 6,
   "id": "0de0df10-c2b2-4eb1-8816-be60dd39ea59",
   "metadata": {},
   "outputs": [],
   "source": [
    "mean_diff = []"
   ]
  },
  {
   "cell_type": "code",
   "execution_count": 7,
   "id": "852d99df-0d87-4bd3-8c1b-d8249487ba73",
   "metadata": {},
   "outputs": [],
   "source": [
    "for i in range(len(meanlist)-1):\n",
    "    mean_diff.append(abs(meanlist[i] - meanlist[i+1]))"
   ]
  },
  {
   "cell_type": "code",
   "execution_count": 8,
   "id": "20cd6cd5-8bcb-4e0e-a3c4-090cf80ae6c1",
   "metadata": {},
   "outputs": [],
   "source": [
    "temp1 = []\n",
    "for i in range(len(mean_diff)):\n",
    "    temp1.append(mean_diff[i])\n",
    "temp1.sort()\n",
    "x = temp1[len(temp1)-50:]"
   ]
  },
  {
   "cell_type": "code",
   "execution_count": 9,
   "id": "08b91523-d30c-4888-a3f3-d48b3f33f39f",
   "metadata": {},
   "outputs": [],
   "source": [
    "indexlist = []\n",
    "for i in range(len(x)):\n",
    "    indexlist.append(mean_diff.index(x[i]))"
   ]
  },
  {
   "cell_type": "code",
   "execution_count": 10,
   "id": "f2f4a0a8-820a-4ee3-8f15-30658955eeb1",
   "metadata": {},
   "outputs": [],
   "source": [
    "for i in range(len(x)):\n",
    "    str1 = str(\"capture_all_frames/frame\"+str(indexlist[i])+str(\".jpeg\"))\n",
    "    img = cv2.imread(str1,0)\n",
    "    cv2.imwrite(\"./Selected_Main_Frames/frame\"+str(i)+\" Map To \"+str(indexlist[i])+\".jpeg\",img) "
   ]
  },
  {
   "cell_type": "code",
   "execution_count": null,
   "id": "18c22631-5665-4964-944c-e3fc2f00bdfc",
   "metadata": {},
   "outputs": [],
   "source": []
  }
 ],
 "metadata": {
  "kernelspec": {
   "display_name": "Python 3",
   "language": "python",
   "name": "python3"
  },
  "language_info": {
   "codemirror_mode": {
    "name": "ipython",
    "version": 3
   },
   "file_extension": ".py",
   "mimetype": "text/x-python",
   "name": "python",
   "nbconvert_exporter": "python",
   "pygments_lexer": "ipython3",
   "version": "3.9.0"
  }
 },
 "nbformat": 4,
 "nbformat_minor": 5
}
