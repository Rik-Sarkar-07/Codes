{
 "cells": [
  {
   "cell_type": "code",
   "execution_count": 1,
   "id": "30dbcb23",
   "metadata": {},
   "outputs": [
    {
     "data": {
      "text/html": [
       "<div>\n",
       "<style scoped>\n",
       "    .dataframe tbody tr th:only-of-type {\n",
       "        vertical-align: middle;\n",
       "    }\n",
       "\n",
       "    .dataframe tbody tr th {\n",
       "        vertical-align: top;\n",
       "    }\n",
       "\n",
       "    .dataframe thead th {\n",
       "        text-align: right;\n",
       "    }\n",
       "</style>\n",
       "<table border=\"1\" class=\"dataframe\">\n",
       "  <thead>\n",
       "    <tr style=\"text-align: right;\">\n",
       "      <th></th>\n",
       "      <th>datetime</th>\n",
       "      <th>text</th>\n",
       "      <th>class</th>\n",
       "    </tr>\n",
       "  </thead>\n",
       "  <tbody>\n",
       "    <tr>\n",
       "      <th>43703</th>\n",
       "      <td>Fri May 01 22:35:30 PDT 2009</td>\n",
       "      <td>LOL We just had an aftershock! What did Westla...</td>\n",
       "      <td>0</td>\n",
       "    </tr>\n",
       "    <tr>\n",
       "      <th>308095</th>\n",
       "      <td>Mon Jun 01 22:31:56 PDT 2009</td>\n",
       "      <td>I want to stay up for The Tonight Show!</td>\n",
       "      <td>0</td>\n",
       "    </tr>\n",
       "    <tr>\n",
       "      <th>323396</th>\n",
       "      <td>Tue Jun 02 09:18:25 PDT 2009</td>\n",
       "      <td>Just come home from the beach, now having a fe...</td>\n",
       "      <td>0</td>\n",
       "    </tr>\n",
       "    <tr>\n",
       "      <th>177646</th>\n",
       "      <td>Fri May 29 16:26:23 PDT 2009</td>\n",
       "      <td>@HimOverThere awww, poor leg!  *sends virtual ...</td>\n",
       "      <td>0</td>\n",
       "    </tr>\n",
       "    <tr>\n",
       "      <th>1465586</th>\n",
       "      <td>Sun Jun 07 06:05:06 PDT 2009</td>\n",
       "      <td>Is on her way to the summertime ball.</td>\n",
       "      <td>1</td>\n",
       "    </tr>\n",
       "  </tbody>\n",
       "</table>\n",
       "</div>"
      ],
      "text/plain": [
       "                             datetime  \\\n",
       "43703    Fri May 01 22:35:30 PDT 2009   \n",
       "308095   Mon Jun 01 22:31:56 PDT 2009   \n",
       "323396   Tue Jun 02 09:18:25 PDT 2009   \n",
       "177646   Fri May 29 16:26:23 PDT 2009   \n",
       "1465586  Sun Jun 07 06:05:06 PDT 2009   \n",
       "\n",
       "                                                      text  class  \n",
       "43703    LOL We just had an aftershock! What did Westla...      0  \n",
       "308095            I want to stay up for The Tonight Show!       0  \n",
       "323396   Just come home from the beach, now having a fe...      0  \n",
       "177646   @HimOverThere awww, poor leg!  *sends virtual ...      0  \n",
       "1465586             Is on her way to the summertime ball.       1  "
      ]
     },
     "execution_count": 1,
     "metadata": {},
     "output_type": "execute_result"
    }
   ],
   "source": [
    "import pandas as pd\n",
    "\n",
    "df = pd.read_csv(\"training.1600000.processed.noemoticon.csv\",encoding = \"latin\",header=None)\n",
    "df = df.sample(50000)\n",
    "df = df.iloc[:,[2,5,0]]\n",
    "df.columns = ['datetime','text','class']\n",
    "df['class'][df['class']==4] = 1\n",
    "df.head()"
   ]
  },
  {
   "cell_type": "code",
   "execution_count": 2,
   "id": "eebf4fbb",
   "metadata": {},
   "outputs": [
    {
     "name": "stderr",
     "output_type": "stream",
     "text": [
      "C:\\Python39\\lib\\site-packages\\dateutil\\parser\\_parser.py:1207: UnknownTimezoneWarning: tzname PDT identified but not understood.  Pass `tzinfos` argument in order to correctly return a timezone-aware datetime.  In a future version, this will raise an exception.\n",
      "  warnings.warn(\"tzname {tzname} identified but not understood.  \"\n"
     ]
    },
    {
     "data": {
      "text/html": [
       "<div>\n",
       "<style scoped>\n",
       "    .dataframe tbody tr th:only-of-type {\n",
       "        vertical-align: middle;\n",
       "    }\n",
       "\n",
       "    .dataframe tbody tr th {\n",
       "        vertical-align: top;\n",
       "    }\n",
       "\n",
       "    .dataframe thead th {\n",
       "        text-align: right;\n",
       "    }\n",
       "</style>\n",
       "<table border=\"1\" class=\"dataframe\">\n",
       "  <thead>\n",
       "    <tr style=\"text-align: right;\">\n",
       "      <th></th>\n",
       "      <th>datetime</th>\n",
       "      <th>text</th>\n",
       "      <th>class</th>\n",
       "      <th>date</th>\n",
       "      <th>time</th>\n",
       "    </tr>\n",
       "  </thead>\n",
       "  <tbody>\n",
       "    <tr>\n",
       "      <th>43703</th>\n",
       "      <td>2009-05-01 22:35:30</td>\n",
       "      <td>LOL We just had an aftershock! What did Westla...</td>\n",
       "      <td>0</td>\n",
       "      <td>2009-05-01</td>\n",
       "      <td>22:35:30</td>\n",
       "    </tr>\n",
       "    <tr>\n",
       "      <th>308095</th>\n",
       "      <td>2009-06-01 22:31:56</td>\n",
       "      <td>I want to stay up for The Tonight Show!</td>\n",
       "      <td>0</td>\n",
       "      <td>2009-06-01</td>\n",
       "      <td>22:31:56</td>\n",
       "    </tr>\n",
       "    <tr>\n",
       "      <th>323396</th>\n",
       "      <td>2009-06-02 09:18:25</td>\n",
       "      <td>Just come home from the beach, now having a fe...</td>\n",
       "      <td>0</td>\n",
       "      <td>2009-06-02</td>\n",
       "      <td>09:18:25</td>\n",
       "    </tr>\n",
       "    <tr>\n",
       "      <th>177646</th>\n",
       "      <td>2009-05-29 16:26:23</td>\n",
       "      <td>@HimOverThere awww, poor leg!  *sends virtual ...</td>\n",
       "      <td>0</td>\n",
       "      <td>2009-05-29</td>\n",
       "      <td>16:26:23</td>\n",
       "    </tr>\n",
       "    <tr>\n",
       "      <th>1465586</th>\n",
       "      <td>2009-06-07 06:05:06</td>\n",
       "      <td>Is on her way to the summertime ball.</td>\n",
       "      <td>1</td>\n",
       "      <td>2009-06-07</td>\n",
       "      <td>06:05:06</td>\n",
       "    </tr>\n",
       "  </tbody>\n",
       "</table>\n",
       "</div>"
      ],
      "text/plain": [
       "                   datetime  \\\n",
       "43703   2009-05-01 22:35:30   \n",
       "308095  2009-06-01 22:31:56   \n",
       "323396  2009-06-02 09:18:25   \n",
       "177646  2009-05-29 16:26:23   \n",
       "1465586 2009-06-07 06:05:06   \n",
       "\n",
       "                                                      text  class        date  \\\n",
       "43703    LOL We just had an aftershock! What did Westla...      0  2009-05-01   \n",
       "308095            I want to stay up for The Tonight Show!       0  2009-06-01   \n",
       "323396   Just come home from the beach, now having a fe...      0  2009-06-02   \n",
       "177646   @HimOverThere awww, poor leg!  *sends virtual ...      0  2009-05-29   \n",
       "1465586             Is on her way to the summertime ball.       1  2009-06-07   \n",
       "\n",
       "              time  \n",
       "43703    22:35:30   \n",
       "308095   22:31:56   \n",
       "323396   09:18:25   \n",
       "177646   16:26:23   \n",
       "1465586  06:05:06   "
      ]
     },
     "execution_count": 2,
     "metadata": {},
     "output_type": "execute_result"
    }
   ],
   "source": [
    "sentiment = df.copy()\n",
    "sentiment['datetime'] = pd.to_datetime(sentiment['datetime'], infer_datetime_format=True)\n",
    "sentiment[\"date\"] = sentiment['datetime'].dt.strftime(\"%Y-%m-%d\")\n",
    "sentiment[\"time\"] = sentiment['datetime'].dt.strftime(\"%H:%M:%S %Z\")\n",
    "\n",
    "sentiment.head()"
   ]
  },
  {
   "cell_type": "code",
   "execution_count": 3,
   "id": "fa7300e7",
   "metadata": {},
   "outputs": [
    {
     "data": {
      "text/plain": [
       "((50000, 5), array([0, 1], dtype=int64))"
      ]
     },
     "execution_count": 3,
     "metadata": {},
     "output_type": "execute_result"
    }
   ],
   "source": [
    "sentiment.shape, sentiment['class'].unique()"
   ]
  },
  {
   "cell_type": "code",
   "execution_count": 4,
   "id": "28d9d0cc",
   "metadata": {},
   "outputs": [
    {
     "data": {
      "text/plain": [
       "<AxesSubplot:xlabel='class', ylabel='count'>"
      ]
     },
     "execution_count": 4,
     "metadata": {},
     "output_type": "execute_result"
    },
    {
     "data": {
      "image/png": "[encoded data removed]",
      "text/plain": [
       "<Figure size 432x288 with 1 Axes>"
      ]
     },
     "metadata": {},
     "output_type": "display_data"
    }
   ],
   "source": [
    "# Weekdays Effect on Mood\n",
    "import matplotlib.pyplot as plt\n",
    "import seaborn as sns\n",
    "\n",
    "sns.set(style=\"darkgrid\")\n",
    "sns.countplot(x=\"class\", data=sentiment)"
   ]
  },
  {
   "cell_type": "code",
   "execution_count": 5,
   "id": "54d296c0",
   "metadata": {},
   "outputs": [
    {
     "data": {
      "image/png": "[encoded data removed]",
      "text/plain": [
       "<Figure size 576x432 with 1 Axes>"
      ]
     },
     "metadata": {},
     "output_type": "display_data"
    }
   ],
   "source": [
    "sentiment[\"weekday\"] = sentiment['datetime'].dt.strftime(\"%A\")\n",
    "\n",
    "# create a grouped dataframe with the mean mood for each weekday\n",
    "grouped = sentiment.groupby('weekday')['class'].mean().reset_index()\n",
    "\n",
    "weekday_order = ['Monday', 'Tuesday', 'Wednesday', 'Thursday', 'Friday', 'Saturday', 'Sunday']\n",
    "\n",
    "custom_palette = ['#4c72b0', '#55a868']\n",
    "plt.figure(figsize=(8,6))\n",
    "sns.barplot(x='weekday', y='class', data=grouped, order=weekday_order, palette=custom_palette)\n",
    "plt.ylabel('Class', fontsize=14)\n",
    "plt.xlabel('Weekdays', fontsize=14)\n",
    "plt.title('Average Mood by Weekday', fontsize=16)\n",
    "\n",
    "sns.set_style('whitegrid')\n",
    "sns.despine()\n",
    "\n",
    "# show the plot\n",
    "plt.show()"
   ]
  },
  {
   "cell_type": "code",
   "execution_count": 6,
   "id": "e005d32f",
   "metadata": {},
   "outputs": [
    {
     "data": {
      "image/png": "[encoded data removed]",
      "text/plain": [
       "<Figure size 432x288 with 1 Axes>"
      ]
     },
     "metadata": {},
     "output_type": "display_data"
    }
   ],
   "source": [
    "sentiment['time'] = pd.to_datetime(sentiment['time'])\n",
    "\n",
    "# Group data into time intervals and calculate class frequency\n",
    "interval = '1H'\n",
    "time_grouped = sentiment.groupby(pd.Grouper(key='time', freq=interval))['class'].value_counts(normalize=True).mul(100).rename('percentage').reset_index()\n",
    "\n",
    "# Create bar plot using Seaborn\n",
    "sns.set_style('whitegrid')\n",
    "sns.barplot(data=time_grouped, x='time', y='percentage', hue='class')\n",
    "\n",
    "# Add labels and legend\n",
    "plt.title(f'Class frequency in {interval} intervals')\n",
    "plt.xlabel('Time')\n",
    "plt.ylabel('Percentage')\n",
    "plt.xticks(rotation=45, ha='right')\n",
    "plt.legend(title='Class', loc='upper right')\n",
    "\n",
    "# Display plot\n",
    "plt.show()"
   ]
  },
  {
   "cell_type": "code",
   "execution_count": 7,
   "id": "e580823d",
   "metadata": {},
   "outputs": [
    {
     "data": {
      "image/png": "[encoded data removed]",
      "text/plain": [
       "<Figure size 720x432 with 1 Axes>"
      ]
     },
     "metadata": {},
     "output_type": "display_data"
    }
   ],
   "source": [
    "sentiment['date'] = pd.to_datetime(sentiment['date'], format='%Y-%m-%d')\n",
    "sentiment[\"day\"] = sentiment['date'].dt.day\n",
    "\n",
    "# Grouping by month and computing the class frequency\n",
    "monthly_class = sentiment.groupby(\"day\")['class'].mean().reset_index()\n",
    "\n",
    "# Creating a line plot using Matplotlib and Seaborn\n",
    "sns.set_style('darkgrid')\n",
    "plt.figure(figsize=(10, 6))\n",
    "sns.lineplot(data=monthly_class, x=\"day\", y='class')\n",
    "plt.title('Class Frequency vs Day')\n",
    "plt.xlabel(\"Day\")\n",
    "plt.ylabel('Class Frequency')\n",
    "plt.show()"
   ]
  },
  {
   "cell_type": "code",
   "execution_count": 8,
   "id": "46fd0db6",
   "metadata": {},
   "outputs": [
    {
     "name": "stderr",
     "output_type": "stream",
     "text": [
      "C:\\Python39\\lib\\site-packages\\dateutil\\parser\\_parser.py:1207: UnknownTimezoneWarning: tzname PDT identified but not understood.  Pass `tzinfos` argument in order to correctly return a timezone-aware datetime.  In a future version, this will raise an exception.\n",
      "  warnings.warn(\"tzname {tzname} identified but not understood.  \"\n"
     ]
    },
    {
     "data": {
      "text/html": [
       "<div>\n",
       "<style scoped>\n",
       "    .dataframe tbody tr th:only-of-type {\n",
       "        vertical-align: middle;\n",
       "    }\n",
       "\n",
       "    .dataframe tbody tr th {\n",
       "        vertical-align: top;\n",
       "    }\n",
       "\n",
       "    .dataframe thead th {\n",
       "        text-align: right;\n",
       "    }\n",
       "</style>\n",
       "<table border=\"1\" class=\"dataframe\">\n",
       "  <thead>\n",
       "    <tr style=\"text-align: right;\">\n",
       "      <th></th>\n",
       "      <th>text</th>\n",
       "      <th>class</th>\n",
       "      <th>weekday</th>\n",
       "      <th>day</th>\n",
       "      <th>time</th>\n",
       "    </tr>\n",
       "  </thead>\n",
       "  <tbody>\n",
       "    <tr>\n",
       "      <th>43703</th>\n",
       "      <td>LOL We just had an aftershock! What did Westla...</td>\n",
       "      <td>0</td>\n",
       "      <td>Friday</td>\n",
       "      <td>1</td>\n",
       "      <td>22</td>\n",
       "    </tr>\n",
       "    <tr>\n",
       "      <th>308095</th>\n",
       "      <td>I want to stay up for The Tonight Show!</td>\n",
       "      <td>0</td>\n",
       "      <td>Monday</td>\n",
       "      <td>1</td>\n",
       "      <td>22</td>\n",
       "    </tr>\n",
       "    <tr>\n",
       "      <th>323396</th>\n",
       "      <td>Just come home from the beach, now having a fe...</td>\n",
       "      <td>0</td>\n",
       "      <td>Tuesday</td>\n",
       "      <td>2</td>\n",
       "      <td>9</td>\n",
       "    </tr>\n",
       "    <tr>\n",
       "      <th>177646</th>\n",
       "      <td>@HimOverThere awww, poor leg!  *sends virtual ...</td>\n",
       "      <td>0</td>\n",
       "      <td>Friday</td>\n",
       "      <td>29</td>\n",
       "      <td>16</td>\n",
       "    </tr>\n",
       "    <tr>\n",
       "      <th>1465586</th>\n",
       "      <td>Is on her way to the summertime ball.</td>\n",
       "      <td>1</td>\n",
       "      <td>Sunday</td>\n",
       "      <td>7</td>\n",
       "      <td>6</td>\n",
       "    </tr>\n",
       "  </tbody>\n",
       "</table>\n",
       "</div>"
      ],
      "text/plain": [
       "                                                      text  class  weekday  \\\n",
       "43703    LOL We just had an aftershock! What did Westla...      0   Friday   \n",
       "308095            I want to stay up for The Tonight Show!       0   Monday   \n",
       "323396   Just come home from the beach, now having a fe...      0  Tuesday   \n",
       "177646   @HimOverThere awww, poor leg!  *sends virtual ...      0   Friday   \n",
       "1465586             Is on her way to the summertime ball.       1   Sunday   \n",
       "\n",
       "         day  time  \n",
       "43703      1    22  \n",
       "308095     1    22  \n",
       "323396     2     9  \n",
       "177646    29    16  \n",
       "1465586    7     6  "
      ]
     },
     "execution_count": 8,
     "metadata": {},
     "output_type": "execute_result"
    }
   ],
   "source": [
    "# Prepare the Data\n",
    "sentiment = df.copy()\n",
    "sentiment['datetime'] = pd.to_datetime(sentiment['datetime'], infer_datetime_format=True)\n",
    "sentiment[\"weekday\"] = sentiment['datetime'].dt.strftime(\"%A\")\n",
    "sentiment[\"day\"] = sentiment['datetime'].dt.strftime(\"%d\").astype(\"int\")\n",
    "sentiment[\"time\"] = sentiment['datetime'].dt.strftime(\"%H\").astype(\"int\")\n",
    "sentiment = sentiment.drop(\"datetime\", axis=1)\n",
    "\n",
    "sentiment.head()"
   ]
  },
  {
   "cell_type": "code",
   "execution_count": 9,
   "id": "c9ea3fd8",
   "metadata": {},
   "outputs": [],
   "source": [
    "from sklearn.model_selection import train_test_split\n",
    "\n",
    "X = sentiment.drop(\"class\", axis=1)\n",
    "y = sentiment[\"class\"]\n",
    "\n",
    "X_train, X_test, y_train, y_test = train_test_split(X, y, test_size=0.2, random_state=42)"
   ]
  },
  {
   "cell_type": "code",
   "execution_count": 10,
   "id": "47edda6d",
   "metadata": {},
   "outputs": [],
   "source": [
    "import re\n",
    "\n",
    "def tweet_to_plain_text(tweet):\n",
    "    text = tweet.lower()  # lowercase\n",
    "    text = re.sub(r'http://twitpic.com\\S+', 'PIC', text)  # pic\n",
    "    text = re.sub(r'http\\S+', 'URL', text)  # URLs\n",
    "    text = re.sub(r'@\\w+', 'MENTION', text)  # mentions\n",
    "    text = re.sub(r'#\\w+', 'HASHTAG', text)  # hashtags\n",
    "    text = re.sub('[^\\w\\s]','', text)  # punctuation\n",
    "    text = re.sub('\\d+', '', text)  # numbers\n",
    "    text = text.strip()  # whitespace\n",
    "    return text"
   ]
  },
  {
   "cell_type": "code",
   "execution_count": 11,
   "id": "a02ffcd5",
   "metadata": {},
   "outputs": [
    {
     "data": {
      "text/plain": [
       "'up mad early for work meeting  i hate mornings lol'"
      ]
     },
     "execution_count": 11,
     "metadata": {},
     "output_type": "execute_result"
    }
   ],
   "source": [
    "negative_tweets = [tweet for tweet in X_train[\"text\"][y_train==0]]\n",
    "sample_negative_tweets = negative_tweets[7]\n",
    "text = tweet_to_plain_text(sample_negative_tweets)\n",
    "text"
   ]
  },
  {
   "cell_type": "code",
   "execution_count": 12,
   "id": "e04509f7",
   "metadata": {},
   "outputs": [
    {
     "name": "stdout",
     "output_type": "stream",
     "text": [
      "Error: stemming requires the NLTK module.\n"
     ]
    }
   ],
   "source": [
    "try:\n",
    "    import nltk\n",
    "\n",
    "    stemmer = nltk.PorterStemmer()\n",
    "    for word in (\"Computations\", \"Computation\", \"Computing\", \"Computed\", \"Compute\", \"Compulsive\"):\n",
    "        print(word, \"=>\", stemmer.stem(word))\n",
    "except ImportError:\n",
    "    print(\"Error: stemming requires the NLTK module.\")\n",
    "    stemmer = None"
   ]
  },
  {
   "cell_type": "code",
   "execution_count": 13,
   "id": "13febd08",
   "metadata": {},
   "outputs": [
    {
     "name": "stdout",
     "output_type": "stream",
     "text": [
      "Collecting urlextract\n",
      "  Downloading urlextract-1.8.0-py3-none-any.whl (21 kB)\n",
      "Requirement already satisfied: idna in c:\\python39\\lib\\site-packages (from urlextract) (2.10)\n",
      "Requirement already satisfied: platformdirs in c:\\python39\\lib\\site-packages (from urlextract) (2.6.2)\n",
      "Collecting uritools\n",
      "  Downloading uritools-4.0.1-py3-none-any.whl (10 kB)\n",
      "Collecting filelock\n",
      "  Downloading filelock-3.10.7-py3-none-any.whl (10 kB)\n",
      "Installing collected packages: uritools, filelock, urlextract\n",
      "Successfully installed filelock-3.10.7 uritools-4.0.1 urlextract-1.8.0\n",
      "['github.com', 'https://youtu.be/7Pq-S557XQU?t=3m32s']\n"
     ]
    }
   ],
   "source": [
    "try:\n",
    "    import urlextract # may require an Internet connection to download root domain names\n",
    "    \n",
    "    url_extractor = urlextract.URLExtract()\n",
    "    print(url_extractor.find_urls(\"Will it detect github.com and https://youtu.be/7Pq-S557XQU?t=3m32s\"))\n",
    "except ImportError:\n",
    "    print(\"Error: replacing URLs requires the urlextract module.\")\n",
    "    url_extractor = None"
   ]
  },
  {
   "cell_type": "code",
   "execution_count": 14,
   "id": "fc38230e",
   "metadata": {},
   "outputs": [],
   "source": [
    "from sklearn.base import BaseEstimator, TransformerMixin\n",
    "from collections import Counter\n",
    "import numpy as np\n",
    "\n",
    "\n",
    "class TweetToWordCounterTransformer(BaseEstimator, TransformerMixin):\n",
    "    def __init__(self, stemming=True):\n",
    "        self.stemming = stemming\n",
    "    def fit(self, X, y=None):\n",
    "        return self\n",
    "    def transform(self, X, y=None):\n",
    "        X_transformed = []\n",
    "        for tweet in X:\n",
    "            text = tweet_to_plain_text(tweet) or \"\"\n",
    "            word_counts = Counter(text.split())\n",
    "            if self.stemming and stemmer is not None:\n",
    "                stemmed_word_counts = Counter()\n",
    "                for word, count in word_counts.items():\n",
    "                    stemmed_word = stemmer.stem(word)\n",
    "                    stemmed_word_counts[stemmed_word] += count\n",
    "                word_counts = stemmed_word_counts\n",
    "            X_transformed.append(word_counts)\n",
    "        return np.array(X_transformed)"
   ]
  },
  {
   "cell_type": "code",
   "execution_count": 15,
   "id": "9e32dc8e",
   "metadata": {},
   "outputs": [
    {
     "data": {
      "text/plain": [
       "array([Counter({'in': 1, 'toronto': 1, 'free': 1, 'wifi': 1, 'is': 1, 'everywhere': 1, 'i': 1, 'like': 1, 'it': 1}),\n",
       "       Counter({'to': 2, 'not': 1, 'ready': 1, 'take': 1, 'you': 1, 'the': 1, 'airport': 1}),\n",
       "       Counter({'MENTION': 1, 'hahaha': 1, 'baca': 1, 'aja': 1, 'status': 1, 'update': 1, 'gue': 1, 'yg': 1, 'sebelumnya': 1}),\n",
       "       Counter({'MENTION': 1, 'mate': 1, 'one': 1, 'of': 1, 'the': 1, 'original': 1, 'tools': 1, 'for': 1, 'building': 1, 'social': 1, 'networks': 1, 'in': 1, 'south': 1, 'america': 1, 'URL': 1}),\n",
       "       Counter({'MENTION': 1, 'you': 1, 'will': 1, 'always': 1, 'be': 1, 'bf': 1, 'in': 1, 'my': 1, 'heart': 1, 'lol': 1})],\n",
       "      dtype=object)"
      ]
     },
     "execution_count": 15,
     "metadata": {},
     "output_type": "execute_result"
    }
   ],
   "source": [
    "X_few = X_train[\"text\"][:5]\n",
    "X_few_wordcounts = TweetToWordCounterTransformer().fit_transform(X_few)\n",
    "X_few_wordcounts"
   ]
  },
  {
   "cell_type": "code",
   "execution_count": 16,
   "id": "ec1d2653",
   "metadata": {},
   "outputs": [],
   "source": [
    "from scipy.sparse import csr_matrix\n",
    "\n",
    "class WordCounterToVectorTransformer(BaseEstimator, TransformerMixin):\n",
    "    def __init__(self, vocabulary_size=1000):\n",
    "        self.vocabulary_size = vocabulary_size\n",
    "    def fit(self, X, y=None):\n",
    "        total_count = Counter()\n",
    "        for word_count in X:\n",
    "            for word, count in word_count.items():\n",
    "                total_count[word] += min(count, 10)\n",
    "        most_common = total_count.most_common()[:self.vocabulary_size]\n",
    "        self.most_common_ = most_common\n",
    "        self.vocabulary_ = {word: index + 1 for index, (word, count) in enumerate(most_common)}\n",
    "        return self\n",
    "    def transform(self, X, y=None):\n",
    "        rows = []\n",
    "        cols = []\n",
    "        data = []\n",
    "        for row, word_count in enumerate(X):\n",
    "            for word, count in word_count.items():\n",
    "                rows.append(row)\n",
    "                cols.append(self.vocabulary_.get(word, 0))\n",
    "                data.append(count)\n",
    "        return csr_matrix((data, (rows, cols)), shape=(len(X), self.vocabulary_size + 1)).toarray()"
   ]
  },
  {
   "cell_type": "code",
   "execution_count": 17,
   "id": "49e1f86b",
   "metadata": {},
   "outputs": [
    {
     "data": {
      "text/plain": [
       "array([[ 3,  1,  0,  0,  0,  0,  1,  1,  1,  1,  1],\n",
       "       [ 4,  0,  0,  2,  1,  1,  0,  0,  0,  0,  0],\n",
       "       [ 8,  0,  1,  0,  0,  0,  0,  0,  0,  0,  0],\n",
       "       [12,  1,  1,  0,  0,  1,  0,  0,  0,  0,  0],\n",
       "       [ 7,  1,  1,  0,  1,  0,  0,  0,  0,  0,  0]], dtype=int32)"
      ]
     },
     "execution_count": 17,
     "metadata": {},
     "output_type": "execute_result"
    }
   ],
   "source": [
    "vocab_transformer = WordCounterToVectorTransformer(vocabulary_size=10)\n",
    "X_few_vectors = vocab_transformer.fit_transform(X_few_wordcounts)\n",
    "X_few_vectors"
   ]
  },
  {
   "cell_type": "code",
   "execution_count": 18,
   "id": "5841fa1e",
   "metadata": {},
   "outputs": [
    {
     "data": {
      "text/plain": [
       "{'in': 1,\n",
       " 'MENTION': 2,\n",
       " 'to': 3,\n",
       " 'you': 4,\n",
       " 'the': 5,\n",
       " 'toronto': 6,\n",
       " 'free': 7,\n",
       " 'wifi': 8,\n",
       " 'is': 9,\n",
       " 'everywhere': 10}"
      ]
     },
     "execution_count": 18,
     "metadata": {},
     "output_type": "execute_result"
    }
   ],
   "source": [
    "vocab_transformer.vocabulary_"
   ]
  },
  {
   "cell_type": "code",
   "execution_count": 19,
   "id": "1ea2ad89",
   "metadata": {},
   "outputs": [],
   "source": [
    "# since sklearn doesn't handle dataframes yet\n",
    "class DataFrameSelector(BaseEstimator, TransformerMixin):\n",
    "    def __init__(self, attribute_names, squeeze=False):\n",
    "        self.attribute_names = attribute_names\n",
    "        self.squeeze = squeeze\n",
    "    def fit(self, X, y=None):\n",
    "        return self\n",
    "    def transform(self, X):\n",
    "        if self.squeeze:\n",
    "            return X[self.attribute_names].squeeze()\n",
    "        return X[self.attribute_names]\n"
   ]
  },
  {
   "cell_type": "code",
   "execution_count": 20,
   "id": "961559e6",
   "metadata": {},
   "outputs": [
    {
     "data": {
      "text/plain": [
       "(40000, 1001)"
      ]
     },
     "execution_count": 20,
     "metadata": {},
     "output_type": "execute_result"
    }
   ],
   "source": [
    "from sklearn.pipeline import Pipeline\n",
    "text_pipeline = Pipeline([\n",
    "    (\"select_tweet\", DataFrameSelector([\"text\"], squeeze=True)),\n",
    "    (\"tweet_to_wordcount\", TweetToWordCounterTransformer()),\n",
    "    (\"wordcount_to_vector\", WordCounterToVectorTransformer()),\n",
    "])\n",
    "\n",
    "text_pipeline.fit_transform(X_train).shape"
   ]
  },
  {
   "cell_type": "code",
   "execution_count": 21,
   "id": "ec06b73c",
   "metadata": {},
   "outputs": [
    {
     "data": {
      "text/plain": [
       "(40000, 7)"
      ]
     },
     "execution_count": 21,
     "metadata": {},
     "output_type": "execute_result"
    }
   ],
   "source": [
    "from sklearn.preprocessing import OneHotEncoder\n",
    "\n",
    "cat_pipeline = Pipeline([\n",
    "    (\"select_cat\", DataFrameSelector([\"weekday\"])),\n",
    "    (\"cat_encoder\", OneHotEncoder(sparse=False)),\n",
    "])\n",
    "\n",
    "cat_pipeline.fit_transform(X_train).shape"
   ]
  },
  {
   "cell_type": "code",
   "execution_count": 22,
   "id": "eb73bcdc",
   "metadata": {},
   "outputs": [
    {
     "data": {
      "text/plain": [
       "(40000, 2)"
      ]
     },
     "execution_count": 22,
     "metadata": {},
     "output_type": "execute_result"
    }
   ],
   "source": [
    "from sklearn.preprocessing import StandardScaler\n",
    "\n",
    "num_pipeline = Pipeline([\n",
    "    (\"select_num\", DataFrameSelector([\"time\", \"day\"])),\n",
    "    (\"scale\", StandardScaler())\n",
    "])\n",
    "\n",
    "num_pipeline.fit_transform(X_train).shape"
   ]
  },
  {
   "cell_type": "code",
   "execution_count": 23,
   "id": "94f6068a",
   "metadata": {},
   "outputs": [],
   "source": [
    "from sklearn.pipeline import FeatureUnion\n",
    "\n",
    "preprocess_pipeline = FeatureUnion(transformer_list=[\n",
    "    ('text_pipeline', text_pipeline),\n",
    "    (\"num_pipeline\", num_pipeline),\n",
    "    (\"cat_pipeline\", cat_pipeline),\n",
    "])\n",
    "\n",
    "X_train_transformed = preprocess_pipeline.fit_transform(X_train)"
   ]
  },
  {
   "cell_type": "code",
   "execution_count": 24,
   "id": "ae408b8e",
   "metadata": {},
   "outputs": [
    {
     "data": {
      "text/plain": [
       "array([[ 3.,  0.,  1., ...,  0.,  0.,  0.],\n",
       "       [ 1.,  0.,  0., ...,  0.,  0.,  1.],\n",
       "       [ 6.,  1.,  0., ...,  0.,  0.,  0.],\n",
       "       ...,\n",
       "       [10.,  0.,  0., ...,  0.,  0.,  0.],\n",
       "       [ 0.,  1.,  0., ...,  0.,  0.,  0.],\n",
       "       [ 4.,  0.,  0., ...,  0.,  0.,  0.]])"
      ]
     },
     "execution_count": 24,
     "metadata": {},
     "output_type": "execute_result"
    }
   ],
   "source": [
    "X_train_transformed"
   ]
  },
  {
   "cell_type": "code",
   "execution_count": 25,
   "id": "0f992f44",
   "metadata": {},
   "outputs": [
    {
     "name": "stderr",
     "output_type": "stream",
     "text": [
      "[Parallel(n_jobs=1)]: Using backend SequentialBackend with 1 concurrent workers.\n"
     ]
    },
    {
     "name": "stdout",
     "output_type": "stream",
     "text": [
      "[CV] END ................................ score: (test=0.766) total time=   1.3s\n"
     ]
    },
    {
     "name": "stderr",
     "output_type": "stream",
     "text": [
      "[Parallel(n_jobs=1)]: Done   1 out of   1 | elapsed:    1.4s remaining:    0.0s\n"
     ]
    },
    {
     "name": "stdout",
     "output_type": "stream",
     "text": [
      "[CV] END ................................ score: (test=0.765) total time=   1.0s\n"
     ]
    },
    {
     "name": "stderr",
     "output_type": "stream",
     "text": [
      "[Parallel(n_jobs=1)]: Done   2 out of   2 | elapsed:    2.5s remaining:    0.0s\n"
     ]
    },
    {
     "name": "stdout",
     "output_type": "stream",
     "text": [
      "[CV] END ................................ score: (test=0.763) total time=   1.0s\n"
     ]
    },
    {
     "name": "stderr",
     "output_type": "stream",
     "text": [
      "[Parallel(n_jobs=1)]: Done   3 out of   3 | elapsed:    3.6s finished\n"
     ]
    },
    {
     "data": {
      "text/plain": [
       "0.7646499659566635"
      ]
     },
     "execution_count": 25,
     "metadata": {},
     "output_type": "execute_result"
    }
   ],
   "source": [
    "# Model traning\n",
    "from sklearn.linear_model import LogisticRegression\n",
    "from sklearn.model_selection import cross_val_score\n",
    "\n",
    "log_clf = LogisticRegression(solver=\"liblinear\", random_state=42)\n",
    "score = cross_val_score(log_clf, X_train_transformed, y_train, cv=3, verbose=3)\n",
    "score.mean()"
   ]
  },
  {
   "cell_type": "code",
   "execution_count": 26,
   "id": "0165d1c0",
   "metadata": {},
   "outputs": [
    {
     "name": "stdout",
     "output_type": "stream",
     "text": [
      "Precision: 75.89%\n",
      "Recall: 78.86%\n"
     ]
    }
   ],
   "source": [
    "from sklearn.metrics import precision_score, recall_score\n",
    "\n",
    "X_test_transformed = preprocess_pipeline.transform(X_test)\n",
    "\n",
    "log_clf = LogisticRegression(solver=\"liblinear\", random_state=42)\n",
    "log_clf.fit(X_train_transformed, y_train)\n",
    "\n",
    "y_pred = log_clf.predict(X_test_transformed)\n",
    "\n",
    "print(\"Precision: {:.2f}%\".format(100 * precision_score(y_test, y_pred)))\n",
    "print(\"Recall: {:.2f}%\".format(100 * recall_score(y_test, y_pred)))\n"
   ]
  },
  {
   "cell_type": "code",
   "execution_count": null,
   "id": "ae4a57d3",
   "metadata": {},
   "outputs": [],
   "source": []
  }
 ],
 "metadata": {
  "kernelspec": {
   "display_name": "Python 3 (ipykernel)",
   "language": "python",
   "name": "python3"
  },
  "language_info": {
   "codemirror_mode": {
    "name": "ipython",
    "version": 3
   },
   "file_extension": ".py",
   "mimetype": "text/x-python",
   "name": "python",
   "nbconvert_exporter": "python",
   "pygments_lexer": "ipython3",
   "version": "3.9.7"
  }
 },
 "nbformat": 4,
 "nbformat_minor": 5
}
