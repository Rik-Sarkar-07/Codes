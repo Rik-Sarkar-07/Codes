{
 "cells": [
  {
   "cell_type": "markdown",
   "id": "ddb19811-bb5a-4d4a-9951-4069d8275fd2",
   "metadata": {},
   "source": [
    "# 15. Noise Removal Project By Using Autoencoders"
   ]
  },
  {
   "cell_type": "code",
   "execution_count": 42,
   "id": "311bb4ff-3ef7-4a2c-b090-766f82a2fd43",
   "metadata": {},
   "outputs": [],
   "source": [
    "import tensorflow as tf\n",
    "import keras\n",
    "from keras import layers\n",
    "from keras.datasets import mnist\n",
    "import numpy as np\n",
    "import matplotlib.pyplot as plt"
   ]
  },
  {
   "cell_type": "markdown",
   "id": "64949f4b-f46a-4760-9a17-eb4b1346c671",
   "metadata": {},
   "source": [
    "## By Using Deep Autoencoders"
   ]
  },
  {
   "cell_type": "code",
   "execution_count": 43,
   "id": "57334b8d-2872-482b-836e-8efb01119e00",
   "metadata": {},
   "outputs": [],
   "source": [
    "def add_salt_and_pepper_noise(images, salt_prob=0.01, pepper_prob=0.01):\n",
    "    noisy_images = images.copy()\n",
    "\n",
    "    salt_mask = np.random.rand(*images.shape) < salt_prob\n",
    "    noisy_images[salt_mask] = 255\n",
    "\n",
    "    pepper_mask = np.random.rand(*images.shape) < pepper_prob\n",
    "    noisy_images[pepper_mask] = 0\n",
    "\n",
    "    return noisy_images"
   ]
  },
  {
   "cell_type": "code",
   "execution_count": 44,
   "id": "c9b62967-bcc3-47e9-b3f7-f492de7edaf9",
   "metadata": {},
   "outputs": [],
   "source": [
    "(x_train, _), (x_test, _) = mnist.load_data()"
   ]
  },
  {
   "cell_type": "code",
   "execution_count": 45,
   "id": "2212c3d8-0026-4757-a162-a8834b338605",
   "metadata": {},
   "outputs": [],
   "source": [
    "x_train_noisy = add_salt_and_pepper_noise(x_train, salt_prob=0.05, pepper_prob=0.05)\n",
    "x_test_noisy = add_salt_and_pepper_noise(x_test, salt_prob=0.05, pepper_prob=0.05)"
   ]
  },
  {
   "cell_type": "code",
   "execution_count": 46,
   "id": "d1473906-fb05-4fae-81e2-a64591670df0",
   "metadata": {},
   "outputs": [
    {
     "name": "stdout",
     "output_type": "stream",
     "text": [
      "(60000, 784)\n",
      "(10000, 784)\n"
     ]
    }
   ],
   "source": [
    "x_train = x_train.astype('float32') / 255\n",
    "x_test = x_test.astype('float32') / 255\n",
    "x_train = x_train.reshape((len(x_train), np.prod(x_train.shape[1:])))\n",
    "x_test = x_test.reshape((len(x_test), np.prod(x_test.shape[1:])))\n",
    "print(x_train.shape)\n",
    "print(x_test.shape)"
   ]
  },
  {
   "cell_type": "code",
   "execution_count": 47,
   "id": "6b3d60cf-46d4-4eeb-9803-1073f5800932",
   "metadata": {},
   "outputs": [
    {
     "data": {
      "text/plain": [
       "Text(0.5, 1.0, 'Original Image')"
      ]
     },
     "execution_count": 47,
     "metadata": {},
     "output_type": "execute_result"
    },
    {
     "data": {
      "image/png": "[encoded data removed]",
      "text/plain": [
       "<Figure size 300x300 with 1 Axes>"
      ]
     },
     "metadata": {},
     "output_type": "display_data"
    }
   ],
   "source": [
    "plt.figure(figsize=(3,3))\n",
    "plt.subplot(1,3,1)\n",
    "plt.imshow(x_test[10].reshape(28,-1),cmap='gray')\n",
    "plt.xticks([])\n",
    "plt.yticks([])\n",
    "plt.title('Original Image')"
   ]
  },
  {
   "cell_type": "code",
   "execution_count": 48,
   "id": "c329c3bd-eaee-4577-8722-1421c902ef16",
   "metadata": {},
   "outputs": [
    {
     "name": "stdout",
     "output_type": "stream",
     "text": [
      "(60000, 784)\n",
      "(10000, 784)\n"
     ]
    }
   ],
   "source": [
    "x_train_noisy = x_train_noisy.astype('float32') / 255\n",
    "x_test_noisy = x_test_noisy.astype('float32') / 255\n",
    "x_train_noisy = x_train_noisy.reshape((len(x_train), np.prod(x_train.shape[1:])))\n",
    "x_test_noisy = x_test_noisy.reshape((len(x_test), np.prod(x_test.shape[1:])))\n",
    "print(x_train_noisy.shape)\n",
    "print(x_test_noisy.shape)"
   ]
  },
  {
   "cell_type": "code",
   "execution_count": 49,
   "id": "c7f603d9-8d3e-4306-9836-bba1713d707d",
   "metadata": {},
   "outputs": [
    {
     "data": {
      "text/plain": [
       "Text(0.5, 1.0, 'Noise Image')"
      ]
     },
     "execution_count": 49,
     "metadata": {},
     "output_type": "execute_result"
    },
    {
     "data": {
      "image/png": "[encoded data removed]",
      "text/plain": [
       "<Figure size 300x300 with 1 Axes>"
      ]
     },
     "metadata": {},
     "output_type": "display_data"
    }
   ],
   "source": [
    "plt.figure(figsize=(3,3))\n",
    "plt.subplot(1,3,1)\n",
    "plt.imshow(x_test_noisy[10].reshape(28,-1),cmap='gray')\n",
    "plt.xticks([])\n",
    "plt.yticks([])\n",
    "plt.title('Noise Image')"
   ]
  },
  {
   "cell_type": "code",
   "execution_count": 50,
   "id": "63e6dfc6-f02e-43c1-ab0c-0bdb0f2975e5",
   "metadata": {},
   "outputs": [],
   "source": [
    "input_img = keras.Input(shape=(784,))\n",
    "encoded1 = layers.Dense(128, activation='relu')(input_img)\n",
    "encoded2= layers.Dense(64, activation='relu')(encoded1)\n",
    "encoded3 = layers.Dense(32, activation='relu')(encoded2)\n",
    "\n",
    "decoded1 = layers.Dense(64, activation='relu')(encoded3)\n",
    "decoded2= layers.Dense(128, activation='relu')(decoded1)\n",
    "decoded3 = layers.Dense(784, activation='sigmoid')(decoded2)"
   ]
  },
  {
   "cell_type": "code",
   "execution_count": 51,
   "id": "e2cace2a-a5c9-45b1-af3c-fe0a41200ca4",
   "metadata": {},
   "outputs": [],
   "source": [
    "encoder = keras.Model(input_img, encoded3)\n",
    "decoder = keras.Model(encoded3, decoded3)"
   ]
  },
  {
   "cell_type": "code",
   "execution_count": 52,
   "id": "b4866e4f-6f8b-4ee9-b5a4-8ca5264de743",
   "metadata": {},
   "outputs": [],
   "source": [
    "autoencoder = keras.Model(input_img, decoded3)\n",
    "autoencoder.compile(optimizer='adam', loss='binary_crossentropy', metrics=['accuracy'])"
   ]
  },
  {
   "cell_type": "code",
   "execution_count": 53,
   "id": "9d2f5d20-5509-4923-93b7-266a594eec79",
   "metadata": {},
   "outputs": [
    {
     "name": "stdout",
     "output_type": "stream",
     "text": [
      "Model: \"model_11\"\n",
      "_________________________________________________________________\n",
      " Layer (type)                Output Shape              Param #   \n",
      "=================================================================\n",
      " input_6 (InputLayer)        [(None, 784)]             0         \n",
      "                                                                 \n",
      " dense_12 (Dense)            (None, 128)               100480    \n",
      "                                                                 \n",
      " dense_13 (Dense)            (None, 64)                8256      \n",
      "                                                                 \n",
      " dense_14 (Dense)            (None, 32)                2080      \n",
      "                                                                 \n",
      " dense_15 (Dense)            (None, 64)                2112      \n",
      "                                                                 \n",
      " dense_16 (Dense)            (None, 128)               8320      \n",
      "                                                                 \n",
      " dense_17 (Dense)            (None, 784)               101136    \n",
      "                                                                 \n",
      "=================================================================\n",
      "Total params: 222384 (868.69 KB)\n",
      "Trainable params: 222384 (868.69 KB)\n",
      "Non-trainable params: 0 (0.00 Byte)\n",
      "_________________________________________________________________\n"
     ]
    }
   ],
   "source": [
    "autoencoder.summary()"
   ]
  },
  {
   "cell_type": "code",
   "execution_count": 54,
   "id": "340a4b77-6484-4bd4-a6e5-ef33222e7142",
   "metadata": {},
   "outputs": [
    {
     "name": "stdout",
     "output_type": "stream",
     "text": [
      "Epoch 1/50\n",
      "235/235 [==============================] - 5s 14ms/step - loss: 0.2524 - accuracy: 0.0089 - val_loss: 0.1758 - val_accuracy: 0.0075\n",
      "Epoch 2/50\n",
      "235/235 [==============================] - 3s 13ms/step - loss: 0.1604 - accuracy: 0.0100 - val_loss: 0.1473 - val_accuracy: 0.0138\n",
      "Epoch 3/50\n",
      "235/235 [==============================] - 3s 14ms/step - loss: 0.1420 - accuracy: 0.0127 - val_loss: 0.1351 - val_accuracy: 0.0141\n",
      "Epoch 4/50\n",
      "235/235 [==============================] - 3s 11ms/step - loss: 0.1331 - accuracy: 0.0120 - val_loss: 0.1284 - val_accuracy: 0.0107\n",
      "Epoch 5/50\n",
      "235/235 [==============================] - 3s 11ms/step - loss: 0.1273 - accuracy: 0.0117 - val_loss: 0.1237 - val_accuracy: 0.0110\n",
      "Epoch 6/50\n",
      "235/235 [==============================] - 3s 12ms/step - loss: 0.1231 - accuracy: 0.0125 - val_loss: 0.1201 - val_accuracy: 0.0124\n",
      "Epoch 7/50\n",
      "235/235 [==============================] - 3s 12ms/step - loss: 0.1202 - accuracy: 0.0132 - val_loss: 0.1193 - val_accuracy: 0.0115\n",
      "Epoch 8/50\n",
      "235/235 [==============================] - 3s 13ms/step - loss: 0.1180 - accuracy: 0.0137 - val_loss: 0.1162 - val_accuracy: 0.0137\n",
      "Epoch 9/50\n",
      "235/235 [==============================] - 3s 13ms/step - loss: 0.1163 - accuracy: 0.0135 - val_loss: 0.1146 - val_accuracy: 0.0107\n",
      "Epoch 10/50\n",
      "235/235 [==============================] - 3s 12ms/step - loss: 0.1147 - accuracy: 0.0130 - val_loss: 0.1133 - val_accuracy: 0.0137\n",
      "Epoch 11/50\n",
      "235/235 [==============================] - 3s 13ms/step - loss: 0.1133 - accuracy: 0.0135 - val_loss: 0.1117 - val_accuracy: 0.0130\n",
      "Epoch 12/50\n",
      "235/235 [==============================] - 3s 13ms/step - loss: 0.1120 - accuracy: 0.0136 - val_loss: 0.1109 - val_accuracy: 0.0136\n",
      "Epoch 13/50\n",
      "235/235 [==============================] - 3s 13ms/step - loss: 0.1107 - accuracy: 0.0138 - val_loss: 0.1102 - val_accuracy: 0.0124\n",
      "Epoch 14/50\n",
      "235/235 [==============================] - 3s 14ms/step - loss: 0.1097 - accuracy: 0.0134 - val_loss: 0.1087 - val_accuracy: 0.0111\n",
      "Epoch 15/50\n",
      "235/235 [==============================] - 3s 11ms/step - loss: 0.1086 - accuracy: 0.0134 - val_loss: 0.1078 - val_accuracy: 0.0139\n",
      "Epoch 16/50\n",
      "235/235 [==============================] - 3s 11ms/step - loss: 0.1077 - accuracy: 0.0129 - val_loss: 0.1068 - val_accuracy: 0.0137\n",
      "Epoch 17/50\n",
      "235/235 [==============================] - 3s 11ms/step - loss: 0.1068 - accuracy: 0.0126 - val_loss: 0.1065 - val_accuracy: 0.0119\n",
      "Epoch 18/50\n",
      "235/235 [==============================] - 3s 12ms/step - loss: 0.1058 - accuracy: 0.0134 - val_loss: 0.1054 - val_accuracy: 0.0132\n",
      "Epoch 19/50\n",
      "235/235 [==============================] - 3s 11ms/step - loss: 0.1049 - accuracy: 0.0128 - val_loss: 0.1047 - val_accuracy: 0.0105\n",
      "Epoch 20/50\n",
      "235/235 [==============================] - 3s 12ms/step - loss: 0.1044 - accuracy: 0.0121 - val_loss: 0.1042 - val_accuracy: 0.0147\n",
      "Epoch 21/50\n",
      "235/235 [==============================] - 3s 12ms/step - loss: 0.1038 - accuracy: 0.0126 - val_loss: 0.1039 - val_accuracy: 0.0126\n",
      "Epoch 22/50\n",
      "235/235 [==============================] - 3s 12ms/step - loss: 0.1034 - accuracy: 0.0123 - val_loss: 0.1031 - val_accuracy: 0.0103\n",
      "Epoch 23/50\n",
      "235/235 [==============================] - 3s 11ms/step - loss: 0.1028 - accuracy: 0.0125 - val_loss: 0.1030 - val_accuracy: 0.0131\n",
      "Epoch 24/50\n",
      "235/235 [==============================] - 3s 13ms/step - loss: 0.1024 - accuracy: 0.0125 - val_loss: 0.1025 - val_accuracy: 0.0100\n",
      "Epoch 25/50\n",
      "235/235 [==============================] - 3s 12ms/step - loss: 0.1021 - accuracy: 0.0127 - val_loss: 0.1024 - val_accuracy: 0.0096\n",
      "Epoch 26/50\n",
      "235/235 [==============================] - 3s 12ms/step - loss: 0.1018 - accuracy: 0.0129 - val_loss: 0.1018 - val_accuracy: 0.0106\n",
      "Epoch 27/50\n",
      "235/235 [==============================] - 3s 11ms/step - loss: 0.1015 - accuracy: 0.0126 - val_loss: 0.1018 - val_accuracy: 0.0131\n",
      "Epoch 28/50\n",
      "235/235 [==============================] - 3s 12ms/step - loss: 0.1012 - accuracy: 0.0125 - val_loss: 0.1015 - val_accuracy: 0.0142\n",
      "Epoch 29/50\n",
      "235/235 [==============================] - 3s 12ms/step - loss: 0.1010 - accuracy: 0.0129 - val_loss: 0.1014 - val_accuracy: 0.0133\n",
      "Epoch 30/50\n",
      "235/235 [==============================] - 3s 12ms/step - loss: 0.1007 - accuracy: 0.0138 - val_loss: 0.1013 - val_accuracy: 0.0128\n",
      "Epoch 31/50\n",
      "235/235 [==============================] - 3s 12ms/step - loss: 0.1005 - accuracy: 0.0134 - val_loss: 0.1007 - val_accuracy: 0.0140\n",
      "Epoch 32/50\n",
      "235/235 [==============================] - 3s 12ms/step - loss: 0.1002 - accuracy: 0.0127 - val_loss: 0.1005 - val_accuracy: 0.0127\n",
      "Epoch 33/50\n",
      "235/235 [==============================] - 3s 14ms/step - loss: 0.0999 - accuracy: 0.0134 - val_loss: 0.1001 - val_accuracy: 0.0144\n",
      "Epoch 34/50\n",
      "235/235 [==============================] - 3s 12ms/step - loss: 0.0998 - accuracy: 0.0135 - val_loss: 0.1003 - val_accuracy: 0.0127\n",
      "Epoch 35/50\n",
      "235/235 [==============================] - 3s 13ms/step - loss: 0.0997 - accuracy: 0.0133 - val_loss: 0.1001 - val_accuracy: 0.0148\n",
      "Epoch 36/50\n",
      "235/235 [==============================] - 3s 14ms/step - loss: 0.0993 - accuracy: 0.0130 - val_loss: 0.0999 - val_accuracy: 0.0125\n",
      "Epoch 37/50\n",
      "235/235 [==============================] - 3s 13ms/step - loss: 0.0990 - accuracy: 0.0128 - val_loss: 0.0996 - val_accuracy: 0.0155\n",
      "Epoch 38/50\n",
      "235/235 [==============================] - 3s 12ms/step - loss: 0.0988 - accuracy: 0.0130 - val_loss: 0.0991 - val_accuracy: 0.0120\n",
      "Epoch 39/50\n",
      "235/235 [==============================] - 3s 12ms/step - loss: 0.0986 - accuracy: 0.0124 - val_loss: 0.0992 - val_accuracy: 0.0144\n",
      "Epoch 40/50\n",
      "235/235 [==============================] - 3s 12ms/step - loss: 0.0984 - accuracy: 0.0135 - val_loss: 0.0991 - val_accuracy: 0.0131\n",
      "Epoch 41/50\n",
      "235/235 [==============================] - 3s 11ms/step - loss: 0.0982 - accuracy: 0.0134 - val_loss: 0.0986 - val_accuracy: 0.0131\n",
      "Epoch 42/50\n",
      "235/235 [==============================] - 3s 13ms/step - loss: 0.0981 - accuracy: 0.0132 - val_loss: 0.0989 - val_accuracy: 0.0144\n",
      "Epoch 43/50\n",
      "235/235 [==============================] - 3s 12ms/step - loss: 0.0980 - accuracy: 0.0131 - val_loss: 0.0985 - val_accuracy: 0.0144\n",
      "Epoch 44/50\n",
      "235/235 [==============================] - 3s 12ms/step - loss: 0.0978 - accuracy: 0.0125 - val_loss: 0.0985 - val_accuracy: 0.0173\n",
      "Epoch 45/50\n",
      "235/235 [==============================] - 3s 11ms/step - loss: 0.0977 - accuracy: 0.0132 - val_loss: 0.0988 - val_accuracy: 0.0116\n",
      "Epoch 46/50\n",
      "235/235 [==============================] - 3s 12ms/step - loss: 0.0976 - accuracy: 0.0131 - val_loss: 0.0981 - val_accuracy: 0.0139\n",
      "Epoch 47/50\n",
      "235/235 [==============================] - 3s 12ms/step - loss: 0.0974 - accuracy: 0.0132 - val_loss: 0.0981 - val_accuracy: 0.0119\n",
      "Epoch 48/50\n",
      "235/235 [==============================] - 3s 14ms/step - loss: 0.0972 - accuracy: 0.0132 - val_loss: 0.0980 - val_accuracy: 0.0146\n",
      "Epoch 49/50\n",
      "235/235 [==============================] - 3s 14ms/step - loss: 0.0972 - accuracy: 0.0133 - val_loss: 0.0978 - val_accuracy: 0.0157\n",
      "Epoch 50/50\n",
      "235/235 [==============================] - 3s 13ms/step - loss: 0.0970 - accuracy: 0.0128 - val_loss: 0.0980 - val_accuracy: 0.0138\n"
     ]
    },
    {
     "data": {
      "text/plain": [
       "<keras.src.callbacks.History at 0x17cd5409250>"
      ]
     },
     "execution_count": 54,
     "metadata": {},
     "output_type": "execute_result"
    }
   ],
   "source": [
    "autoencoder.fit(x_train_noisy, x_train,epochs=50,batch_size=256, validation_data=(x_test_noisy, x_test))"
   ]
  },
  {
   "cell_type": "code",
   "execution_count": null,
   "id": "5fba9b81-b82a-4ad3-8b1f-d4885d34df8e",
   "metadata": {},
   "outputs": [],
   "source": []
  },
  {
   "cell_type": "code",
   "execution_count": 55,
   "id": "761965ab-49b3-497b-9267-5d4fb05924cd",
   "metadata": {},
   "outputs": [],
   "source": [
    "img = x_test_noisy[0]"
   ]
  },
  {
   "cell_type": "code",
   "execution_count": 57,
   "id": "e59e60f1-8d50-487f-9b0c-e4f6567b268b",
   "metadata": {},
   "outputs": [
    {
     "data": {
      "image/png": "[encoded data removed]",
      "text/plain": [
       "<Figure size 640x480 with 1 Axes>"
      ]
     },
     "metadata": {},
     "output_type": "display_data"
    }
   ],
   "source": [
    "plt.imshow(img.reshape(28,-1), cmap='gray')\n",
    "plt.show()"
   ]
  },
  {
   "cell_type": "code",
   "execution_count": 60,
   "id": "db8e899d-e4bf-4056-9dfa-a082b64f5304",
   "metadata": {},
   "outputs": [
    {
     "name": "stdout",
     "output_type": "stream",
     "text": [
      "313/313 [==============================] - 1s 1ms/step\n",
      "313/313 [==============================] - 1s 2ms/step\n"
     ]
    }
   ],
   "source": [
    "encoded_imgs = encoder.predict(x_test_noisy)\n",
    "decoded_imgs = decoder.predict(encoded_imgs)\n",
    "\n",
    "# decoded_imgs = autoencoder.predict(x_test_noisy)"
   ]
  },
  {
   "cell_type": "code",
   "execution_count": 62,
   "id": "eccdc12a-7ebb-4b64-a17c-f2f5d519e143",
   "metadata": {},
   "outputs": [
    {
     "data": {
      "image/png": "[encoded data removed]",
      "text/plain": [
       "<Figure size 640x480 with 1 Axes>"
      ]
     },
     "metadata": {},
     "output_type": "display_data"
    }
   ],
   "source": [
    "plt.imshow(decoded_imgs[0].reshape(28,-1), cmap='gray')\n",
    "plt.show()"
   ]
  },
  {
   "cell_type": "code",
   "execution_count": 61,
   "id": "e930e957-7ee5-42b1-848d-3c71bb110b9e",
   "metadata": {},
   "outputs": [
    {
     "data": {
      "image/png": "[encoded data removed]",
      "text/plain": [
       "<Figure size 2000x400 with 20 Axes>"
      ]
     },
     "metadata": {},
     "output_type": "display_data"
    }
   ],
   "source": [
    "n = 10  \n",
    "plt.figure(figsize=(20, 4))\n",
    "for i in range(n):\n",
    "    # Display original\n",
    "    ax = plt.subplot(2, n, i + 1)\n",
    "    plt.imshow(x_test_noisy[i].reshape(28, 28))\n",
    "    plt.gray()\n",
    "    ax.get_xaxis().set_visible(False)\n",
    "    ax.get_yaxis().set_visible(False)\n",
    "\n",
    "    # Display reconstruction\n",
    "    ax = plt.subplot(2, n, i + 1 + n)\n",
    "    plt.imshow(decoded_imgs[i].reshape(28, 28))\n",
    "    plt.gray()\n",
    "    ax.get_xaxis().set_visible(False)\n",
    "    ax.get_yaxis().set_visible(False)\n",
    "plt.show()"
   ]
  },
  {
   "cell_type": "markdown",
   "id": "b220d5a8-27f3-4016-a070-542c3a94511b",
   "metadata": {},
   "source": [
    "## By Using the CNN Based Autoencoders"
   ]
  },
  {
   "cell_type": "code",
   "execution_count": 84,
   "id": "36ec3501-5a57-474a-8680-cf81ca620876",
   "metadata": {},
   "outputs": [
    {
     "name": "stdout",
     "output_type": "stream",
     "text": [
      "Model: \"model_13\"\n",
      "_________________________________________________________________\n",
      " Layer (type)                Output Shape              Param #   \n",
      "=================================================================\n",
      " input_14 (InputLayer)       [(None, 28, 28, 1)]       0         \n",
      "                                                                 \n",
      " conv2d_42 (Conv2D)          (None, 28, 28, 16)        160       \n",
      "                                                                 \n",
      " max_pooling2d_18 (MaxPooli  (None, 14, 14, 16)        0         \n",
      " ng2D)                                                           \n",
      "                                                                 \n",
      " conv2d_43 (Conv2D)          (None, 14, 14, 8)         1160      \n",
      "                                                                 \n",
      " max_pooling2d_19 (MaxPooli  (None, 7, 7, 8)           0         \n",
      " ng2D)                                                           \n",
      "                                                                 \n",
      " conv2d_44 (Conv2D)          (None, 7, 7, 8)           584       \n",
      "                                                                 \n",
      " max_pooling2d_20 (MaxPooli  (None, 4, 4, 8)           0         \n",
      " ng2D)                                                           \n",
      "                                                                 \n",
      " conv2d_45 (Conv2D)          (None, 4, 4, 8)           584       \n",
      "                                                                 \n",
      " up_sampling2d_18 (UpSampli  (None, 8, 8, 8)           0         \n",
      " ng2D)                                                           \n",
      "                                                                 \n",
      " conv2d_46 (Conv2D)          (None, 8, 8, 8)           584       \n",
      "                                                                 \n",
      " up_sampling2d_19 (UpSampli  (None, 16, 16, 8)         0         \n",
      " ng2D)                                                           \n",
      "                                                                 \n",
      " conv2d_47 (Conv2D)          (None, 14, 14, 16)        1168      \n",
      "                                                                 \n",
      " up_sampling2d_20 (UpSampli  (None, 28, 28, 16)        0         \n",
      " ng2D)                                                           \n",
      "                                                                 \n",
      " conv2d_48 (Conv2D)          (None, 28, 28, 1)         145       \n",
      "                                                                 \n",
      "=================================================================\n",
      "Total params: 4385 (17.13 KB)\n",
      "Trainable params: 4385 (17.13 KB)\n",
      "Non-trainable params: 0 (0.00 Byte)\n",
      "_________________________________________________________________\n"
     ]
    }
   ],
   "source": [
    "import keras\n",
    "from keras import layers\n",
    "\n",
    "input_img = keras.Input(shape=(28, 28, 1))\n",
    "\n",
    "x = layers.Conv2D(16, (3, 3), activation='relu', padding='same')(input_img)\n",
    "x = layers.MaxPooling2D((2, 2), padding='same')(x)\n",
    "x = layers.Conv2D(8, (3, 3), activation='relu', padding='same')(x)\n",
    "x = layers.MaxPooling2D((2, 2), padding='same')(x)\n",
    "x = layers.Conv2D(8, (3, 3), activation='relu', padding='same')(x)\n",
    "encoded = layers.MaxPooling2D((2, 2), padding='same')(x)\n",
    "\n",
    "\n",
    "x = layers.Conv2D(8, (3, 3), activation='relu', padding='same')(encoded)\n",
    "x = layers.UpSampling2D((2, 2))(x)\n",
    "x = layers.Conv2D(8, (3, 3), activation='relu', padding='same')(x)\n",
    "x = layers.UpSampling2D((2, 2))(x)\n",
    "x = layers.Conv2D(16, (3, 3), activation='relu')(x)\n",
    "x = layers.UpSampling2D((2, 2))(x)\n",
    "decoded = layers.Conv2D(1, (3, 3), activation='sigmoid', padding='same')(x)\n",
    "autoencoder = keras.Model(input_img, decoded)\n",
    "autoencoder.compile(optimizer='adam', loss='binary_crossentropy')\n",
    "autoencoder.summary()"
   ]
  },
  {
   "cell_type": "code",
   "execution_count": 85,
   "id": "806aec53-3502-479e-bc65-dec4d5a0e961",
   "metadata": {},
   "outputs": [],
   "source": [
    "(x_train, _), (x_test, _) = mnist.load_data()"
   ]
  },
  {
   "cell_type": "code",
   "execution_count": 86,
   "id": "49eb0033-b135-4461-bb03-45abd856d3fd",
   "metadata": {},
   "outputs": [],
   "source": [
    "x_train_noisy = add_salt_and_pepper_noise(x_train, salt_prob=0.05, pepper_prob=0.05)\n",
    "x_test_noisy = add_salt_and_pepper_noise(x_test, salt_prob=0.05, pepper_prob=0.05)"
   ]
  },
  {
   "cell_type": "code",
   "execution_count": 87,
   "id": "60aff60b-ffb0-43b9-a501-aef81329d785",
   "metadata": {},
   "outputs": [
    {
     "name": "stdout",
     "output_type": "stream",
     "text": [
      "(60000, 28, 28, 1)\n",
      "(10000, 28, 28, 1)\n"
     ]
    }
   ],
   "source": [
    "x_train = x_train.astype('float32') / 255\n",
    "x_test = x_test.astype('float32') / 255\n",
    "x_train = np.reshape(x_train, (len(x_train), 28, 28, 1))\n",
    "x_test = np.reshape(x_test, (len(x_test), 28, 28, 1))\n",
    "print(x_train.shape)\n",
    "print(x_test.shape)"
   ]
  },
  {
   "cell_type": "code",
   "execution_count": 88,
   "id": "2dd59ed6-936f-4811-ae6e-7da487bd4378",
   "metadata": {},
   "outputs": [
    {
     "name": "stdout",
     "output_type": "stream",
     "text": [
      "(60000, 28, 28, 1)\n",
      "(10000, 28, 28, 1)\n"
     ]
    }
   ],
   "source": [
    "x_train_noisy = x_train_noisy.astype('float32') / 255\n",
    "x_test_noisy = x_test_noisy.astype('float32') / 255\n",
    "x_train_noisy = np.reshape(x_train_noisy, (len(x_train), 28, 28, 1))\n",
    "x_test_noisy =  np.reshape(x_test_noisy, (len(x_test), 28, 28, 1))\n",
    "print(x_train_noisy.shape)\n",
    "print(x_test_noisy.shape)"
   ]
  },
  {
   "cell_type": "code",
   "execution_count": 89,
   "id": "7fe52ae5-3f18-4899-9c8f-99ff60bc09e2",
   "metadata": {},
   "outputs": [
    {
     "name": "stdout",
     "output_type": "stream",
     "text": [
      "Epoch 1/10\n",
      "469/469 [==============================] - 58s 116ms/step - loss: 0.2376 - val_loss: 0.1561\n",
      "Epoch 2/10\n",
      "469/469 [==============================] - 53s 112ms/step - loss: 0.1443 - val_loss: 0.1343\n",
      "Epoch 3/10\n",
      "469/469 [==============================] - 52s 110ms/step - loss: 0.1317 - val_loss: 0.1266\n",
      "Epoch 4/10\n",
      "469/469 [==============================] - 51s 108ms/step - loss: 0.1255 - val_loss: 0.1225\n",
      "Epoch 5/10\n",
      "469/469 [==============================] - 52s 110ms/step - loss: 0.1216 - val_loss: 0.1187\n",
      "Epoch 6/10\n",
      "469/469 [==============================] - 54s 114ms/step - loss: 0.1189 - val_loss: 0.1164\n",
      "Epoch 7/10\n",
      "469/469 [==============================] - 52s 111ms/step - loss: 0.1168 - val_loss: 0.1148\n",
      "Epoch 8/10\n",
      "469/469 [==============================] - 54s 114ms/step - loss: 0.1151 - val_loss: 0.1137\n",
      "Epoch 9/10\n",
      "469/469 [==============================] - 53s 114ms/step - loss: 0.1137 - val_loss: 0.1119\n",
      "Epoch 10/10\n",
      "469/469 [==============================] - 53s 114ms/step - loss: 0.1125 - val_loss: 0.1107\n"
     ]
    },
    {
     "data": {
      "text/plain": [
       "<keras.src.callbacks.History at 0x17cade25d90>"
      ]
     },
     "execution_count": 89,
     "metadata": {},
     "output_type": "execute_result"
    }
   ],
   "source": [
    "autoencoder.fit(x_train_noisy, x_train,\n",
    "                epochs=10,\n",
    "                batch_size=128,\n",
    "                validation_data=(x_test_noisy, x_test)\n",
    "                )"
   ]
  },
  {
   "cell_type": "code",
   "execution_count": 91,
   "id": "cd55f338-55ec-4c4e-8ea0-eb339c3e77e9",
   "metadata": {},
   "outputs": [
    {
     "name": "stdout",
     "output_type": "stream",
     "text": [
      "313/313 [==============================] - 4s 13ms/step\n"
     ]
    },
    {
     "data": {
      "image/png": "[encoded data removed]",
      "text/plain": [
       "<Figure size 2000x400 with 20 Axes>"
      ]
     },
     "metadata": {},
     "output_type": "display_data"
    }
   ],
   "source": [
    "decoded_imgs = autoencoder.predict(x_test_noisy)\n",
    "\n",
    "n = 10\n",
    "plt.figure(figsize=(20, 4))\n",
    "for i in range(1, n + 1):\n",
    "    # Display original\n",
    "    ax = plt.subplot(2, n, i)\n",
    "    plt.imshow(x_test_noisy[i].reshape(28, 28))\n",
    "    plt.gray()\n",
    "    ax.get_xaxis().set_visible(False)\n",
    "    ax.get_yaxis().set_visible(False)\n",
    "\n",
    "    # Display reconstruction\n",
    "    ax = plt.subplot(2, n, i + n)\n",
    "    plt.imshow(decoded_imgs[i].reshape(28, 28))\n",
    "    plt.gray()\n",
    "    ax.get_xaxis().set_visible(False)\n",
    "    ax.get_yaxis().set_visible(False)\n",
    "plt.show()"
   ]
  },
  {
   "cell_type": "code",
   "execution_count": null,
   "id": "9d554659-8203-46c9-ae27-3d82bc7cc22b",
   "metadata": {},
   "outputs": [],
   "source": []
  }
 ],
 "metadata": {
  "kernelspec": {
   "display_name": "Python 3",
   "language": "python",
   "name": "python3"
  },
  "language_info": {
   "codemirror_mode": {
    "name": "ipython",
    "version": 3
   },
   "file_extension": ".py",
   "mimetype": "text/x-python",
   "name": "python",
   "nbconvert_exporter": "python",
   "pygments_lexer": "ipython3",
   "version": "3.9.0"
  }
 },
 "nbformat": 4,
 "nbformat_minor": 5
}
