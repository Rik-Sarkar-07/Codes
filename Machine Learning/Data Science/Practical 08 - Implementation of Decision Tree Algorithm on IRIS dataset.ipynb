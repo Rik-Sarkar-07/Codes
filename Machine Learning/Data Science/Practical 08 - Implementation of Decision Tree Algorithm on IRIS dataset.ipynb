{
 "cells": [
  {
   "cell_type": "markdown",
   "id": "20575b8f-2026-4300-8a24-2ab7a9d413e1",
   "metadata": {},
   "source": [
    "# Practical 08 - Implementation of Decision Tree Algorithm on IRIS dataset"
   ]
  },
  {
   "cell_type": "markdown",
   "id": "a94026ba-88b4-4c8d-bcfc-83c22ca2faf7",
   "metadata": {},
   "source": [
    "## Introduction to Decision Tree"
   ]
  },
  {
   "cell_type": "markdown",
   "id": "610654a6-b14a-4a03-b46a-cdff8e51370e",
   "metadata": {},
   "source": [
    "### A Decision Tree is a supervised machine learning algorithm used for classification and regression tasks. It models decisions and their possible consequences in a tree-like structure, where each internal node represents a feature (attribute), each branch represents a decision rule, and each leaf node represents an outcome (class label). The algorithm recursively splits the dataset based on feature values to create branches, aiming to maximize information gain or minimize impurity (like Gini impurity or entropy). Decision Trees are intuitive, easy to interpret, and can handle both categorical and numerical data, making them popular in various applications, including finance, healthcare, and marketing."
   ]
  },
  {
   "cell_type": "markdown",
   "id": "eb6584b3-72c8-4110-b66b-73f6ea01103c",
   "metadata": {},
   "source": [
    "## Algorithm of Decision Tree"
   ]
  },
  {
   "cell_type": "markdown",
   "id": "88058207-2f5a-4351-80f8-2a4075279b41",
   "metadata": {},
   "source": [
    "### Here’s a step-by-step algorithm for building a Decision Tree for classification tasks:\n",
    "\n",
    "### Step 1: Data Preparation\n",
    "1. **Collect Data**: Gather the dataset containing features (independent variables) and the target variable (dependent variable).\n",
    "2. **Preprocess Data**:\n",
    "   - **Handle Missing Values**: Impute or remove missing values as necessary.\n",
    "   - **Encode Categorical Variables**: Convert categorical features into numerical format using techniques like one-hot encoding or label encoding.\n",
    "   - **Feature Scaling**: Not strictly necessary for decision trees, but can be applied if needed.\n",
    "\n",
    "### Step 2: Choose a Splitting Criterion\n",
    "3. **Select Splitting Criterion**: Choose a criterion to measure the quality of splits, such as:\n",
    "   - **Gini Impurity**: Measures the impurity of a split.\n",
    "   - **Entropy**: Measures the information gain from a split.\n",
    "   - **Mean Squared Error**: Used for regression trees.\n",
    "\n",
    "### Step 3: Tree Construction\n",
    "4. **Start from the Root Node**: Begin with the entire dataset as the root node.\n",
    "5. **Recursive Splitting**:\n",
    "   - For the current node, evaluate all features to determine the best split based on the chosen splitting criterion.\n",
    "   - Split the dataset into subsets based on the feature that provides the highest information gain (or lowest impurity).\n",
    "\n",
    "6. **Create Child Nodes**: For each subset created from the split, create child nodes. Repeat the process for each child node.\n",
    "\n",
    "### Step 4: Stopping Criteria\n",
    "7. **Check Stopping Conditions**: Stop the splitting process when any of the following conditions are met:\n",
    "   - All instances in the node belong to the same class (pure node).\n",
    "   - The maximum depth of the tree is reached.\n",
    "   - The number of instances in the node is less than a predefined threshold.\n",
    "   - No significant information gain can be achieved from further splits.\n",
    "\n",
    "### Step 5: Assign Labels\n",
    "8. **Assign Class Labels**: Once the stopping criteria are met, assign a class label to each leaf node based on the majority class of the instances in that node.\n",
    "\n",
    "### Step 6: Pruning (Optional)\n",
    "9. **Prune the Tree**: To avoid overfitting, prune the tree by removing nodes that provide little predictive power. This can be done through:\n",
    "   - **Cost Complexity Pruning**: Remove branches that have minimal impact on overall accuracy.\n",
    "   - **Post-Pruning**: Evaluate the tree on a validation set and remove nodes that reduce accuracy.\n",
    "\n",
    "### Step 7: Model Evaluation\n",
    "10. **Evaluate Model Performance**: Test the decision tree using a separate test dataset. Evaluate metrics such as accuracy, precision, recall, and F1-score to assess performance.\n",
    "\n",
    "### Summary of Decision Tree Steps:\n",
    "1. Prepare the dataset and preprocess.\n",
    "2. Choose a splitting criterion.\n",
    "3. Build the tree by recursively splitting the dataset.\n",
    "4. Check for stopping conditions.\n",
    "5. Assign class labels to leaf nodes.\n",
    "6. (Optional) Prune the tree to enhance generalization.\n",
    "7. Evaluate model performance.\n",
    "\n",
    "By following these steps, you can effectively construct a Decision Tree for classification tasks and ensure its robustness and interpretability."
   ]
  },
  {
   "cell_type": "code",
   "execution_count": 1,
   "id": "0e350570-961a-482a-ac50-a67028b74745",
   "metadata": {},
   "outputs": [],
   "source": [
    "import pandas as pd\n",
    "import numpy as np\n",
    "from sklearn.datasets import load_iris\n",
    "from sklearn.model_selection import train_test_split\n",
    "from sklearn.tree import DecisionTreeClassifier\n",
    "from sklearn.metrics import confusion_matrix, classification_report, accuracy_score\n",
    "import matplotlib.pyplot as plt\n",
    "import seaborn as sns"
   ]
  },
  {
   "cell_type": "code",
   "execution_count": 7,
   "id": "ef54bf8f-1d4e-4bfc-8e0e-9919049d413e",
   "metadata": {},
   "outputs": [
    {
     "data": {
      "text/html": [
       "<div>\n",
       "<style scoped>\n",
       "    .dataframe tbody tr th:only-of-type {\n",
       "        vertical-align: middle;\n",
       "    }\n",
       "\n",
       "    .dataframe tbody tr th {\n",
       "        vertical-align: top;\n",
       "    }\n",
       "\n",
       "    .dataframe thead th {\n",
       "        text-align: right;\n",
       "    }\n",
       "</style>\n",
       "<table border=\"1\" class=\"dataframe\">\n",
       "  <thead>\n",
       "    <tr style=\"text-align: right;\">\n",
       "      <th></th>\n",
       "      <th>sepallen</th>\n",
       "      <th>sepalwid</th>\n",
       "      <th>petallen</th>\n",
       "      <th>petalwid</th>\n",
       "      <th>label</th>\n",
       "    </tr>\n",
       "  </thead>\n",
       "  <tbody>\n",
       "    <tr>\n",
       "      <th>0</th>\n",
       "      <td>5.1</td>\n",
       "      <td>3.5</td>\n",
       "      <td>1.4</td>\n",
       "      <td>0.2</td>\n",
       "      <td>0</td>\n",
       "    </tr>\n",
       "    <tr>\n",
       "      <th>1</th>\n",
       "      <td>4.9</td>\n",
       "      <td>3.0</td>\n",
       "      <td>1.4</td>\n",
       "      <td>0.2</td>\n",
       "      <td>0</td>\n",
       "    </tr>\n",
       "    <tr>\n",
       "      <th>2</th>\n",
       "      <td>4.7</td>\n",
       "      <td>3.2</td>\n",
       "      <td>1.3</td>\n",
       "      <td>0.2</td>\n",
       "      <td>0</td>\n",
       "    </tr>\n",
       "    <tr>\n",
       "      <th>3</th>\n",
       "      <td>4.6</td>\n",
       "      <td>3.1</td>\n",
       "      <td>1.5</td>\n",
       "      <td>0.2</td>\n",
       "      <td>0</td>\n",
       "    </tr>\n",
       "    <tr>\n",
       "      <th>4</th>\n",
       "      <td>5.0</td>\n",
       "      <td>3.6</td>\n",
       "      <td>1.4</td>\n",
       "      <td>0.2</td>\n",
       "      <td>0</td>\n",
       "    </tr>\n",
       "  </tbody>\n",
       "</table>\n",
       "</div>"
      ],
      "text/plain": [
       "   sepallen  sepalwid  petallen  petalwid  label\n",
       "0       5.1       3.5       1.4       0.2      0\n",
       "1       4.9       3.0       1.4       0.2      0\n",
       "2       4.7       3.2       1.3       0.2      0\n",
       "3       4.6       3.1       1.5       0.2      0\n",
       "4       5.0       3.6       1.4       0.2      0"
      ]
     },
     "execution_count": 7,
     "metadata": {},
     "output_type": "execute_result"
    }
   ],
   "source": [
    "df=pd.read_csv('dataset/iris.csv')\n",
    "df.head()"
   ]
  },
  {
   "cell_type": "code",
   "execution_count": 9,
   "id": "81ff8c29-0a77-491f-a2d2-9ea81cbd0903",
   "metadata": {},
   "outputs": [],
   "source": [
    "X = df.iloc[:, :-1]  # All columns except the last one (label)\n",
    "y = df.iloc[:, -1]   # Only the last column (label)"
   ]
  },
  {
   "cell_type": "code",
   "execution_count": 10,
   "id": "9a7f5417-a631-4ec6-bb28-3eec012d024d",
   "metadata": {},
   "outputs": [],
   "source": [
    "X_train, X_test, y_train, y_test = train_test_split(X, y, test_size=0.2, random_state=42)"
   ]
  },
  {
   "cell_type": "code",
   "execution_count": 11,
   "id": "9a78a0c9-7827-44de-9f42-f206a40d55f0",
   "metadata": {},
   "outputs": [
    {
     "data": {
      "text/html": [
       "<style>#sk-container-id-1 {color: black;}#sk-container-id-1 pre{padding: 0;}#sk-container-id-1 div.sk-toggleable {background-color: white;}#sk-container-id-1 label.sk-toggleable__label {cursor: pointer;display: block;width: 100%;margin-bottom: 0;padding: 0.3em;box-sizing: border-box;text-align: center;}#sk-container-id-1 label.sk-toggleable__label-arrow:before {content: \"▸\";float: left;margin-right: 0.25em;color: #696969;}#sk-container-id-1 label.sk-toggleable__label-arrow:hover:before {color: black;}#sk-container-id-1 div.sk-estimator:hover label.sk-toggleable__label-arrow:before {color: black;}#sk-container-id-1 div.sk-toggleable__content {max-height: 0;max-width: 0;overflow: hidden;text-align: left;background-color: #f0f8ff;}#sk-container-id-1 div.sk-toggleable__content pre {margin: 0.2em;color: black;border-radius: 0.25em;background-color: #f0f8ff;}#sk-container-id-1 input.sk-toggleable__control:checked~div.sk-toggleable__content {max-height: 200px;max-width: 100%;overflow: auto;}#sk-container-id-1 input.sk-toggleable__control:checked~label.sk-toggleable__label-arrow:before {content: \"▾\";}#sk-container-id-1 div.sk-estimator input.sk-toggleable__control:checked~label.sk-toggleable__label {background-color: #d4ebff;}#sk-container-id-1 div.sk-label input.sk-toggleable__control:checked~label.sk-toggleable__label {background-color: #d4ebff;}#sk-container-id-1 input.sk-hidden--visually {border: 0;clip: rect(1px 1px 1px 1px);clip: rect(1px, 1px, 1px, 1px);height: 1px;margin: -1px;overflow: hidden;padding: 0;position: absolute;width: 1px;}#sk-container-id-1 div.sk-estimator {font-family: monospace;background-color: #f0f8ff;border: 1px dotted black;border-radius: 0.25em;box-sizing: border-box;margin-bottom: 0.5em;}#sk-container-id-1 div.sk-estimator:hover {background-color: #d4ebff;}#sk-container-id-1 div.sk-parallel-item::after {content: \"\";width: 100%;border-bottom: 1px solid gray;flex-grow: 1;}#sk-container-id-1 div.sk-label:hover label.sk-toggleable__label {background-color: #d4ebff;}#sk-container-id-1 div.sk-serial::before {content: \"\";position: absolute;border-left: 1px solid gray;box-sizing: border-box;top: 0;bottom: 0;left: 50%;z-index: 0;}#sk-container-id-1 div.sk-serial {display: flex;flex-direction: column;align-items: center;background-color: white;padding-right: 0.2em;padding-left: 0.2em;position: relative;}#sk-container-id-1 div.sk-item {position: relative;z-index: 1;}#sk-container-id-1 div.sk-parallel {display: flex;align-items: stretch;justify-content: center;background-color: white;position: relative;}#sk-container-id-1 div.sk-item::before, #sk-container-id-1 div.sk-parallel-item::before {content: \"\";position: absolute;border-left: 1px solid gray;box-sizing: border-box;top: 0;bottom: 0;left: 50%;z-index: -1;}#sk-container-id-1 div.sk-parallel-item {display: flex;flex-direction: column;z-index: 1;position: relative;background-color: white;}#sk-container-id-1 div.sk-parallel-item:first-child::after {align-self: flex-end;width: 50%;}#sk-container-id-1 div.sk-parallel-item:last-child::after {align-self: flex-start;width: 50%;}#sk-container-id-1 div.sk-parallel-item:only-child::after {width: 0;}#sk-container-id-1 div.sk-dashed-wrapped {border: 1px dashed gray;margin: 0 0.4em 0.5em 0.4em;box-sizing: border-box;padding-bottom: 0.4em;background-color: white;}#sk-container-id-1 div.sk-label label {font-family: monospace;font-weight: bold;display: inline-block;line-height: 1.2em;}#sk-container-id-1 div.sk-label-container {text-align: center;}#sk-container-id-1 div.sk-container {/* jupyter's `normalize.less` sets `[hidden] { display: none; }` but bootstrap.min.css set `[hidden] { display: none !important; }` so we also need the `!important` here to be able to override the default hidden behavior on the sphinx rendered scikit-learn.org. See: https://github.com/scikit-learn/scikit-learn/issues/21755 */display: inline-block !important;position: relative;}#sk-container-id-1 div.sk-text-repr-fallback {display: none;}</style><div id=\"sk-container-id-1\" class=\"sk-top-container\"><div class=\"sk-text-repr-fallback\"><pre>DecisionTreeClassifier(random_state=42)</pre><b>In a Jupyter environment, please rerun this cell to show the HTML representation or trust the notebook. <br />On GitHub, the HTML representation is unable to render, please try loading this page with nbviewer.org.</b></div><div class=\"sk-container\" hidden><div class=\"sk-item\"><div class=\"sk-estimator sk-toggleable\"><input class=\"sk-toggleable__control sk-hidden--visually\" id=\"sk-estimator-id-1\" type=\"checkbox\" checked><label for=\"sk-estimator-id-1\" class=\"sk-toggleable__label sk-toggleable__label-arrow\">DecisionTreeClassifier</label><div class=\"sk-toggleable__content\"><pre>DecisionTreeClassifier(random_state=42)</pre></div></div></div></div></div>"
      ],
      "text/plain": [
       "DecisionTreeClassifier(random_state=42)"
      ]
     },
     "execution_count": 11,
     "metadata": {},
     "output_type": "execute_result"
    }
   ],
   "source": [
    "dt_classifier = DecisionTreeClassifier(random_state=42)\n",
    "dt_classifier.fit(X_train, y_train)"
   ]
  },
  {
   "cell_type": "code",
   "execution_count": 12,
   "id": "b9971788-1f6b-438d-a218-5bd1bae1e8fe",
   "metadata": {},
   "outputs": [
    {
     "name": "stdout",
     "output_type": "stream",
     "text": [
      "Accuracy of Decision Tree: 100.00%\n",
      "\n",
      "Classification Report:\n",
      "               precision    recall  f1-score   support\n",
      "\n",
      "           0       1.00      1.00      1.00        10\n",
      "           1       1.00      1.00      1.00         9\n",
      "           2       1.00      1.00      1.00        11\n",
      "\n",
      "    accuracy                           1.00        30\n",
      "   macro avg       1.00      1.00      1.00        30\n",
      "weighted avg       1.00      1.00      1.00        30\n",
      "\n"
     ]
    }
   ],
   "source": [
    "y_pred = dt_classifier.predict(X_test)\n",
    "\n",
    "# Step 6: Evaluate the Model\n",
    "accuracy = accuracy_score(y_test, y_pred)\n",
    "print(f\"Accuracy of Decision Tree: {accuracy * 100:.2f}%\")\n",
    "print(\"\\nClassification Report:\\n\", classification_report(y_test, y_pred))\n"
   ]
  },
  {
   "cell_type": "code",
   "execution_count": 15,
   "id": "49b66f7c-3e00-48d8-b8ce-bf36b2592f4e",
   "metadata": {},
   "outputs": [
    {
     "name": "stdout",
     "output_type": "stream",
     "text": [
      "Accuracy of Decision Tree: 100.00%\n"
     ]
    },
    {
     "data": {
      "image/png": "[encoded data removed]",
      "text/plain": [
       "<Figure size 800x600 with 2 Axes>"
      ]
     },
     "metadata": {},
     "output_type": "display_data"
    }
   ],
   "source": [
    "print(f\"Accuracy of Decision Tree: {accuracy * 100:.2f}%\")\n",
    "cm = confusion_matrix(y_test, y_pred)\n",
    "\n",
    "plt.figure(figsize=(8, 6))\n",
    "sns.heatmap(cm, annot=True, fmt='d', cmap='Blues', xticklabels=iris.target_names, yticklabels=iris.target_names)\n",
    "plt.xlabel('Predicted')\n",
    "plt.ylabel('True')\n",
    "plt.title('Confusion Matrix for Decision Tree on Iris Dataset')\n",
    "plt.show()"
   ]
  },
  {
   "cell_type": "code",
   "execution_count": null,
   "id": "5fc9eed6-0d0b-49cc-b8ab-38b34a115a27",
   "metadata": {},
   "outputs": [],
   "source": []
  }
 ],
 "metadata": {
  "kernelspec": {
   "display_name": "Python 3",
   "language": "python",
   "name": "python3"
  },
  "language_info": {
   "codemirror_mode": {
    "name": "ipython",
    "version": 3
   },
   "file_extension": ".py",
   "mimetype": "text/x-python",
   "name": "python",
   "nbconvert_exporter": "python",
   "pygments_lexer": "ipython3",
   "version": "3.9.0"
  }
 },
 "nbformat": 4,
 "nbformat_minor": 5
}
