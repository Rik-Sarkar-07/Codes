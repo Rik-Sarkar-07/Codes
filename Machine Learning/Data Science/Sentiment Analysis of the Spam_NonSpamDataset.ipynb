{
 "cells": [
  {
   "cell_type": "markdown",
   "id": "08522720-aacf-460a-92f4-680e3078aaed",
   "metadata": {},
   "source": [
    "# 16. Sentiment Analysis of the Spam_NonSpam Dataset"
   ]
  },
  {
   "cell_type": "markdown",
   "id": "36c529f7-6072-44c1-8c8f-d289fcb9d1f3",
   "metadata": {},
   "source": [
    "## 16A. Sentiment Analysis by using RNNs"
   ]
  },
  {
   "cell_type": "code",
   "execution_count": 1,
   "id": "4f0b54d9-b3b8-4c4d-b7d8-fa8c560fac18",
   "metadata": {},
   "outputs": [],
   "source": [
    "import pandas as pd\n",
    "import numpy as np\n",
    "import matplotlib.pyplot as plt\n",
    "import seaborn as sns\n",
    "from sklearn.model_selection import train_test_split\n",
    "from sklearn.preprocessing import LabelEncoder\n",
    "from sklearn.metrics import confusion_matrix, classification_report\n",
    "from keras.preprocessing.text import Tokenizer\n",
    "from keras.preprocessing.sequence import pad_sequences\n",
    "from keras.models import Sequential\n",
    "from keras.layers import Embedding, SimpleRNN, Dense, Dropout,LSTM\n",
    "from keras.optimizers import Adam\n",
    "from keras.utils import to_categorical"
   ]
  },
  {
   "cell_type": "code",
   "execution_count": 2,
   "id": "8d1fea02-f305-47ba-b968-b42433c06271",
   "metadata": {},
   "outputs": [
    {
     "name": "stdout",
     "output_type": "stream",
     "text": [
      "                                               email  label\n",
      "0   date wed NUMBER aug NUMBER NUMBER NUMBER NUMB...      0\n",
      "1  martin a posted tassos papadopoulos the greek ...      0\n",
      "2  man threatens explosion in moscow thursday aug...      0\n",
      "3  klez the virus that won t die already the most...      0\n",
      "4   in adding cream to spaghetti carbonara which ...      0\n"
     ]
    }
   ],
   "source": [
    "df = pd.read_csv('dataset/spam_or_not_spam.csv')\n",
    "print(df.head())\n"
   ]
  },
  {
   "cell_type": "code",
   "execution_count": 3,
   "id": "599c53fe-517a-47f4-b662-8b4f9ea86960",
   "metadata": {},
   "outputs": [],
   "source": [
    "X = df['email'].fillna('').values  \n",
    "y = df['label'].values "
   ]
  },
  {
   "cell_type": "code",
   "execution_count": 4,
   "id": "f06afa94-ae1a-426b-a073-d37116708676",
   "metadata": {},
   "outputs": [],
   "source": [
    "label_encoder = LabelEncoder()\n",
    "y = label_encoder.fit_transform(y)\n",
    "y = to_categorical(y, num_classes=2)"
   ]
  },
  {
   "cell_type": "code",
   "execution_count": 5,
   "id": "45762810-df7e-4135-8f25-3fdb1f58bae4",
   "metadata": {},
   "outputs": [],
   "source": [
    "X_train, X_test, y_train, y_test = train_test_split(X, y, test_size=0.2, random_state=42)\n"
   ]
  },
  {
   "cell_type": "code",
   "execution_count": 6,
   "id": "166f5a9a-b858-404d-9edb-38ff05fbe5cd",
   "metadata": {},
   "outputs": [],
   "source": [
    "max_vocab_size = 10000  \n",
    "max_sequence_length = 200 \n",
    "\n",
    "tokenizer = Tokenizer(num_words=max_vocab_size)\n",
    "tokenizer.fit_on_texts(X_train)\n",
    "\n",
    "X_train_seq = tokenizer.texts_to_sequences(X_train)\n",
    "X_test_seq = tokenizer.texts_to_sequences(X_test)\n",
    "\n",
    "X_train_padded = pad_sequences(X_train_seq, maxlen=max_sequence_length)\n",
    "X_test_padded = pad_sequences(X_test_seq, maxlen=max_sequence_length)"
   ]
  },
  {
   "cell_type": "code",
   "execution_count": 7,
   "id": "80f142a8-7bc5-4b97-8068-ea3cc76fdfb5",
   "metadata": {},
   "outputs": [
    {
     "name": "stdout",
     "output_type": "stream",
     "text": [
      "Model: \"sequential\"\n",
      "_________________________________________________________________\n",
      " Layer (type)                Output Shape              Param #   \n",
      "=================================================================\n",
      " embedding (Embedding)       (None, 200, 128)          1280000   \n",
      "                                                                 \n",
      " simple_rnn (SimpleRNN)      (None, 200, 64)           12352     \n",
      "                                                                 \n",
      " dropout (Dropout)           (None, 200, 64)           0         \n",
      "                                                                 \n",
      " simple_rnn_1 (SimpleRNN)    (None, 32)                3104      \n",
      "                                                                 \n",
      " dropout_1 (Dropout)         (None, 32)                0         \n",
      "                                                                 \n",
      " dense (Dense)               (None, 2)                 66        \n",
      "                                                                 \n",
      "=================================================================\n",
      "Total params: 1295522 (4.94 MB)\n",
      "Trainable params: 1295522 (4.94 MB)\n",
      "Non-trainable params: 0 (0.00 Byte)\n",
      "_________________________________________________________________\n"
     ]
    }
   ],
   "source": [
    "model = Sequential()\n",
    "\n",
    "model.add(Embedding(input_dim=max_vocab_size, output_dim=128, input_length=max_sequence_length))\n",
    "model.add(SimpleRNN(units=64, activation='relu', return_sequences=True))\n",
    "model.add(Dropout(0.25))\n",
    "model.add(SimpleRNN(units=32, activation='relu', return_sequences=False))\n",
    "model.add(Dropout(0.25))\n",
    "model.add(Dense(2, activation='softmax'))\n",
    "\n",
    "model.summary()"
   ]
  },
  {
   "cell_type": "code",
   "execution_count": 8,
   "id": "018764dc-8b34-492d-9b89-c18f16bb76c6",
   "metadata": {},
   "outputs": [],
   "source": [
    "model.compile(optimizer=Adam(learning_rate=0.001), loss='categorical_crossentropy', metrics=['accuracy'])"
   ]
  },
  {
   "cell_type": "code",
   "execution_count": 9,
   "id": "749c6285-2100-42af-8961-e09362abd49d",
   "metadata": {},
   "outputs": [
    {
     "name": "stdout",
     "output_type": "stream",
     "text": [
      "Epoch 1/20\n",
      "38/38 [==============================] - 12s 229ms/step - loss: 0.4199 - accuracy: 0.8292 - val_loss: 0.2568 - val_accuracy: 0.8417\n",
      "Epoch 2/20\n",
      "38/38 [==============================] - 8s 220ms/step - loss: 0.2097 - accuracy: 0.8492 - val_loss: 0.1510 - val_accuracy: 0.9433\n",
      "Epoch 3/20\n",
      "38/38 [==============================] - 8s 202ms/step - loss: 0.2101 - accuracy: 0.9542 - val_loss: 0.0938 - val_accuracy: 0.9650\n",
      "Epoch 4/20\n",
      "38/38 [==============================] - 7s 185ms/step - loss: 0.0699 - accuracy: 0.9771 - val_loss: 0.0628 - val_accuracy: 0.9783\n",
      "Epoch 5/20\n",
      "38/38 [==============================] - 7s 181ms/step - loss: 0.0140 - accuracy: 0.9958 - val_loss: 0.0690 - val_accuracy: 0.9833\n",
      "Epoch 6/20\n",
      "38/38 [==============================] - 7s 180ms/step - loss: 0.0070 - accuracy: 0.9967 - val_loss: 0.0745 - val_accuracy: 0.9800\n",
      "Epoch 7/20\n",
      "38/38 [==============================] - 7s 183ms/step - loss: 0.0034 - accuracy: 0.9979 - val_loss: 0.0909 - val_accuracy: 0.9867\n",
      "Epoch 8/20\n",
      "38/38 [==============================] - 7s 181ms/step - loss: 0.0029 - accuracy: 0.9992 - val_loss: 0.0705 - val_accuracy: 0.9867\n",
      "Epoch 9/20\n",
      "38/38 [==============================] - 7s 182ms/step - loss: 0.0030 - accuracy: 0.9992 - val_loss: 0.0747 - val_accuracy: 0.9833\n",
      "Epoch 10/20\n",
      "38/38 [==============================] - 7s 180ms/step - loss: 0.0018 - accuracy: 0.9996 - val_loss: 0.0811 - val_accuracy: 0.9867\n",
      "Epoch 11/20\n",
      "38/38 [==============================] - 7s 179ms/step - loss: 0.0014 - accuracy: 0.9996 - val_loss: 0.0876 - val_accuracy: 0.9867\n",
      "Epoch 12/20\n",
      "38/38 [==============================] - 7s 181ms/step - loss: 0.0015 - accuracy: 0.9996 - val_loss: 0.0874 - val_accuracy: 0.9867\n",
      "Epoch 13/20\n",
      "38/38 [==============================] - 7s 182ms/step - loss: 0.0013 - accuracy: 0.9996 - val_loss: 0.0906 - val_accuracy: 0.9867\n",
      "Epoch 14/20\n",
      "38/38 [==============================] - 7s 181ms/step - loss: 9.7693e-04 - accuracy: 0.9996 - val_loss: 0.0922 - val_accuracy: 0.9867\n",
      "Epoch 15/20\n",
      "38/38 [==============================] - 7s 182ms/step - loss: 0.0014 - accuracy: 0.9996 - val_loss: 0.0927 - val_accuracy: 0.9867\n",
      "Epoch 16/20\n",
      "38/38 [==============================] - 8s 198ms/step - loss: 0.0017 - accuracy: 0.9996 - val_loss: 0.0974 - val_accuracy: 0.9900\n",
      "Epoch 17/20\n",
      "38/38 [==============================] - 8s 207ms/step - loss: 0.0012 - accuracy: 0.9996 - val_loss: 0.0943 - val_accuracy: 0.9867\n",
      "Epoch 18/20\n",
      "38/38 [==============================] - 8s 212ms/step - loss: 0.0011 - accuracy: 0.9996 - val_loss: 0.0956 - val_accuracy: 0.9900\n",
      "Epoch 19/20\n",
      "38/38 [==============================] - 7s 190ms/step - loss: 0.0017 - accuracy: 0.9992 - val_loss: 0.0986 - val_accuracy: 0.9883\n",
      "Epoch 20/20\n",
      "38/38 [==============================] - 7s 188ms/step - loss: 0.0013 - accuracy: 0.9996 - val_loss: 0.1029 - val_accuracy: 0.9883\n"
     ]
    }
   ],
   "source": [
    "history = model.fit(X_train_padded, y_train, epochs=20, batch_size=64, validation_data=(X_test_padded, y_test))\n"
   ]
  },
  {
   "cell_type": "code",
   "execution_count": 10,
   "id": "03104003-b439-4255-aa53-e4500e2e46c4",
   "metadata": {},
   "outputs": [
    {
     "data": {
      "image/png": "[encoded data removed]",
      "text/plain": [
       "<Figure size 1200x500 with 2 Axes>"
      ]
     },
     "metadata": {},
     "output_type": "display_data"
    }
   ],
   "source": [
    "plt.figure(figsize=(12, 5))\n",
    "\n",
    "# Accuracy plot\n",
    "plt.subplot(1, 2, 1)\n",
    "plt.plot(history.history['accuracy'], label='Train Accuracy')\n",
    "plt.plot(history.history['val_accuracy'], label='Test Accuracy')\n",
    "plt.title('Accuracy during Training')\n",
    "plt.xlabel('Epochs')\n",
    "plt.ylabel('Accuracy')\n",
    "plt.legend()\n",
    "\n",
    "# Loss plot\n",
    "plt.subplot(1, 2, 2)\n",
    "plt.plot(history.history['loss'], label='Train Loss')\n",
    "plt.plot(history.history['val_loss'], label='Test Loss')\n",
    "plt.title('Loss during Training')\n",
    "plt.xlabel('Epochs')\n",
    "plt.ylabel('Loss')\n",
    "plt.legend()\n",
    "\n",
    "plt.show()\n"
   ]
  },
  {
   "cell_type": "code",
   "execution_count": 11,
   "id": "0649055b-f4cb-48f6-a300-71d687f478c2",
   "metadata": {},
   "outputs": [
    {
     "name": "stdout",
     "output_type": "stream",
     "text": [
      "19/19 [==============================] - 2s 56ms/step\n"
     ]
    }
   ],
   "source": [
    "y_pred = model.predict(X_test_padded)\n",
    "y_pred = np.argmax(y_pred, axis=1)"
   ]
  },
  {
   "cell_type": "code",
   "execution_count": 12,
   "id": "733cc573-3cad-4db0-8f90-4a0cb756d4c2",
   "metadata": {},
   "outputs": [],
   "source": [
    "y_test_labels = np.argmax(y_test, axis=1)"
   ]
  },
  {
   "cell_type": "code",
   "execution_count": 13,
   "id": "12ded433-d8c2-494c-b2d4-bf34fcf62d0e",
   "metadata": {},
   "outputs": [
    {
     "name": "stdout",
     "output_type": "stream",
     "text": [
      "Confusion Matrix:\n",
      "[[502   3]\n",
      " [  4  91]]\n"
     ]
    }
   ],
   "source": [
    "conf_matrix = confusion_matrix(y_test_labels, y_pred)\n",
    "print('Confusion Matrix:')\n",
    "print(conf_matrix)\n"
   ]
  },
  {
   "cell_type": "code",
   "execution_count": 14,
   "id": "305f09d4-8f8b-485e-a421-a2eadc284cc6",
   "metadata": {},
   "outputs": [
    {
     "name": "stdout",
     "output_type": "stream",
     "text": [
      "Classification Report:\n",
      "              precision    recall  f1-score   support\n",
      "\n",
      "           0       0.99      0.99      0.99       505\n",
      "           1       0.97      0.96      0.96        95\n",
      "\n",
      "    accuracy                           0.99       600\n",
      "   macro avg       0.98      0.98      0.98       600\n",
      "weighted avg       0.99      0.99      0.99       600\n",
      "\n"
     ]
    }
   ],
   "source": [
    "print('Classification Report:')\n",
    "print(classification_report(y_test_labels, y_pred))"
   ]
  },
  {
   "cell_type": "code",
   "execution_count": 15,
   "id": "5aa42f78-0c19-480e-a539-a4b13c0f2f46",
   "metadata": {},
   "outputs": [
    {
     "name": "stdout",
     "output_type": "stream",
     "text": [
      "19/19 [==============================] - 1s 41ms/step - loss: 0.1029 - accuracy: 0.9883\n",
      "Test Loss: 0.1029\n",
      "Test Accuracy: 0.9883\n"
     ]
    }
   ],
   "source": [
    "loss, accuracy = model.evaluate(X_test_padded, y_test)\n",
    "print(f\"Test Loss: {loss:.4f}\")\n",
    "print(f\"Test Accuracy: {accuracy:.4f}\")"
   ]
  },
  {
   "cell_type": "code",
   "execution_count": 16,
   "id": "40cd471f-11bd-49d9-99b8-8897d0b0bdcb",
   "metadata": {},
   "outputs": [
    {
     "name": "stdout",
     "output_type": "stream",
     "text": [
      "1/1 [==============================] - 0s 77ms/step\n"
     ]
    }
   ],
   "source": [
    "sentence = \"Congratulations! You have won a free prize, click here to claim your reward.\" \n",
    "sentence = [sentence] \n",
    "sequence = tokenizer.texts_to_sequences(sentence)\n",
    "max_sequence_length=200\n",
    "padded_sequence = pad_sequences(sequence, maxlen=max_sequence_length)\n",
    "prediction = model.predict(padded_sequence)"
   ]
  },
  {
   "cell_type": "code",
   "execution_count": 17,
   "id": "17daacc3-4cd6-4e5a-9c17-4c12391f2703",
   "metadata": {},
   "outputs": [
    {
     "name": "stdout",
     "output_type": "stream",
     "text": [
      "Spam\n"
     ]
    }
   ],
   "source": [
    "predicted_class = np.argmax(prediction, axis=1) \n",
    "\n",
    "if predicted_class == 1:\n",
    "    print(\"Spam\")\n",
    "else:\n",
    "   print(\"Non-Spam\")"
   ]
  },
  {
   "cell_type": "code",
   "execution_count": 18,
   "id": "3a6c309e-6e76-45d0-be9b-d649ec532405",
   "metadata": {},
   "outputs": [],
   "source": [
    "sentence = \"Dear Ram Kumar, I am Sudipta Sarkar Student of RKMRC\" \n",
    "sentence = [sentence] \n",
    "sequence = tokenizer.texts_to_sequences(sentence)\n",
    "max_sequence_length=200\n",
    "padded_sequence = pad_sequences(sequence, maxlen=max_sequence_length)"
   ]
  },
  {
   "cell_type": "code",
   "execution_count": 19,
   "id": "1a516fe0-a865-40a4-a7aa-eb82ab95a009",
   "metadata": {},
   "outputs": [
    {
     "name": "stdout",
     "output_type": "stream",
     "text": [
      "1/1 [==============================] - 0s 61ms/step\n"
     ]
    }
   ],
   "source": [
    "prediction = model.predict(padded_sequence)"
   ]
  },
  {
   "cell_type": "code",
   "execution_count": 20,
   "id": "151aee27-784a-4ab3-9c07-f4b89a96ccf8",
   "metadata": {},
   "outputs": [
    {
     "name": "stdout",
     "output_type": "stream",
     "text": [
      "Non-Spam\n"
     ]
    }
   ],
   "source": [
    "predicted_class = np.argmax(prediction, axis=1) \n",
    "\n",
    "if predicted_class == 1:\n",
    "    print(\"Spam\")\n",
    "else:\n",
    "   print(\"Non-Spam\")"
   ]
  },
  {
   "cell_type": "code",
   "execution_count": null,
   "id": "6ddaf355-d4f9-47f8-a160-8ab6aab88e81",
   "metadata": {},
   "outputs": [],
   "source": []
  },
  {
   "cell_type": "code",
   "execution_count": null,
   "id": "abf32585-ac2d-4f2a-bad8-dc5a81fe6e74",
   "metadata": {},
   "outputs": [],
   "source": []
  },
  {
   "cell_type": "markdown",
   "id": "d76c049a-e96e-4273-b977-e5467519e9f9",
   "metadata": {},
   "source": [
    "## 16B. Sentiment Analysis by using LSTMs"
   ]
  },
  {
   "cell_type": "code",
   "execution_count": 21,
   "id": "6a905393-c7a2-48cb-bb6d-1c867ea03525",
   "metadata": {},
   "outputs": [
    {
     "name": "stdout",
     "output_type": "stream",
     "text": [
      "                                               email  label\n",
      "0   date wed NUMBER aug NUMBER NUMBER NUMBER NUMB...      0\n",
      "1  martin a posted tassos papadopoulos the greek ...      0\n",
      "2  man threatens explosion in moscow thursday aug...      0\n",
      "3  klez the virus that won t die already the most...      0\n",
      "4   in adding cream to spaghetti carbonara which ...      0\n"
     ]
    }
   ],
   "source": [
    "df = pd.read_csv('dataset/spam_or_not_spam.csv')\n",
    "print(df.head())"
   ]
  },
  {
   "cell_type": "code",
   "execution_count": 22,
   "id": "900fa07d-058d-4067-bea8-e806b01ab9f1",
   "metadata": {},
   "outputs": [],
   "source": [
    "df['email'] = df['email'].fillna('')\n",
    "df['email'] = df['email'].astype(str)"
   ]
  },
  {
   "cell_type": "code",
   "execution_count": 23,
   "id": "e0005d77-1434-431c-96cd-4516ca561e68",
   "metadata": {},
   "outputs": [],
   "source": [
    "X = df['email'].values  \n",
    "y = df['label'].values  "
   ]
  },
  {
   "cell_type": "code",
   "execution_count": 24,
   "id": "e9f16aea-792c-4666-87d3-0b1834c0ae20",
   "metadata": {},
   "outputs": [],
   "source": [
    "label_encoder = LabelEncoder()\n",
    "y = label_encoder.fit_transform(y)\n",
    "y = to_categorical(y, num_classes=2)"
   ]
  },
  {
   "cell_type": "code",
   "execution_count": 25,
   "id": "56f38311-1be8-411e-b3d8-1e015cab9894",
   "metadata": {},
   "outputs": [],
   "source": [
    "X_train, X_test, y_train, y_test = train_test_split(X, y, test_size=0.2, random_state=42)"
   ]
  },
  {
   "cell_type": "code",
   "execution_count": 26,
   "id": "390fe739-cfe0-4e40-8196-a12e4aa8dc6e",
   "metadata": {},
   "outputs": [],
   "source": [
    "max_vocab_size = 10000  \n",
    "max_sequence_length = 200 "
   ]
  },
  {
   "cell_type": "code",
   "execution_count": 27,
   "id": "e29c2b97-1f13-401b-8bde-cc6c5e62a3ba",
   "metadata": {},
   "outputs": [],
   "source": [
    "tokenizer = Tokenizer(num_words=max_vocab_size)\n",
    "tokenizer.fit_on_texts(X_train)  \n",
    "X_train_seq = tokenizer.texts_to_sequences(X_train)\n",
    "X_test_seq = tokenizer.texts_to_sequences(X_test)\n",
    "\n",
    "X_train_padded = pad_sequences(X_train_seq, maxlen=max_sequence_length)\n",
    "X_test_padded = pad_sequences(X_test_seq, maxlen=max_sequence_length)"
   ]
  },
  {
   "cell_type": "code",
   "execution_count": null,
   "id": "b5908758-aead-4b6c-af2c-fe0c127a5df8",
   "metadata": {},
   "outputs": [],
   "source": []
  },
  {
   "cell_type": "code",
   "execution_count": 51,
   "id": "d544fb92-3417-474c-99ef-5fc072e6e62e",
   "metadata": {},
   "outputs": [
    {
     "name": "stdout",
     "output_type": "stream",
     "text": [
      "Model: \"sequential_3\"\n",
      "_________________________________________________________________\n",
      " Layer (type)                Output Shape              Param #   \n",
      "=================================================================\n",
      " embedding_3 (Embedding)     (None, 200, 128)          1280000   \n",
      "                                                                 \n",
      " lstm_2 (LSTM)               (None, 16)                9280      \n",
      "                                                                 \n",
      " dropout_4 (Dropout)         (None, 16)                0         \n",
      "                                                                 \n",
      " dense_3 (Dense)             (None, 2)                 34        \n",
      "                                                                 \n",
      "=================================================================\n",
      "Total params: 1289314 (4.92 MB)\n",
      "Trainable params: 1289314 (4.92 MB)\n",
      "Non-trainable params: 0 (0.00 Byte)\n",
      "_________________________________________________________________\n"
     ]
    }
   ],
   "source": [
    "model = Sequential()\n",
    "\n",
    "model.add(Embedding(input_dim=max_vocab_size, output_dim=128, input_length=max_sequence_length))\n",
    "\n",
    "model.add(LSTM(16, activation='relu', return_sequences=False))\n",
    "\n",
    "model.add(Dropout(0.5))\n",
    "\n",
    "model.add(Dense(2, activation='softmax'))\n",
    "\n",
    "model.summary()"
   ]
  },
  {
   "cell_type": "code",
   "execution_count": 52,
   "id": "d11ab890-357e-47e1-b8f8-7516cb8baad0",
   "metadata": {},
   "outputs": [],
   "source": [
    "model.compile(optimizer=Adam(learning_rate=0.001), loss='categorical_crossentropy', metrics=['accuracy'])"
   ]
  },
  {
   "cell_type": "code",
   "execution_count": 53,
   "id": "092a25ed-889a-41fa-b6d6-6b70d1c943bc",
   "metadata": {},
   "outputs": [
    {
     "name": "stdout",
     "output_type": "stream",
     "text": [
      "Epoch 1/10\n",
      "38/38 [==============================] - 10s 186ms/step - loss: 0.5616 - accuracy: 0.8208 - val_loss: 1.1547 - val_accuracy: 0.8417\n",
      "Epoch 2/10\n",
      "38/38 [==============================] - 6s 168ms/step - loss: 13.0110 - accuracy: 0.8288 - val_loss: 0.3060 - val_accuracy: 0.8417\n",
      "Epoch 3/10\n",
      "38/38 [==============================] - 6s 167ms/step - loss: 0.3039 - accuracy: 0.8333 - val_loss: 0.2676 - val_accuracy: 0.8417\n",
      "Epoch 4/10\n",
      "38/38 [==============================] - 6s 168ms/step - loss: 0.2694 - accuracy: 0.8367 - val_loss: 0.2397 - val_accuracy: 0.8433\n",
      "Epoch 5/10\n",
      "38/38 [==============================] - 6s 167ms/step - loss: 0.2361 - accuracy: 0.8404 - val_loss: 0.2122 - val_accuracy: 0.8500\n",
      "Epoch 6/10\n",
      "38/38 [==============================] - 6s 167ms/step - loss: 66.5737 - accuracy: 0.8625 - val_loss: 0.3044 - val_accuracy: 0.8817\n",
      "Epoch 7/10\n",
      "38/38 [==============================] - 6s 168ms/step - loss: 0.2937 - accuracy: 0.8900 - val_loss: 0.2721 - val_accuracy: 0.8900\n",
      "Epoch 8/10\n",
      "38/38 [==============================] - 6s 167ms/step - loss: 0.2564 - accuracy: 0.9008 - val_loss: 0.2235 - val_accuracy: 0.9183\n",
      "Epoch 9/10\n",
      "38/38 [==============================] - 6s 168ms/step - loss: 237496729600.0000 - accuracy: 0.9004 - val_loss: 0.1910 - val_accuracy: 0.8867\n",
      "Epoch 10/10\n",
      "38/38 [==============================] - 7s 172ms/step - loss: 0.1746 - accuracy: 0.8850 - val_loss: 5.6680 - val_accuracy: 0.9033\n"
     ]
    }
   ],
   "source": [
    "history = model.fit(X_train_padded, y_train, epochs=10, batch_size=64, validation_data=(X_test_padded, y_test))\n"
   ]
  },
  {
   "cell_type": "code",
   "execution_count": 54,
   "id": "1af8c5fc-f2de-441b-a813-a9c0b1b09112",
   "metadata": {},
   "outputs": [
    {
     "data": {
      "image/png": "[encoded data removed]",
      "text/plain": [
       "<Figure size 1200x500 with 2 Axes>"
      ]
     },
     "metadata": {},
     "output_type": "display_data"
    }
   ],
   "source": [
    "plt.figure(figsize=(12, 5))\n",
    "\n",
    "# Accuracy plot\n",
    "plt.subplot(1, 2, 1)\n",
    "plt.plot(history.history['accuracy'], label='Train Accuracy')\n",
    "plt.plot(history.history['val_accuracy'], label='Test Accuracy')\n",
    "plt.title('Accuracy during Training')\n",
    "plt.xlabel('Epochs')\n",
    "plt.ylabel('Accuracy')\n",
    "plt.legend()\n",
    "\n",
    "# Loss plot\n",
    "plt.subplot(1, 2, 2)\n",
    "plt.plot(history.history['loss'], label='Train Loss')\n",
    "plt.plot(history.history['val_loss'], label='Test Loss')\n",
    "plt.title('Loss during Training')\n",
    "plt.xlabel('Epochs')\n",
    "plt.ylabel('Loss')\n",
    "plt.legend()\n",
    "\n",
    "plt.show()\n"
   ]
  },
  {
   "cell_type": "code",
   "execution_count": 55,
   "id": "cc700a8d-a8a1-4fcd-bed4-47b68713cd68",
   "metadata": {},
   "outputs": [
    {
     "name": "stdout",
     "output_type": "stream",
     "text": [
      "19/19 [==============================] - 1s 39ms/step - loss: 5.6680 - accuracy: 0.9033\n",
      "Test Loss: 5.6680\n",
      "Test Accuracy: 0.9033\n"
     ]
    }
   ],
   "source": [
    "loss, accuracy = model.evaluate(X_test_padded, y_test)\n",
    "print(f\"Test Loss: {loss:.4f}\")\n",
    "print(f\"Test Accuracy: {accuracy:.4f}\")"
   ]
  },
  {
   "cell_type": "code",
   "execution_count": 56,
   "id": "b557edf6-d762-4c97-bea2-1e85ff6bd546",
   "metadata": {},
   "outputs": [
    {
     "name": "stdout",
     "output_type": "stream",
     "text": [
      "19/19 [==============================] - 1s 44ms/step\n",
      "Confusion Matrix:\n",
      "[[505   0]\n",
      " [ 58  37]]\n"
     ]
    }
   ],
   "source": [
    "y_pred_prob = model.predict(X_test_padded)\n",
    "y_pred = np.argmax(y_pred_prob, axis=1)\n",
    "y_true = np.argmax(y_test, axis=1) \n",
    "cm = confusion_matrix(y_true, y_pred)\n",
    "print(\"Confusion Matrix:\")\n",
    "print(cm)"
   ]
  },
  {
   "cell_type": "code",
   "execution_count": 57,
   "id": "99fe4910-af8e-4d1d-871d-fe8c64e0f826",
   "metadata": {},
   "outputs": [
    {
     "name": "stdout",
     "output_type": "stream",
     "text": [
      "\n",
      "Classification Report:\n",
      "              precision    recall  f1-score   support\n",
      "\n",
      "    Non-Spam       0.90      1.00      0.95       505\n",
      "        Spam       1.00      0.39      0.56        95\n",
      "\n",
      "    accuracy                           0.90       600\n",
      "   macro avg       0.95      0.69      0.75       600\n",
      "weighted avg       0.91      0.90      0.88       600\n",
      "\n"
     ]
    }
   ],
   "source": [
    "print(\"\\nClassification Report:\")\n",
    "print(classification_report(y_true, y_pred, target_names=[\"Non-Spam\", \"Spam\"]))"
   ]
  },
  {
   "cell_type": "code",
   "execution_count": 58,
   "id": "39ccbd65-9f16-4475-8572-e1fb7d46c5cc",
   "metadata": {},
   "outputs": [
    {
     "name": "stdout",
     "output_type": "stream",
     "text": [
      "1/1 [==============================] - 0s 62ms/step\n"
     ]
    }
   ],
   "source": [
    "sentence = \"Congratulations! You have won a free prize, click here to claim your reward.\" \n",
    "sentence = [sentence] \n",
    "sequence = tokenizer.texts_to_sequences(sentence)\n",
    "max_sequence_length=200\n",
    "padded_sequence = pad_sequences(sequence, maxlen=max_sequence_length)\n",
    "prediction = model.predict(padded_sequence)"
   ]
  },
  {
   "cell_type": "code",
   "execution_count": 59,
   "id": "d9ce890d-9dc3-4668-84e3-260123a71a9d",
   "metadata": {},
   "outputs": [
    {
     "name": "stdout",
     "output_type": "stream",
     "text": [
      "Non-Spam\n"
     ]
    }
   ],
   "source": [
    "predicted_class = np.argmax(prediction, axis=1) \n",
    "\n",
    "if predicted_class == 1:\n",
    "    print(\"Spam\")\n",
    "else:\n",
    "   print(\"Non-Spam\")"
   ]
  },
  {
   "cell_type": "code",
   "execution_count": 60,
   "id": "b98bfa07-9e6f-48ec-a1cb-8a9ccdf708f9",
   "metadata": {},
   "outputs": [
    {
     "name": "stdout",
     "output_type": "stream",
     "text": [
      "1/1 [==============================] - 0s 61ms/step\n"
     ]
    }
   ],
   "source": [
    "sentence = \"Dear Ram Kumar, I am Sudipta Sarkar Student of RKMRC\" \n",
    "sentence = [sentence] \n",
    "sequence = tokenizer.texts_to_sequences(sentence)\n",
    "max_sequence_length=200\n",
    "padded_sequence = pad_sequences(sequence, maxlen=max_sequence_length)\n",
    "prediction = model.predict(padded_sequence)"
   ]
  },
  {
   "cell_type": "code",
   "execution_count": 61,
   "id": "a1aa5319-5d3e-4d76-bde9-6ed48bd89446",
   "metadata": {},
   "outputs": [
    {
     "name": "stdout",
     "output_type": "stream",
     "text": [
      "Non-Spam\n"
     ]
    }
   ],
   "source": [
    "predicted_class = np.argmax(prediction, axis=1) \n",
    "\n",
    "if predicted_class == 1:\n",
    "    print(\"Spam\")\n",
    "else:\n",
    "   print(\"Non-Spam\")"
   ]
  },
  {
   "cell_type": "code",
   "execution_count": null,
   "id": "1ef914ae-50e2-4b35-a761-8bf1ac79a0c6",
   "metadata": {},
   "outputs": [],
   "source": []
  },
  {
   "cell_type": "code",
   "execution_count": null,
   "id": "b16a6f7b-4eb2-4e5c-b96a-b04d95ebb582",
   "metadata": {},
   "outputs": [],
   "source": []
  },
  {
   "cell_type": "code",
   "execution_count": null,
   "id": "48b8d661-5078-4349-9145-7e4e420ffbd0",
   "metadata": {},
   "outputs": [],
   "source": []
  }
 ],
 "metadata": {
  "kernelspec": {
   "display_name": "Python 3",
   "language": "python",
   "name": "python3"
  },
  "language_info": {
   "codemirror_mode": {
    "name": "ipython",
    "version": 3
   },
   "file_extension": ".py",
   "mimetype": "text/x-python",
   "name": "python",
   "nbconvert_exporter": "python",
   "pygments_lexer": "ipython3",
   "version": "3.9.0"
  }
 },
 "nbformat": 4,
 "nbformat_minor": 5
}
