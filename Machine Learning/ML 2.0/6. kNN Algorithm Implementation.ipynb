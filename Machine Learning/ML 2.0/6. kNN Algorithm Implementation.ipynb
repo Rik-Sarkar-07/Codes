{
 "cells": [
  {
   "cell_type": "markdown",
   "id": "b33e8b0a-1efb-44d3-a464-d121e445d403",
   "metadata": {},
   "source": [
    "# Algorithm of the kNN "
   ]
  },
  {
   "cell_type": "raw",
   "id": "5737930c-6b9b-40f8-8cf6-e72179bf64ac",
   "metadata": {},
   "source": [
    "Step 1. Read The Data.\n",
    "Step 2. Chose the suitable value of k.\n",
    "Step 3. Now compute the distances from the perdicted point to the all data points in the data set \n",
    "Step 4. Sort the distances in accending order .\n",
    "Step 5. Now take first k distances output labels.\n",
    "Step 6. Apply majority votting and select the maximum lebel found in top k distances\n",
    "Step 7. Predict the output lebel as the major lebel.\n",
    "Step 8. Stop."
   ]
  },
  {
   "cell_type": "code",
   "execution_count": 1,
   "id": "679ca447-a0e8-48fb-857c-d9c525ef6649",
   "metadata": {},
   "outputs": [],
   "source": [
    "import numpy as np"
   ]
  },
  {
   "cell_type": "code",
   "execution_count": 29,
   "id": "7169d81a-1a6e-4902-96de-a1651cc236b9",
   "metadata": {},
   "outputs": [],
   "source": [
    "class KNN:\n",
    "    def __init__(self, k=5):\n",
    "        self.k = k\n",
    "\n",
    "    def dist(self, x):\n",
    "        distances = [np.sum(np.abs(x - x_train)) for x_train in self.X_train]\n",
    "        print(distances)\n",
    "        \n",
    "    def fit(self, X_train, y_train):\n",
    "        self.X_train = np.array(X_train)\n",
    "        self.y_train = np.array(y_train)\n",
    "\n",
    "    def predict(self, X_test):\n",
    "        X_test = np.array(X_test)\n",
    "        predictions = [self._predict(x) for x in X_test]\n",
    "        return np.array(predictions)\n",
    "\n",
    "    def _predict(self, x):\n",
    "        distances = [np.sum(np.abs(x - x_train)) for x_train in self.X_train]\n",
    "        k_indices = np.argsort(distances)[:self.k]\n",
    "        k_nearest_labels = [self.y_train[i] for i in k_indices]\n",
    "        return self.most_common(k_nearest_labels)\n",
    "\n",
    "    def most_common(self, labels):\n",
    "        label_count = {}\n",
    "        for label in labels:\n",
    "            if label in label_count:\n",
    "                label_count[label] += 1\n",
    "            else:\n",
    "                label_count[label] = 1\n",
    "        most_common_label = max(label_count,key=label_count.get)\n",
    "        return most_common_label "
   ]
  },
  {
   "cell_type": "code",
   "execution_count": 30,
   "id": "6dfea1d2-47e4-4352-abc9-870347bb55fd",
   "metadata": {},
   "outputs": [],
   "source": [
    "X_train = [\n",
    "        [170, 85], [180, 80], [160, 95], [125, 90], [170, 105], [165, 70], [160, 75], [170,110]\n",
    "    ]\n",
    "y_train = [0, 0, 1, 1, 1, 0, 0, 1]"
   ]
  },
  {
   "cell_type": "code",
   "execution_count": 31,
   "id": "4a1a7ec1-eaa2-4d1a-bad7-2f6ce6bc538a",
   "metadata": {},
   "outputs": [
    {
     "name": "stdout",
     "output_type": "stream",
     "text": [
      "[1]\n"
     ]
    }
   ],
   "source": [
    "model = KNN(5)\n",
    "model.fit(X_train, y_train)\n",
    "X_test = [\n",
    "        [175, 90]\n",
    "    ]\n",
    "predictions = model.predict(X_test)\n",
    "print(predictions)"
   ]
  },
  {
   "cell_type": "code",
   "execution_count": 32,
   "id": "84220944-38f5-4a3f-8381-56ca13cad605",
   "metadata": {},
   "outputs": [
    {
     "name": "stdout",
     "output_type": "stream",
     "text": [
      "[0]\n"
     ]
    }
   ],
   "source": [
    "model = KNN(3)\n",
    "model.fit(X_train, y_train)\n",
    "X_test = [\n",
    "        [175, 90]\n",
    "    ]\n",
    "predictions = model.predict(X_test)\n",
    "print(predictions)"
   ]
  },
  {
   "cell_type": "code",
   "execution_count": 34,
   "id": "93ce0099-4a81-4882-a174-31a98394cbd3",
   "metadata": {},
   "outputs": [
    {
     "name": "stdout",
     "output_type": "stream",
     "text": [
      "Print All Distances\n",
      "[10, 15, 20, 50, 20, 30, 30, 25]\n"
     ]
    }
   ],
   "source": [
    "print(\"Print All Distances\")\n",
    "for i in X_test:\n",
    "        model.dist(i)"
   ]
  },
  {
   "cell_type": "code",
   "execution_count": null,
   "id": "65ca95e2-9ce0-4417-ab7d-9d9e5424591d",
   "metadata": {},
   "outputs": [],
   "source": []
  }
 ],
 "metadata": {
  "kernelspec": {
   "display_name": "Python 3",
   "language": "python",
   "name": "python3"
  },
  "language_info": {
   "codemirror_mode": {
    "name": "ipython",
    "version": 3
   },
   "file_extension": ".py",
   "mimetype": "text/x-python",
   "name": "python",
   "nbconvert_exporter": "python",
   "pygments_lexer": "ipython3",
   "version": "3.9.0"
  }
 },
 "nbformat": 4,
 "nbformat_minor": 5
}
