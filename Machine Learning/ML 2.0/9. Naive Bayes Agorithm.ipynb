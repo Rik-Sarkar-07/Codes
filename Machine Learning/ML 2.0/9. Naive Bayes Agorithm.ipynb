{
 "cells": [
  {
   "cell_type": "markdown",
   "id": "93d2bf6d-1fe8-4182-bf5e-9fb761ee63d2",
   "metadata": {},
   "source": [
    "# Naive Bayes Algorithm\n"
   ]
  },
  {
   "cell_type": "markdown",
   "id": "a4767455-815f-44eb-a213-6f7304eb886e",
   "metadata": {},
   "source": [
    "## Introduction"
   ]
  },
  {
   "cell_type": "raw",
   "id": "2ea2374a-d8f8-43e0-b1ca-4857d62ad11e",
   "metadata": {},
   "source": [
    "The Naive Bayes algorithm is a simple yet powerful machine learning model based on Bayes' theorem. It assumes that the features in a dataset are conditionally independent given the class label, which is a \"naive\" assumption. Despite this simplification, Naive Bayes performs well in various tasks, particularly in text classification, spam detection, and sentiment analysis. It works by calculating the probability of each class given the input features and predicting the class with the highest probability. Its simplicity, efficiency, and effectiveness make it popular for many applications."
   ]
  },
  {
   "cell_type": "markdown",
   "id": "7bc74b55-2425-4baf-abf4-ffff21c5a330",
   "metadata": {},
   "source": [
    "## Algorithm of Naive Bayes"
   ]
  },
  {
   "cell_type": "markdown",
   "id": "c47e1de9-6d6f-4c4f-99cb-91574474a160",
   "metadata": {},
   "source": [
    "1. **Data Collection:**\n",
    "   - Gather your dataset with labeled examples where each example has several features and a class label.\n",
    "\n",
    "2. **Preprocessing:**\n",
    "   - Clean the data, handle missing values, and convert any non-numeric data (e.g., text) into a numerical format.\n",
    "\n",
    "3. **Calculate Class Probabilities:**\n",
    "   - Determine how often each class appears in your dataset. This gives the probability of each class.\n",
    "\n",
    "4. **Calculate Feature Probabilities:**\n",
    "   - For each feature, count how often each value of the feature appears within each class. This tells you the likelihood of seeing each feature value in each class.\n",
    "\n",
    "5. **Combine Probabilities:**\n",
    "   - For a new example, consider each class and combine the probabilities of seeing the observed feature values with the class probabilities.\n",
    "\n",
    "6. **Class Prediction:**\n",
    "   - Choose the class that has the highest combined probability for the new example. This is the predicted class for the example.\n",
    "\n",
    "7. **Model Evaluation:**\n",
    "   - Test the model on a separate dataset and measure its performance using metrics like accuracy or precision.\n",
    "\n",
    "8. **Use the Model:**\n",
    "   - Apply the model to new, unseen data to make predictions."
   ]
  },
  {
   "cell_type": "markdown",
   "id": "f2a07677-2563-4a2d-acbe-61f73c74841b",
   "metadata": {},
   "source": [
    "## Implementation"
   ]
  },
  {
   "cell_type": "code",
   "execution_count": 1,
   "id": "40b5805d-e096-4353-a1ac-cc891075c06e",
   "metadata": {},
   "outputs": [],
   "source": [
    "import pandas as pd\n",
    "import numpy as np\n",
    "import matplotlib.pyplot as plt\n",
    "import warnings\n",
    "warnings.filterwarnings(\"ignore\")\n",
    "from sklearn.feature_extraction.text import CountVectorizer"
   ]
  },
  {
   "cell_type": "code",
   "execution_count": 2,
   "id": "d3640062-4a30-403d-bf90-16c2b91e053c",
   "metadata": {},
   "outputs": [
    {
     "data": {
      "text/html": [
       "<div>\n",
       "<style scoped>\n",
       "    .dataframe tbody tr th:only-of-type {\n",
       "        vertical-align: middle;\n",
       "    }\n",
       "\n",
       "    .dataframe tbody tr th {\n",
       "        vertical-align: top;\n",
       "    }\n",
       "\n",
       "    .dataframe thead th {\n",
       "        text-align: right;\n",
       "    }\n",
       "</style>\n",
       "<table border=\"1\" class=\"dataframe\">\n",
       "  <thead>\n",
       "    <tr style=\"text-align: right;\">\n",
       "      <th></th>\n",
       "      <th>email</th>\n",
       "      <th>label</th>\n",
       "    </tr>\n",
       "  </thead>\n",
       "  <tbody>\n",
       "    <tr>\n",
       "      <th>0</th>\n",
       "      <td>date wed NUMBER aug NUMBER NUMBER NUMBER NUMB...</td>\n",
       "      <td>0</td>\n",
       "    </tr>\n",
       "    <tr>\n",
       "      <th>1</th>\n",
       "      <td>martin a posted tassos papadopoulos the greek ...</td>\n",
       "      <td>0</td>\n",
       "    </tr>\n",
       "    <tr>\n",
       "      <th>2</th>\n",
       "      <td>man threatens explosion in moscow thursday aug...</td>\n",
       "      <td>0</td>\n",
       "    </tr>\n",
       "    <tr>\n",
       "      <th>3</th>\n",
       "      <td>klez the virus that won t die already the most...</td>\n",
       "      <td>0</td>\n",
       "    </tr>\n",
       "    <tr>\n",
       "      <th>4</th>\n",
       "      <td>in adding cream to spaghetti carbonara which ...</td>\n",
       "      <td>0</td>\n",
       "    </tr>\n",
       "  </tbody>\n",
       "</table>\n",
       "</div>"
      ],
      "text/plain": [
       "                                               email  label\n",
       "0   date wed NUMBER aug NUMBER NUMBER NUMBER NUMB...      0\n",
       "1  martin a posted tassos papadopoulos the greek ...      0\n",
       "2  man threatens explosion in moscow thursday aug...      0\n",
       "3  klez the virus that won t die already the most...      0\n",
       "4   in adding cream to spaghetti carbonara which ...      0"
      ]
     },
     "execution_count": 2,
     "metadata": {},
     "output_type": "execute_result"
    }
   ],
   "source": [
    "df=pd.read_csv('spam_or_not_spam.csv')\n",
    "df.head()"
   ]
  },
  {
   "cell_type": "code",
   "execution_count": 3,
   "id": "3f34f260-5edd-4f83-9e05-12fd12df8ba7",
   "metadata": {},
   "outputs": [],
   "source": [
    "df= df.fillna(' ')"
   ]
  },
  {
   "cell_type": "code",
   "execution_count": 4,
   "id": "2b8b0917-843c-4490-b5df-dd23e29f76a1",
   "metadata": {},
   "outputs": [
    {
     "data": {
      "text/html": [
       "<div>\n",
       "<style scoped>\n",
       "    .dataframe tbody tr th:only-of-type {\n",
       "        vertical-align: middle;\n",
       "    }\n",
       "\n",
       "    .dataframe tbody tr th {\n",
       "        vertical-align: top;\n",
       "    }\n",
       "\n",
       "    .dataframe thead th {\n",
       "        text-align: right;\n",
       "    }\n",
       "</style>\n",
       "<table border=\"1\" class=\"dataframe\">\n",
       "  <thead>\n",
       "    <tr style=\"text-align: right;\">\n",
       "      <th></th>\n",
       "      <th>label</th>\n",
       "    </tr>\n",
       "  </thead>\n",
       "  <tbody>\n",
       "    <tr>\n",
       "      <th>count</th>\n",
       "      <td>3000.000000</td>\n",
       "    </tr>\n",
       "    <tr>\n",
       "      <th>mean</th>\n",
       "      <td>0.166667</td>\n",
       "    </tr>\n",
       "    <tr>\n",
       "      <th>std</th>\n",
       "      <td>0.372740</td>\n",
       "    </tr>\n",
       "    <tr>\n",
       "      <th>min</th>\n",
       "      <td>0.000000</td>\n",
       "    </tr>\n",
       "    <tr>\n",
       "      <th>25%</th>\n",
       "      <td>0.000000</td>\n",
       "    </tr>\n",
       "    <tr>\n",
       "      <th>50%</th>\n",
       "      <td>0.000000</td>\n",
       "    </tr>\n",
       "    <tr>\n",
       "      <th>75%</th>\n",
       "      <td>0.000000</td>\n",
       "    </tr>\n",
       "    <tr>\n",
       "      <th>max</th>\n",
       "      <td>1.000000</td>\n",
       "    </tr>\n",
       "  </tbody>\n",
       "</table>\n",
       "</div>"
      ],
      "text/plain": [
       "             label\n",
       "count  3000.000000\n",
       "mean      0.166667\n",
       "std       0.372740\n",
       "min       0.000000\n",
       "25%       0.000000\n",
       "50%       0.000000\n",
       "75%       0.000000\n",
       "max       1.000000"
      ]
     },
     "execution_count": 4,
     "metadata": {},
     "output_type": "execute_result"
    }
   ],
   "source": [
    "df.describe()"
   ]
  },
  {
   "cell_type": "code",
   "execution_count": 5,
   "id": "9fc32d04-578d-4807-8b01-8375e187bd1f",
   "metadata": {},
   "outputs": [
    {
     "data": {
      "text/plain": [
       "Index(['email', 'label'], dtype='object')"
      ]
     },
     "execution_count": 5,
     "metadata": {},
     "output_type": "execute_result"
    }
   ],
   "source": [
    "df.columns"
   ]
  },
  {
   "cell_type": "code",
   "execution_count": 6,
   "id": "8b71874a-f928-465c-91f9-bcfcf1018587",
   "metadata": {},
   "outputs": [
    {
     "data": {
      "text/plain": [
       "label\n",
       "0    2500\n",
       "1     500\n",
       "Name: count, dtype: int64"
      ]
     },
     "execution_count": 6,
     "metadata": {},
     "output_type": "execute_result"
    }
   ],
   "source": [
    "df.label.value_counts()"
   ]
  },
  {
   "cell_type": "code",
   "execution_count": 7,
   "id": "d18eeeb5-b74a-47f6-a9c6-217b300e0c28",
   "metadata": {},
   "outputs": [],
   "source": [
    "x=df['email']"
   ]
  },
  {
   "cell_type": "code",
   "execution_count": 8,
   "id": "75828cfe-f762-4b70-9c3c-8cb37ea58788",
   "metadata": {},
   "outputs": [],
   "source": [
    "y=df['label']"
   ]
  },
  {
   "cell_type": "code",
   "execution_count": 9,
   "id": "60e3d12a-8952-4f73-a87e-7e7cb71fcadc",
   "metadata": {},
   "outputs": [],
   "source": [
    "from sklearn.model_selection import train_test_split\n",
    "x_train,x_test,y_train,y_test=train_test_split(x,y,test_size=0.2,random_state=10)"
   ]
  },
  {
   "cell_type": "code",
   "execution_count": 10,
   "id": "78a80079-cad5-495c-b60a-b17db9669974",
   "metadata": {},
   "outputs": [
    {
     "name": "stdout",
     "output_type": "stream",
     "text": [
      "(2400,) (600,)\n"
     ]
    }
   ],
   "source": [
    "print( x_train.shape, x_test.shape)"
   ]
  },
  {
   "cell_type": "code",
   "execution_count": 11,
   "id": "4fbaf4c7-7ae1-47a4-bca9-a57380ab7380",
   "metadata": {},
   "outputs": [
    {
     "data": {
      "text/plain": [
       "2592    get your favorite poker action at URL play aga...\n",
       "87      i need to setup a vpn between a few sites from...\n",
       "729      original message from john hall johnhall ever...\n",
       "1065    once upon a time harri wrote title page has a ...\n",
       "1998    url URL date NUMBER NUMBER NUMBERtNUMBER NUMBE...\n",
       "Name: email, dtype: object"
      ]
     },
     "execution_count": 11,
     "metadata": {},
     "output_type": "execute_result"
    }
   ],
   "source": [
    "x_train.head()"
   ]
  },
  {
   "cell_type": "code",
   "execution_count": 12,
   "id": "f63b000e-8a2a-4059-ace5-a86bb69b658e",
   "metadata": {},
   "outputs": [
    {
     "data": {
      "text/plain": [
       "2592    1\n",
       "87      0\n",
       "729     0\n",
       "1065    0\n",
       "1998    0\n",
       "Name: label, dtype: int64"
      ]
     },
     "execution_count": 12,
     "metadata": {},
     "output_type": "execute_result"
    }
   ],
   "source": [
    "y_train.head()"
   ]
  },
  {
   "cell_type": "code",
   "execution_count": 13,
   "id": "8f0f9309-913f-460c-a067-bb6f5356fd46",
   "metadata": {},
   "outputs": [],
   "source": [
    "vector=CountVectorizer()"
   ]
  },
  {
   "cell_type": "code",
   "execution_count": 14,
   "id": "8f751da5-3d58-4bb6-9938-a3d4f5c9b8a7",
   "metadata": {},
   "outputs": [
    {
     "data": {
      "text/html": [
       "<style>#sk-container-id-1 {color: black;}#sk-container-id-1 pre{padding: 0;}#sk-container-id-1 div.sk-toggleable {background-color: white;}#sk-container-id-1 label.sk-toggleable__label {cursor: pointer;display: block;width: 100%;margin-bottom: 0;padding: 0.3em;box-sizing: border-box;text-align: center;}#sk-container-id-1 label.sk-toggleable__label-arrow:before {content: \"▸\";float: left;margin-right: 0.25em;color: #696969;}#sk-container-id-1 label.sk-toggleable__label-arrow:hover:before {color: black;}#sk-container-id-1 div.sk-estimator:hover label.sk-toggleable__label-arrow:before {color: black;}#sk-container-id-1 div.sk-toggleable__content {max-height: 0;max-width: 0;overflow: hidden;text-align: left;background-color: #f0f8ff;}#sk-container-id-1 div.sk-toggleable__content pre {margin: 0.2em;color: black;border-radius: 0.25em;background-color: #f0f8ff;}#sk-container-id-1 input.sk-toggleable__control:checked~div.sk-toggleable__content {max-height: 200px;max-width: 100%;overflow: auto;}#sk-container-id-1 input.sk-toggleable__control:checked~label.sk-toggleable__label-arrow:before {content: \"▾\";}#sk-container-id-1 div.sk-estimator input.sk-toggleable__control:checked~label.sk-toggleable__label {background-color: #d4ebff;}#sk-container-id-1 div.sk-label input.sk-toggleable__control:checked~label.sk-toggleable__label {background-color: #d4ebff;}#sk-container-id-1 input.sk-hidden--visually {border: 0;clip: rect(1px 1px 1px 1px);clip: rect(1px, 1px, 1px, 1px);height: 1px;margin: -1px;overflow: hidden;padding: 0;position: absolute;width: 1px;}#sk-container-id-1 div.sk-estimator {font-family: monospace;background-color: #f0f8ff;border: 1px dotted black;border-radius: 0.25em;box-sizing: border-box;margin-bottom: 0.5em;}#sk-container-id-1 div.sk-estimator:hover {background-color: #d4ebff;}#sk-container-id-1 div.sk-parallel-item::after {content: \"\";width: 100%;border-bottom: 1px solid gray;flex-grow: 1;}#sk-container-id-1 div.sk-label:hover label.sk-toggleable__label {background-color: #d4ebff;}#sk-container-id-1 div.sk-serial::before {content: \"\";position: absolute;border-left: 1px solid gray;box-sizing: border-box;top: 0;bottom: 0;left: 50%;z-index: 0;}#sk-container-id-1 div.sk-serial {display: flex;flex-direction: column;align-items: center;background-color: white;padding-right: 0.2em;padding-left: 0.2em;position: relative;}#sk-container-id-1 div.sk-item {position: relative;z-index: 1;}#sk-container-id-1 div.sk-parallel {display: flex;align-items: stretch;justify-content: center;background-color: white;position: relative;}#sk-container-id-1 div.sk-item::before, #sk-container-id-1 div.sk-parallel-item::before {content: \"\";position: absolute;border-left: 1px solid gray;box-sizing: border-box;top: 0;bottom: 0;left: 50%;z-index: -1;}#sk-container-id-1 div.sk-parallel-item {display: flex;flex-direction: column;z-index: 1;position: relative;background-color: white;}#sk-container-id-1 div.sk-parallel-item:first-child::after {align-self: flex-end;width: 50%;}#sk-container-id-1 div.sk-parallel-item:last-child::after {align-self: flex-start;width: 50%;}#sk-container-id-1 div.sk-parallel-item:only-child::after {width: 0;}#sk-container-id-1 div.sk-dashed-wrapped {border: 1px dashed gray;margin: 0 0.4em 0.5em 0.4em;box-sizing: border-box;padding-bottom: 0.4em;background-color: white;}#sk-container-id-1 div.sk-label label {font-family: monospace;font-weight: bold;display: inline-block;line-height: 1.2em;}#sk-container-id-1 div.sk-label-container {text-align: center;}#sk-container-id-1 div.sk-container {/* jupyter's `normalize.less` sets `[hidden] { display: none; }` but bootstrap.min.css set `[hidden] { display: none !important; }` so we also need the `!important` here to be able to override the default hidden behavior on the sphinx rendered scikit-learn.org. See: https://github.com/scikit-learn/scikit-learn/issues/21755 */display: inline-block !important;position: relative;}#sk-container-id-1 div.sk-text-repr-fallback {display: none;}</style><div id=\"sk-container-id-1\" class=\"sk-top-container\"><div class=\"sk-text-repr-fallback\"><pre>CountVectorizer()</pre><b>In a Jupyter environment, please rerun this cell to show the HTML representation or trust the notebook. <br />On GitHub, the HTML representation is unable to render, please try loading this page with nbviewer.org.</b></div><div class=\"sk-container\" hidden><div class=\"sk-item\"><div class=\"sk-estimator sk-toggleable\"><input class=\"sk-toggleable__control sk-hidden--visually\" id=\"sk-estimator-id-1\" type=\"checkbox\" checked><label for=\"sk-estimator-id-1\" class=\"sk-toggleable__label sk-toggleable__label-arrow\">CountVectorizer</label><div class=\"sk-toggleable__content\"><pre>CountVectorizer()</pre></div></div></div></div></div>"
      ],
      "text/plain": [
       "CountVectorizer()"
      ]
     },
     "execution_count": 14,
     "metadata": {},
     "output_type": "execute_result"
    }
   ],
   "source": [
    "vector.fit(x_train)"
   ]
  },
  {
   "cell_type": "code",
   "execution_count": 16,
   "id": "0fb895dd-bad3-47ef-93ed-0d887f238dca",
   "metadata": {},
   "outputs": [],
   "source": [
    "x_train_words=vector.get_feature_names_out()"
   ]
  },
  {
   "cell_type": "code",
   "execution_count": 17,
   "id": "81a839f6-784c-4ee2-bc70-2cd75e5cb79d",
   "metadata": {},
   "outputs": [
    {
     "data": {
      "text/plain": [
       "array(['__', '___', '____', ..., '활황을', '훨씬', '힘입어'], dtype=object)"
      ]
     },
     "execution_count": 17,
     "metadata": {},
     "output_type": "execute_result"
    }
   ],
   "source": [
    "x_train_words"
   ]
  },
  {
   "cell_type": "code",
   "execution_count": 18,
   "id": "935bf89f-958d-4ae8-9378-f53b0ffca6e5",
   "metadata": {},
   "outputs": [],
   "source": [
    "x_train_dtm=vector.transform(x_train)"
   ]
  },
  {
   "cell_type": "code",
   "execution_count": 19,
   "id": "1b952bae-a923-4811-8ab5-74332d65be7e",
   "metadata": {},
   "outputs": [
    {
     "data": {
      "text/plain": [
       "(2400, 29982)"
      ]
     },
     "execution_count": 19,
     "metadata": {},
     "output_type": "execute_result"
    }
   ],
   "source": [
    "x_train_dtm.shape"
   ]
  },
  {
   "cell_type": "code",
   "execution_count": 21,
   "id": "7b981588-bdef-4d2c-8780-3e7de99e9f51",
   "metadata": {},
   "outputs": [],
   "source": [
    "x_train_dtm\n",
    "x_test_dtm=vector.transform(x_test)"
   ]
  },
  {
   "cell_type": "code",
   "execution_count": 22,
   "id": "24d395ad-199d-4622-8b72-47b0aba6f069",
   "metadata": {},
   "outputs": [
    {
     "data": {
      "text/plain": [
       "(600, 29982)"
      ]
     },
     "execution_count": 22,
     "metadata": {},
     "output_type": "execute_result"
    }
   ],
   "source": [
    "x_test_dtm.shape"
   ]
  },
  {
   "cell_type": "code",
   "execution_count": 23,
   "id": "8c6fb8fd-8582-4349-a93f-ba1e55b79c3c",
   "metadata": {},
   "outputs": [],
   "source": [
    "from sklearn.naive_bayes import MultinomialNB\n",
    "model=MultinomialNB()"
   ]
  },
  {
   "cell_type": "code",
   "execution_count": 24,
   "id": "a1ce37bc-4959-4498-bc54-1b98bb8abbb2",
   "metadata": {},
   "outputs": [
    {
     "data": {
      "text/html": [
       "<style>#sk-container-id-2 {color: black;}#sk-container-id-2 pre{padding: 0;}#sk-container-id-2 div.sk-toggleable {background-color: white;}#sk-container-id-2 label.sk-toggleable__label {cursor: pointer;display: block;width: 100%;margin-bottom: 0;padding: 0.3em;box-sizing: border-box;text-align: center;}#sk-container-id-2 label.sk-toggleable__label-arrow:before {content: \"▸\";float: left;margin-right: 0.25em;color: #696969;}#sk-container-id-2 label.sk-toggleable__label-arrow:hover:before {color: black;}#sk-container-id-2 div.sk-estimator:hover label.sk-toggleable__label-arrow:before {color: black;}#sk-container-id-2 div.sk-toggleable__content {max-height: 0;max-width: 0;overflow: hidden;text-align: left;background-color: #f0f8ff;}#sk-container-id-2 div.sk-toggleable__content pre {margin: 0.2em;color: black;border-radius: 0.25em;background-color: #f0f8ff;}#sk-container-id-2 input.sk-toggleable__control:checked~div.sk-toggleable__content {max-height: 200px;max-width: 100%;overflow: auto;}#sk-container-id-2 input.sk-toggleable__control:checked~label.sk-toggleable__label-arrow:before {content: \"▾\";}#sk-container-id-2 div.sk-estimator input.sk-toggleable__control:checked~label.sk-toggleable__label {background-color: #d4ebff;}#sk-container-id-2 div.sk-label input.sk-toggleable__control:checked~label.sk-toggleable__label {background-color: #d4ebff;}#sk-container-id-2 input.sk-hidden--visually {border: 0;clip: rect(1px 1px 1px 1px);clip: rect(1px, 1px, 1px, 1px);height: 1px;margin: -1px;overflow: hidden;padding: 0;position: absolute;width: 1px;}#sk-container-id-2 div.sk-estimator {font-family: monospace;background-color: #f0f8ff;border: 1px dotted black;border-radius: 0.25em;box-sizing: border-box;margin-bottom: 0.5em;}#sk-container-id-2 div.sk-estimator:hover {background-color: #d4ebff;}#sk-container-id-2 div.sk-parallel-item::after {content: \"\";width: 100%;border-bottom: 1px solid gray;flex-grow: 1;}#sk-container-id-2 div.sk-label:hover label.sk-toggleable__label {background-color: #d4ebff;}#sk-container-id-2 div.sk-serial::before {content: \"\";position: absolute;border-left: 1px solid gray;box-sizing: border-box;top: 0;bottom: 0;left: 50%;z-index: 0;}#sk-container-id-2 div.sk-serial {display: flex;flex-direction: column;align-items: center;background-color: white;padding-right: 0.2em;padding-left: 0.2em;position: relative;}#sk-container-id-2 div.sk-item {position: relative;z-index: 1;}#sk-container-id-2 div.sk-parallel {display: flex;align-items: stretch;justify-content: center;background-color: white;position: relative;}#sk-container-id-2 div.sk-item::before, #sk-container-id-2 div.sk-parallel-item::before {content: \"\";position: absolute;border-left: 1px solid gray;box-sizing: border-box;top: 0;bottom: 0;left: 50%;z-index: -1;}#sk-container-id-2 div.sk-parallel-item {display: flex;flex-direction: column;z-index: 1;position: relative;background-color: white;}#sk-container-id-2 div.sk-parallel-item:first-child::after {align-self: flex-end;width: 50%;}#sk-container-id-2 div.sk-parallel-item:last-child::after {align-self: flex-start;width: 50%;}#sk-container-id-2 div.sk-parallel-item:only-child::after {width: 0;}#sk-container-id-2 div.sk-dashed-wrapped {border: 1px dashed gray;margin: 0 0.4em 0.5em 0.4em;box-sizing: border-box;padding-bottom: 0.4em;background-color: white;}#sk-container-id-2 div.sk-label label {font-family: monospace;font-weight: bold;display: inline-block;line-height: 1.2em;}#sk-container-id-2 div.sk-label-container {text-align: center;}#sk-container-id-2 div.sk-container {/* jupyter's `normalize.less` sets `[hidden] { display: none; }` but bootstrap.min.css set `[hidden] { display: none !important; }` so we also need the `!important` here to be able to override the default hidden behavior on the sphinx rendered scikit-learn.org. See: https://github.com/scikit-learn/scikit-learn/issues/21755 */display: inline-block !important;position: relative;}#sk-container-id-2 div.sk-text-repr-fallback {display: none;}</style><div id=\"sk-container-id-2\" class=\"sk-top-container\"><div class=\"sk-text-repr-fallback\"><pre>MultinomialNB()</pre><b>In a Jupyter environment, please rerun this cell to show the HTML representation or trust the notebook. <br />On GitHub, the HTML representation is unable to render, please try loading this page with nbviewer.org.</b></div><div class=\"sk-container\" hidden><div class=\"sk-item\"><div class=\"sk-estimator sk-toggleable\"><input class=\"sk-toggleable__control sk-hidden--visually\" id=\"sk-estimator-id-2\" type=\"checkbox\" checked><label for=\"sk-estimator-id-2\" class=\"sk-toggleable__label sk-toggleable__label-arrow\">MultinomialNB</label><div class=\"sk-toggleable__content\"><pre>MultinomialNB()</pre></div></div></div></div></div>"
      ],
      "text/plain": [
       "MultinomialNB()"
      ]
     },
     "execution_count": 24,
     "metadata": {},
     "output_type": "execute_result"
    }
   ],
   "source": [
    "model.fit(x_train_dtm,y_train)"
   ]
  },
  {
   "cell_type": "code",
   "execution_count": 25,
   "id": "a1925554-fde1-482c-92d0-eefac3d58d40",
   "metadata": {},
   "outputs": [],
   "source": [
    "y_prediction=model.predict(x_test_dtm)"
   ]
  },
  {
   "cell_type": "code",
   "execution_count": 26,
   "id": "ea152836-77bc-4f1c-a49b-18c7664dbb70",
   "metadata": {},
   "outputs": [],
   "source": [
    "from sklearn import metrics"
   ]
  },
  {
   "cell_type": "code",
   "execution_count": 27,
   "id": "ea0ab3fd-6d15-4919-b7e0-20b9ef5ded15",
   "metadata": {},
   "outputs": [
    {
     "data": {
      "text/plain": [
       "0.985"
      ]
     },
     "execution_count": 27,
     "metadata": {},
     "output_type": "execute_result"
    }
   ],
   "source": [
    "score=metrics.accuracy_score(y_test,y_prediction)\n",
    "score"
   ]
  },
  {
   "cell_type": "code",
   "execution_count": 28,
   "id": "c30eeeb6-5027-4d1d-8fac-7360882e3b22",
   "metadata": {},
   "outputs": [
    {
     "data": {
      "text/plain": [
       "array([[506,   1],\n",
       "       [  8,  85]], dtype=int64)"
      ]
     },
     "execution_count": 28,
     "metadata": {},
     "output_type": "execute_result"
    }
   ],
   "source": [
    "cf=metrics.confusion_matrix(y_test,y_prediction)\n",
    "cf"
   ]
  },
  {
   "cell_type": "code",
   "execution_count": 29,
   "id": "45f550ad-32b8-4709-8e37-315ffbc0ffa4",
   "metadata": {},
   "outputs": [],
   "source": [
    "import seaborn as sns"
   ]
  },
  {
   "cell_type": "code",
   "execution_count": 30,
   "id": "cdc7ac9b-a353-440a-941f-1e68f83c2d4b",
   "metadata": {},
   "outputs": [
    {
     "data": {
      "image/png": "[encoded data removed]",
      "text/plain": [
       "<Figure size 800x600 with 2 Axes>"
      ]
     },
     "metadata": {},
     "output_type": "display_data"
    }
   ],
   "source": [
    "fig=plt.figure(figsize=(8,6))\n",
    "heatmap = sns.heatmap(cf, annot=True, fmt=\"d\")\n",
    "heatmap.yaxis.set_ticklabels(heatmap.yaxis.get_ticklabels(), rotation=0, ha='right', fontsize=15)\n",
    "heatmap.xaxis.set_ticklabels(heatmap.xaxis.get_ticklabels(), rotation=45, ha='right', fontsize=15)\n",
    "plt.xlabel('Predicted',fontsize=20)\n",
    "plt.ylabel('Actual',fontsize=20)\n",
    "plt.title('Accuracy Score   {0}'.format(score),fontsize=20)\n",
    "plt.savefig('confusionmatrix')"
   ]
  },
  {
   "cell_type": "code",
   "execution_count": 31,
   "id": "e153f2a2-aafe-4b81-8455-dd03751b3e03",
   "metadata": {},
   "outputs": [
    {
     "data": {
      "text/plain": [
       "66     with our telecoms partner bumblebee don t get...\n",
       "Name: email, dtype: object"
      ]
     },
     "execution_count": 31,
     "metadata": {},
     "output_type": "execute_result"
    }
   ],
   "source": [
    "x_test[y_test<y_prediction]"
   ]
  },
  {
   "cell_type": "code",
   "execution_count": 32,
   "id": "1992b633-7023-491c-ab20-aaf2a434c20f",
   "metadata": {},
   "outputs": [
    {
     "data": {
      "text/plain": [
       "2758     dear sir madam i got this email id from your ...\n",
       "2806                                                     \n",
       "2906     this URL email is sponsored by thinkgeek welc...\n",
       "2816     welcome to ghetto america yes you heard me i ...\n",
       "2896    您好 如果此信打扰到您 我们深感抱歉 请将此信删除 如果您需要进行企业网站推广或者产品信息发...\n",
       "2742     x m a h c x _ u a a x u d i i z q t b h y n x...\n",
       "2744     sent e mail message from enenkio URL robert m...\n",
       "2789     dear friends the online content business is d...\n",
       "Name: email, dtype: object"
      ]
     },
     "execution_count": 32,
     "metadata": {},
     "output_type": "execute_result"
    }
   ],
   "source": [
    "x_test[y_test>y_prediction]"
   ]
  },
  {
   "cell_type": "markdown",
   "id": "4224b7c1-6d01-4784-9973-3b6c5cdfab8c",
   "metadata": {},
   "source": [
    "### Spam and ham words"
   ]
  },
  {
   "cell_type": "code",
   "execution_count": 33,
   "id": "43f73daa-6d96-4891-b60f-e4e785e45aa8",
   "metadata": {},
   "outputs": [],
   "source": [
    "x_train_words=vector.get_feature_names_out()"
   ]
  },
  {
   "cell_type": "code",
   "execution_count": 34,
   "id": "9d39a206-bd33-454f-b1a6-74a08e8220d9",
   "metadata": {},
   "outputs": [
    {
     "data": {
      "text/plain": [
       "array(['__', '___', '____', ..., '활황을', '훨씬', '힘입어'], dtype=object)"
      ]
     },
     "execution_count": 34,
     "metadata": {},
     "output_type": "execute_result"
    }
   ],
   "source": [
    "x_train_words"
   ]
  },
  {
   "cell_type": "code",
   "execution_count": 35,
   "id": "73d8396a-ed44-4767-87b5-eaf72e1fb403",
   "metadata": {},
   "outputs": [
    {
     "data": {
      "text/plain": [
       "29982"
      ]
     },
     "execution_count": 35,
     "metadata": {},
     "output_type": "execute_result"
    }
   ],
   "source": [
    "len(x_train_words)"
   ]
  },
  {
   "cell_type": "code",
   "execution_count": 36,
   "id": "8889de51-498c-4f19-aad6-7611ba5c488d",
   "metadata": {},
   "outputs": [
    {
     "data": {
      "text/plain": [
       "array(['actions', 'activate', 'activated', 'activating', 'activation',\n",
       "       'activations', 'active', 'activebuddy', 'actively', 'activespam',\n",
       "       'activism', 'activist', 'activists', 'activities', 'activity',\n",
       "       'actlab', 'acton', 'actor', 'actors', 'acts', 'actual', 'actually',\n",
       "       'actuallyreverses', 'actualy', 'acuitive', 'acute',\n",
       "       'acxrmplfnumberfhxlnumbermhyv', 'acynumberxpnumberjusobfmt', 'ad',\n",
       "       'ada', 'adam', 'adamant', 'adams', 'adamson', 'adapt', 'adapted',\n",
       "       'adapter', 'adapting', 'adays', 'adb', 'adbusters', 'add',\n",
       "       'add_all_addresses_to_whitelist', 'added', 'addes', 'addicted',\n",
       "       'addiction', 'addictions', 'addictive', 'addicts'], dtype=object)"
      ]
     },
     "execution_count": 36,
     "metadata": {},
     "output_type": "execute_result"
    }
   ],
   "source": [
    "x_train_words[500:550]"
   ]
  },
  {
   "cell_type": "code",
   "execution_count": 37,
   "id": "25fce7c0-af9d-44c1-a143-b72dfb3b3544",
   "metadata": {},
   "outputs": [
    {
     "data": {
      "text/plain": [
       "array([[3., 1., 1., ..., 0., 0., 0.],\n",
       "       [0., 0., 2., ..., 1., 1., 1.]])"
      ]
     },
     "execution_count": 37,
     "metadata": {},
     "output_type": "execute_result"
    }
   ],
   "source": [
    "model.feature_count_ "
   ]
  },
  {
   "cell_type": "code",
   "execution_count": 38,
   "id": "6865089d-9b4d-4126-9af1-debc3ae88a80",
   "metadata": {},
   "outputs": [
    {
     "data": {
      "text/plain": [
       "(2, 29982)"
      ]
     },
     "execution_count": 38,
     "metadata": {},
     "output_type": "execute_result"
    }
   ],
   "source": [
    "model.feature_count_.shape"
   ]
  },
  {
   "cell_type": "code",
   "execution_count": 39,
   "id": "fc54b484-ac3d-48e0-91bc-64a6b51dc19b",
   "metadata": {},
   "outputs": [],
   "source": [
    "ham_word_count=model.feature_count_[0,:]"
   ]
  },
  {
   "cell_type": "code",
   "execution_count": 40,
   "id": "3de37391-d56e-417d-8d51-79bfda5c3173",
   "metadata": {},
   "outputs": [],
   "source": [
    "spam_word_count=model.feature_count_[1,:]"
   ]
  },
  {
   "cell_type": "code",
   "execution_count": 41,
   "id": "f8a45431-0c67-4223-9a7c-fd650d407298",
   "metadata": {},
   "outputs": [
    {
     "data": {
      "text/plain": [
       "array([3., 1., 1., ..., 0., 0., 0.])"
      ]
     },
     "execution_count": 41,
     "metadata": {},
     "output_type": "execute_result"
    }
   ],
   "source": [
    "ham_word_count"
   ]
  },
  {
   "cell_type": "code",
   "execution_count": 42,
   "id": "63d18eb6-d986-4fe2-a778-e101df47ddf3",
   "metadata": {},
   "outputs": [],
   "source": [
    "tokens=pd.DataFrame({'token':x_train_words,'ham':ham_word_count,'spam':spam_word_count})"
   ]
  },
  {
   "cell_type": "code",
   "execution_count": 43,
   "id": "23da14bb-e842-4569-b12e-7a6acd02603f",
   "metadata": {},
   "outputs": [
    {
     "data": {
      "text/html": [
       "<div>\n",
       "<style scoped>\n",
       "    .dataframe tbody tr th:only-of-type {\n",
       "        vertical-align: middle;\n",
       "    }\n",
       "\n",
       "    .dataframe tbody tr th {\n",
       "        vertical-align: top;\n",
       "    }\n",
       "\n",
       "    .dataframe thead th {\n",
       "        text-align: right;\n",
       "    }\n",
       "</style>\n",
       "<table border=\"1\" class=\"dataframe\">\n",
       "  <thead>\n",
       "    <tr style=\"text-align: right;\">\n",
       "      <th></th>\n",
       "      <th>token</th>\n",
       "      <th>ham</th>\n",
       "      <th>spam</th>\n",
       "    </tr>\n",
       "  </thead>\n",
       "  <tbody>\n",
       "    <tr>\n",
       "      <th>0</th>\n",
       "      <td>__</td>\n",
       "      <td>3.0</td>\n",
       "      <td>0.0</td>\n",
       "    </tr>\n",
       "    <tr>\n",
       "      <th>1</th>\n",
       "      <td>___</td>\n",
       "      <td>1.0</td>\n",
       "      <td>0.0</td>\n",
       "    </tr>\n",
       "    <tr>\n",
       "      <th>2</th>\n",
       "      <td>____</td>\n",
       "      <td>1.0</td>\n",
       "      <td>2.0</td>\n",
       "    </tr>\n",
       "    <tr>\n",
       "      <th>3</th>\n",
       "      <td>_____</td>\n",
       "      <td>1.0</td>\n",
       "      <td>12.0</td>\n",
       "    </tr>\n",
       "    <tr>\n",
       "      <th>4</th>\n",
       "      <td>______</td>\n",
       "      <td>1.0</td>\n",
       "      <td>9.0</td>\n",
       "    </tr>\n",
       "  </tbody>\n",
       "</table>\n",
       "</div>"
      ],
      "text/plain": [
       "    token  ham  spam\n",
       "0      __  3.0   0.0\n",
       "1     ___  1.0   0.0\n",
       "2    ____  1.0   2.0\n",
       "3   _____  1.0  12.0\n",
       "4  ______  1.0   9.0"
      ]
     },
     "execution_count": 43,
     "metadata": {},
     "output_type": "execute_result"
    }
   ],
   "source": [
    "tokens.head()"
   ]
  },
  {
   "cell_type": "code",
   "execution_count": 44,
   "id": "c4ce8c12-ff1b-4ef0-ad95-6018322f820b",
   "metadata": {},
   "outputs": [],
   "source": [
    "tokens=tokens.set_index('token')"
   ]
  },
  {
   "cell_type": "code",
   "execution_count": 45,
   "id": "2c4e3e9b-2884-4b2e-9fb3-b59c62d0c3db",
   "metadata": {},
   "outputs": [
    {
     "data": {
      "text/html": [
       "<div>\n",
       "<style scoped>\n",
       "    .dataframe tbody tr th:only-of-type {\n",
       "        vertical-align: middle;\n",
       "    }\n",
       "\n",
       "    .dataframe tbody tr th {\n",
       "        vertical-align: top;\n",
       "    }\n",
       "\n",
       "    .dataframe thead th {\n",
       "        text-align: right;\n",
       "    }\n",
       "</style>\n",
       "<table border=\"1\" class=\"dataframe\">\n",
       "  <thead>\n",
       "    <tr style=\"text-align: right;\">\n",
       "      <th></th>\n",
       "      <th>ham</th>\n",
       "      <th>spam</th>\n",
       "    </tr>\n",
       "    <tr>\n",
       "      <th>token</th>\n",
       "      <th></th>\n",
       "      <th></th>\n",
       "    </tr>\n",
       "  </thead>\n",
       "  <tbody>\n",
       "    <tr>\n",
       "      <th>__</th>\n",
       "      <td>3.0</td>\n",
       "      <td>0.0</td>\n",
       "    </tr>\n",
       "    <tr>\n",
       "      <th>___</th>\n",
       "      <td>1.0</td>\n",
       "      <td>0.0</td>\n",
       "    </tr>\n",
       "    <tr>\n",
       "      <th>____</th>\n",
       "      <td>1.0</td>\n",
       "      <td>2.0</td>\n",
       "    </tr>\n",
       "    <tr>\n",
       "      <th>_____</th>\n",
       "      <td>1.0</td>\n",
       "      <td>12.0</td>\n",
       "    </tr>\n",
       "    <tr>\n",
       "      <th>______</th>\n",
       "      <td>1.0</td>\n",
       "      <td>9.0</td>\n",
       "    </tr>\n",
       "  </tbody>\n",
       "</table>\n",
       "</div>"
      ],
      "text/plain": [
       "        ham  spam\n",
       "token            \n",
       "__      3.0   0.0\n",
       "___     1.0   0.0\n",
       "____    1.0   2.0\n",
       "_____   1.0  12.0\n",
       "______  1.0   9.0"
      ]
     },
     "execution_count": 45,
     "metadata": {},
     "output_type": "execute_result"
    }
   ],
   "source": [
    "tokens.head()"
   ]
  },
  {
   "cell_type": "code",
   "execution_count": 46,
   "id": "7bf31001-5c72-4fce-9f09-9a38d692fee3",
   "metadata": {},
   "outputs": [
    {
     "data": {
      "text/html": [
       "<div>\n",
       "<style scoped>\n",
       "    .dataframe tbody tr th:only-of-type {\n",
       "        vertical-align: middle;\n",
       "    }\n",
       "\n",
       "    .dataframe tbody tr th {\n",
       "        vertical-align: top;\n",
       "    }\n",
       "\n",
       "    .dataframe thead th {\n",
       "        text-align: right;\n",
       "    }\n",
       "</style>\n",
       "<table border=\"1\" class=\"dataframe\">\n",
       "  <thead>\n",
       "    <tr style=\"text-align: right;\">\n",
       "      <th></th>\n",
       "      <th>ham</th>\n",
       "      <th>spam</th>\n",
       "    </tr>\n",
       "    <tr>\n",
       "      <th>token</th>\n",
       "      <th></th>\n",
       "      <th></th>\n",
       "    </tr>\n",
       "  </thead>\n",
       "  <tbody>\n",
       "    <tr>\n",
       "      <th>홈쇼핑의</th>\n",
       "      <td>0.0</td>\n",
       "      <td>1.0</td>\n",
       "    </tr>\n",
       "    <tr>\n",
       "      <th>확실한</th>\n",
       "      <td>0.0</td>\n",
       "      <td>1.0</td>\n",
       "    </tr>\n",
       "    <tr>\n",
       "      <th>활황을</th>\n",
       "      <td>0.0</td>\n",
       "      <td>1.0</td>\n",
       "    </tr>\n",
       "    <tr>\n",
       "      <th>훨씬</th>\n",
       "      <td>0.0</td>\n",
       "      <td>1.0</td>\n",
       "    </tr>\n",
       "    <tr>\n",
       "      <th>힘입어</th>\n",
       "      <td>0.0</td>\n",
       "      <td>1.0</td>\n",
       "    </tr>\n",
       "  </tbody>\n",
       "</table>\n",
       "</div>"
      ],
      "text/plain": [
       "       ham  spam\n",
       "token           \n",
       "홈쇼핑의   0.0   1.0\n",
       "확실한    0.0   1.0\n",
       "활황을    0.0   1.0\n",
       "훨씬     0.0   1.0\n",
       "힘입어    0.0   1.0"
      ]
     },
     "execution_count": 46,
     "metadata": {},
     "output_type": "execute_result"
    }
   ],
   "source": [
    "tokens.tail()"
   ]
  },
  {
   "cell_type": "code",
   "execution_count": 47,
   "id": "9defdedf-9a95-4c66-8c9d-e83b63ec60d8",
   "metadata": {},
   "outputs": [
    {
     "data": {
      "text/plain": [
       "array([1993.,  407.])"
      ]
     },
     "execution_count": 47,
     "metadata": {},
     "output_type": "execute_result"
    }
   ],
   "source": [
    "model.class_count_"
   ]
  },
  {
   "cell_type": "code",
   "execution_count": 48,
   "id": "3a01154f-88f7-4b5c-9c7c-547b23ffff35",
   "metadata": {},
   "outputs": [],
   "source": [
    "tokens['ham']=tokens.ham+10"
   ]
  },
  {
   "cell_type": "code",
   "execution_count": 49,
   "id": "78aa30e0-9e6f-40ff-882f-c1effe72c5cc",
   "metadata": {},
   "outputs": [],
   "source": [
    "tokens['spam']=tokens.spam+10"
   ]
  },
  {
   "cell_type": "code",
   "execution_count": 50,
   "id": "47a842bd-b0b5-4841-9379-44d8fcc223c7",
   "metadata": {},
   "outputs": [
    {
     "data": {
      "text/html": [
       "<div>\n",
       "<style scoped>\n",
       "    .dataframe tbody tr th:only-of-type {\n",
       "        vertical-align: middle;\n",
       "    }\n",
       "\n",
       "    .dataframe tbody tr th {\n",
       "        vertical-align: top;\n",
       "    }\n",
       "\n",
       "    .dataframe thead th {\n",
       "        text-align: right;\n",
       "    }\n",
       "</style>\n",
       "<table border=\"1\" class=\"dataframe\">\n",
       "  <thead>\n",
       "    <tr style=\"text-align: right;\">\n",
       "      <th></th>\n",
       "      <th>ham</th>\n",
       "      <th>spam</th>\n",
       "    </tr>\n",
       "    <tr>\n",
       "      <th>token</th>\n",
       "      <th></th>\n",
       "      <th></th>\n",
       "    </tr>\n",
       "  </thead>\n",
       "  <tbody>\n",
       "    <tr>\n",
       "      <th>__</th>\n",
       "      <td>13.0</td>\n",
       "      <td>10.0</td>\n",
       "    </tr>\n",
       "    <tr>\n",
       "      <th>___</th>\n",
       "      <td>11.0</td>\n",
       "      <td>10.0</td>\n",
       "    </tr>\n",
       "    <tr>\n",
       "      <th>____</th>\n",
       "      <td>11.0</td>\n",
       "      <td>12.0</td>\n",
       "    </tr>\n",
       "    <tr>\n",
       "      <th>_____</th>\n",
       "      <td>11.0</td>\n",
       "      <td>22.0</td>\n",
       "    </tr>\n",
       "    <tr>\n",
       "      <th>______</th>\n",
       "      <td>11.0</td>\n",
       "      <td>19.0</td>\n",
       "    </tr>\n",
       "  </tbody>\n",
       "</table>\n",
       "</div>"
      ],
      "text/plain": [
       "         ham  spam\n",
       "token             \n",
       "__      13.0  10.0\n",
       "___     11.0  10.0\n",
       "____    11.0  12.0\n",
       "_____   11.0  22.0\n",
       "______  11.0  19.0"
      ]
     },
     "execution_count": 50,
     "metadata": {},
     "output_type": "execute_result"
    }
   ],
   "source": [
    "tokens.head()"
   ]
  },
  {
   "cell_type": "code",
   "execution_count": 51,
   "id": "48fdcc00-c778-4d32-836d-5758ed703f29",
   "metadata": {},
   "outputs": [],
   "source": [
    "from __future__ import division"
   ]
  },
  {
   "cell_type": "code",
   "execution_count": 52,
   "id": "e06488a5-9f6f-4a77-ae5d-bbe40346cf73",
   "metadata": {},
   "outputs": [],
   "source": [
    "tokens['ham']=tokens.ham/model.class_count_[0]"
   ]
  },
  {
   "cell_type": "code",
   "execution_count": 53,
   "id": "c3daad7b-05a2-452a-9bc2-05e7f95d4c54",
   "metadata": {},
   "outputs": [],
   "source": [
    "tokens['spam']=tokens.spam/model.class_count_[1]"
   ]
  },
  {
   "cell_type": "code",
   "execution_count": 54,
   "id": "1d0cc6ab-43aa-48e7-829b-1b16661f0525",
   "metadata": {},
   "outputs": [
    {
     "data": {
      "text/html": [
       "<div>\n",
       "<style scoped>\n",
       "    .dataframe tbody tr th:only-of-type {\n",
       "        vertical-align: middle;\n",
       "    }\n",
       "\n",
       "    .dataframe tbody tr th {\n",
       "        vertical-align: top;\n",
       "    }\n",
       "\n",
       "    .dataframe thead th {\n",
       "        text-align: right;\n",
       "    }\n",
       "</style>\n",
       "<table border=\"1\" class=\"dataframe\">\n",
       "  <thead>\n",
       "    <tr style=\"text-align: right;\">\n",
       "      <th></th>\n",
       "      <th>ham</th>\n",
       "      <th>spam</th>\n",
       "    </tr>\n",
       "    <tr>\n",
       "      <th>token</th>\n",
       "      <th></th>\n",
       "      <th></th>\n",
       "    </tr>\n",
       "  </thead>\n",
       "  <tbody>\n",
       "    <tr>\n",
       "      <th>__</th>\n",
       "      <td>0.006523</td>\n",
       "      <td>0.024570</td>\n",
       "    </tr>\n",
       "    <tr>\n",
       "      <th>___</th>\n",
       "      <td>0.005519</td>\n",
       "      <td>0.024570</td>\n",
       "    </tr>\n",
       "    <tr>\n",
       "      <th>____</th>\n",
       "      <td>0.005519</td>\n",
       "      <td>0.029484</td>\n",
       "    </tr>\n",
       "    <tr>\n",
       "      <th>_____</th>\n",
       "      <td>0.005519</td>\n",
       "      <td>0.054054</td>\n",
       "    </tr>\n",
       "    <tr>\n",
       "      <th>______</th>\n",
       "      <td>0.005519</td>\n",
       "      <td>0.046683</td>\n",
       "    </tr>\n",
       "  </tbody>\n",
       "</table>\n",
       "</div>"
      ],
      "text/plain": [
       "             ham      spam\n",
       "token                     \n",
       "__      0.006523  0.024570\n",
       "___     0.005519  0.024570\n",
       "____    0.005519  0.029484\n",
       "_____   0.005519  0.054054\n",
       "______  0.005519  0.046683"
      ]
     },
     "execution_count": 54,
     "metadata": {},
     "output_type": "execute_result"
    }
   ],
   "source": [
    "tokens.head()"
   ]
  },
  {
   "cell_type": "code",
   "execution_count": 55,
   "id": "ef3eddbe-6a6f-4c33-9845-8c8022b35d44",
   "metadata": {},
   "outputs": [],
   "source": [
    "tokens['ham_to_spam_ratio']=tokens.ham/tokens.spam"
   ]
  },
  {
   "cell_type": "code",
   "execution_count": 56,
   "id": "f26488bb-63ee-404a-9414-0236abf4d7c9",
   "metadata": {},
   "outputs": [
    {
     "data": {
      "text/html": [
       "<div>\n",
       "<style scoped>\n",
       "    .dataframe tbody tr th:only-of-type {\n",
       "        vertical-align: middle;\n",
       "    }\n",
       "\n",
       "    .dataframe tbody tr th {\n",
       "        vertical-align: top;\n",
       "    }\n",
       "\n",
       "    .dataframe thead th {\n",
       "        text-align: right;\n",
       "    }\n",
       "</style>\n",
       "<table border=\"1\" class=\"dataframe\">\n",
       "  <thead>\n",
       "    <tr style=\"text-align: right;\">\n",
       "      <th></th>\n",
       "      <th>ham</th>\n",
       "      <th>spam</th>\n",
       "      <th>ham_to_spam_ratio</th>\n",
       "    </tr>\n",
       "    <tr>\n",
       "      <th>token</th>\n",
       "      <th></th>\n",
       "      <th></th>\n",
       "      <th></th>\n",
       "    </tr>\n",
       "  </thead>\n",
       "  <tbody>\n",
       "    <tr>\n",
       "      <th>__</th>\n",
       "      <td>0.006523</td>\n",
       "      <td>0.024570</td>\n",
       "      <td>0.265479</td>\n",
       "    </tr>\n",
       "    <tr>\n",
       "      <th>___</th>\n",
       "      <td>0.005519</td>\n",
       "      <td>0.024570</td>\n",
       "      <td>0.224636</td>\n",
       "    </tr>\n",
       "    <tr>\n",
       "      <th>____</th>\n",
       "      <td>0.005519</td>\n",
       "      <td>0.029484</td>\n",
       "      <td>0.187197</td>\n",
       "    </tr>\n",
       "    <tr>\n",
       "      <th>_____</th>\n",
       "      <td>0.005519</td>\n",
       "      <td>0.054054</td>\n",
       "      <td>0.102107</td>\n",
       "    </tr>\n",
       "    <tr>\n",
       "      <th>______</th>\n",
       "      <td>0.005519</td>\n",
       "      <td>0.046683</td>\n",
       "      <td>0.118230</td>\n",
       "    </tr>\n",
       "  </tbody>\n",
       "</table>\n",
       "</div>"
      ],
      "text/plain": [
       "             ham      spam  ham_to_spam_ratio\n",
       "token                                        \n",
       "__      0.006523  0.024570           0.265479\n",
       "___     0.005519  0.024570           0.224636\n",
       "____    0.005519  0.029484           0.187197\n",
       "_____   0.005519  0.054054           0.102107\n",
       "______  0.005519  0.046683           0.118230"
      ]
     },
     "execution_count": 56,
     "metadata": {},
     "output_type": "execute_result"
    }
   ],
   "source": [
    "tokens.head()"
   ]
  },
  {
   "cell_type": "code",
   "execution_count": 58,
   "id": "e69fc81d-c43f-4ea0-b190-a0ca31801e92",
   "metadata": {},
   "outputs": [
    {
     "data": {
      "text/html": [
       "<div>\n",
       "<style scoped>\n",
       "    .dataframe tbody tr th:only-of-type {\n",
       "        vertical-align: middle;\n",
       "    }\n",
       "\n",
       "    .dataframe tbody tr th {\n",
       "        vertical-align: top;\n",
       "    }\n",
       "\n",
       "    .dataframe thead th {\n",
       "        text-align: right;\n",
       "    }\n",
       "</style>\n",
       "<table border=\"1\" class=\"dataframe\">\n",
       "  <thead>\n",
       "    <tr style=\"text-align: right;\">\n",
       "      <th></th>\n",
       "      <th>ham</th>\n",
       "      <th>spam</th>\n",
       "      <th>ham_to_spam_ratio</th>\n",
       "    </tr>\n",
       "    <tr>\n",
       "      <th>token</th>\n",
       "      <th></th>\n",
       "      <th></th>\n",
       "      <th></th>\n",
       "    </tr>\n",
       "  </thead>\n",
       "  <tbody>\n",
       "    <tr>\n",
       "      <th>홈쇼핑의</th>\n",
       "      <td>0.005018</td>\n",
       "      <td>0.027027</td>\n",
       "      <td>0.18565</td>\n",
       "    </tr>\n",
       "    <tr>\n",
       "      <th>확실한</th>\n",
       "      <td>0.005018</td>\n",
       "      <td>0.027027</td>\n",
       "      <td>0.18565</td>\n",
       "    </tr>\n",
       "    <tr>\n",
       "      <th>활황을</th>\n",
       "      <td>0.005018</td>\n",
       "      <td>0.027027</td>\n",
       "      <td>0.18565</td>\n",
       "    </tr>\n",
       "    <tr>\n",
       "      <th>훨씬</th>\n",
       "      <td>0.005018</td>\n",
       "      <td>0.027027</td>\n",
       "      <td>0.18565</td>\n",
       "    </tr>\n",
       "    <tr>\n",
       "      <th>힘입어</th>\n",
       "      <td>0.005018</td>\n",
       "      <td>0.027027</td>\n",
       "      <td>0.18565</td>\n",
       "    </tr>\n",
       "  </tbody>\n",
       "</table>\n",
       "</div>"
      ],
      "text/plain": [
       "            ham      spam  ham_to_spam_ratio\n",
       "token                                       \n",
       "홈쇼핑의   0.005018  0.027027            0.18565\n",
       "확실한    0.005018  0.027027            0.18565\n",
       "활황을    0.005018  0.027027            0.18565\n",
       "훨씬     0.005018  0.027027            0.18565\n",
       "힘입어    0.005018  0.027027            0.18565"
      ]
     },
     "execution_count": 58,
     "metadata": {},
     "output_type": "execute_result"
    }
   ],
   "source": [
    "tokens.tail()"
   ]
  },
  {
   "cell_type": "code",
   "execution_count": 59,
   "id": "b1b7384e-2ef9-43fe-88d0-598b0097b632",
   "metadata": {},
   "outputs": [
    {
     "data": {
      "text/html": [
       "<div>\n",
       "<style scoped>\n",
       "    .dataframe tbody tr th:only-of-type {\n",
       "        vertical-align: middle;\n",
       "    }\n",
       "\n",
       "    .dataframe tbody tr th {\n",
       "        vertical-align: top;\n",
       "    }\n",
       "\n",
       "    .dataframe thead th {\n",
       "        text-align: right;\n",
       "    }\n",
       "</style>\n",
       "<table border=\"1\" class=\"dataframe\">\n",
       "  <thead>\n",
       "    <tr style=\"text-align: right;\">\n",
       "      <th></th>\n",
       "      <th>ham</th>\n",
       "      <th>spam</th>\n",
       "      <th>ham_to_spam_ratio</th>\n",
       "    </tr>\n",
       "    <tr>\n",
       "      <th>token</th>\n",
       "      <th></th>\n",
       "      <th></th>\n",
       "      <th></th>\n",
       "    </tr>\n",
       "  </thead>\n",
       "  <tbody>\n",
       "    <tr>\n",
       "      <th>wrote</th>\n",
       "      <td>0.366784</td>\n",
       "      <td>0.024570</td>\n",
       "      <td>14.928098</td>\n",
       "    </tr>\n",
       "    <tr>\n",
       "      <th>rpm</th>\n",
       "      <td>0.361264</td>\n",
       "      <td>0.024570</td>\n",
       "      <td>14.703462</td>\n",
       "    </tr>\n",
       "    <tr>\n",
       "      <th>spamassassin</th>\n",
       "      <td>0.312594</td>\n",
       "      <td>0.031941</td>\n",
       "      <td>9.786599</td>\n",
       "    </tr>\n",
       "    <tr>\n",
       "      <th>exmh</th>\n",
       "      <td>0.238836</td>\n",
       "      <td>0.024570</td>\n",
       "      <td>9.720622</td>\n",
       "    </tr>\n",
       "    <tr>\n",
       "      <th>razor</th>\n",
       "      <td>0.196187</td>\n",
       "      <td>0.024570</td>\n",
       "      <td>7.984797</td>\n",
       "    </tr>\n",
       "    <tr>\n",
       "      <th>_______________________________________________</th>\n",
       "      <td>0.277973</td>\n",
       "      <td>0.044226</td>\n",
       "      <td>6.285276</td>\n",
       "    </tr>\n",
       "    <tr>\n",
       "      <th>fork</th>\n",
       "      <td>0.150527</td>\n",
       "      <td>0.024570</td>\n",
       "      <td>6.126443</td>\n",
       "    </tr>\n",
       "    <tr>\n",
       "      <th>sep</th>\n",
       "      <td>0.179629</td>\n",
       "      <td>0.029484</td>\n",
       "      <td>6.092407</td>\n",
       "    </tr>\n",
       "    <tr>\n",
       "      <th>perl</th>\n",
       "      <td>0.143001</td>\n",
       "      <td>0.024570</td>\n",
       "      <td>5.820120</td>\n",
       "    </tr>\n",
       "    <tr>\n",
       "      <th>numbertnumber</th>\n",
       "      <td>0.152534</td>\n",
       "      <td>0.027027</td>\n",
       "      <td>5.643753</td>\n",
       "    </tr>\n",
       "    <tr>\n",
       "      <th>xml</th>\n",
       "      <td>0.116407</td>\n",
       "      <td>0.024570</td>\n",
       "      <td>4.737782</td>\n",
       "    </tr>\n",
       "    <tr>\n",
       "      <th>freshrpms</th>\n",
       "      <td>0.112393</td>\n",
       "      <td>0.024570</td>\n",
       "      <td>4.574410</td>\n",
       "    </tr>\n",
       "    <tr>\n",
       "      <th>date</th>\n",
       "      <td>0.337180</td>\n",
       "      <td>0.076167</td>\n",
       "      <td>4.426849</td>\n",
       "    </tr>\n",
       "    <tr>\n",
       "      <th>matthias</th>\n",
       "      <td>0.103864</td>\n",
       "      <td>0.024570</td>\n",
       "      <td>4.227245</td>\n",
       "    </tr>\n",
       "    <tr>\n",
       "      <th>groups</th>\n",
       "      <td>0.123432</td>\n",
       "      <td>0.029484</td>\n",
       "      <td>4.186402</td>\n",
       "    </tr>\n",
       "    <tr>\n",
       "      <th>kernel</th>\n",
       "      <td>0.100351</td>\n",
       "      <td>0.024570</td>\n",
       "      <td>4.084295</td>\n",
       "    </tr>\n",
       "    <tr>\n",
       "      <th>apt</th>\n",
       "      <td>0.106874</td>\n",
       "      <td>0.027027</td>\n",
       "      <td>3.954340</td>\n",
       "    </tr>\n",
       "    <tr>\n",
       "      <th>aug</th>\n",
       "      <td>0.096337</td>\n",
       "      <td>0.024570</td>\n",
       "      <td>3.920923</td>\n",
       "    </tr>\n",
       "    <tr>\n",
       "      <th>folder</th>\n",
       "      <td>0.095334</td>\n",
       "      <td>0.024570</td>\n",
       "      <td>3.880080</td>\n",
       "    </tr>\n",
       "    <tr>\n",
       "      <th>messages</th>\n",
       "      <td>0.153537</td>\n",
       "      <td>0.041769</td>\n",
       "      <td>3.675866</td>\n",
       "    </tr>\n",
       "  </tbody>\n",
       "</table>\n",
       "</div>"
      ],
      "text/plain": [
       "                                                      ham      spam  \\\n",
       "token                                                                 \n",
       "wrote                                            0.366784  0.024570   \n",
       "rpm                                              0.361264  0.024570   \n",
       "spamassassin                                     0.312594  0.031941   \n",
       "exmh                                             0.238836  0.024570   \n",
       "razor                                            0.196187  0.024570   \n",
       "_______________________________________________  0.277973  0.044226   \n",
       "fork                                             0.150527  0.024570   \n",
       "sep                                              0.179629  0.029484   \n",
       "perl                                             0.143001  0.024570   \n",
       "numbertnumber                                    0.152534  0.027027   \n",
       "xml                                              0.116407  0.024570   \n",
       "freshrpms                                        0.112393  0.024570   \n",
       "date                                             0.337180  0.076167   \n",
       "matthias                                         0.103864  0.024570   \n",
       "groups                                           0.123432  0.029484   \n",
       "kernel                                           0.100351  0.024570   \n",
       "apt                                              0.106874  0.027027   \n",
       "aug                                              0.096337  0.024570   \n",
       "folder                                           0.095334  0.024570   \n",
       "messages                                         0.153537  0.041769   \n",
       "\n",
       "                                                 ham_to_spam_ratio  \n",
       "token                                                               \n",
       "wrote                                                    14.928098  \n",
       "rpm                                                      14.703462  \n",
       "spamassassin                                              9.786599  \n",
       "exmh                                                      9.720622  \n",
       "razor                                                     7.984797  \n",
       "_______________________________________________           6.285276  \n",
       "fork                                                      6.126443  \n",
       "sep                                                       6.092407  \n",
       "perl                                                      5.820120  \n",
       "numbertnumber                                             5.643753  \n",
       "xml                                                       4.737782  \n",
       "freshrpms                                                 4.574410  \n",
       "date                                                      4.426849  \n",
       "matthias                                                  4.227245  \n",
       "groups                                                    4.186402  \n",
       "kernel                                                    4.084295  \n",
       "apt                                                       3.954340  \n",
       "aug                                                       3.920923  \n",
       "folder                                                    3.880080  \n",
       "messages                                                  3.675866  "
      ]
     },
     "execution_count": 59,
     "metadata": {},
     "output_type": "execute_result"
    }
   ],
   "source": [
    "tokens.sort_values('ham_to_spam_ratio',ascending=False).head(20)"
   ]
  },
  {
   "cell_type": "code",
   "execution_count": 60,
   "id": "e76fce39-3025-4073-9e21-71329358f5bc",
   "metadata": {},
   "outputs": [
    {
     "data": {
      "text/html": [
       "<div>\n",
       "<style scoped>\n",
       "    .dataframe tbody tr th:only-of-type {\n",
       "        vertical-align: middle;\n",
       "    }\n",
       "\n",
       "    .dataframe tbody tr th {\n",
       "        vertical-align: top;\n",
       "    }\n",
       "\n",
       "    .dataframe thead th {\n",
       "        text-align: right;\n",
       "    }\n",
       "</style>\n",
       "<table border=\"1\" class=\"dataframe\">\n",
       "  <thead>\n",
       "    <tr style=\"text-align: right;\">\n",
       "      <th></th>\n",
       "      <th>ham</th>\n",
       "      <th>spam</th>\n",
       "      <th>ham_to_spam_ratio</th>\n",
       "    </tr>\n",
       "    <tr>\n",
       "      <th>token</th>\n",
       "      <th></th>\n",
       "      <th></th>\n",
       "      <th></th>\n",
       "    </tr>\n",
       "  </thead>\n",
       "  <tbody>\n",
       "    <tr>\n",
       "      <th>yours</th>\n",
       "      <td>0.008028</td>\n",
       "      <td>0.157248</td>\n",
       "      <td>0.051054</td>\n",
       "    </tr>\n",
       "    <tr>\n",
       "      <th>cash</th>\n",
       "      <td>0.015554</td>\n",
       "      <td>0.307125</td>\n",
       "      <td>0.050645</td>\n",
       "    </tr>\n",
       "    <tr>\n",
       "      <th>guide</th>\n",
       "      <td>0.011039</td>\n",
       "      <td>0.221130</td>\n",
       "      <td>0.049919</td>\n",
       "    </tr>\n",
       "    <tr>\n",
       "      <th>mails</th>\n",
       "      <td>0.013046</td>\n",
       "      <td>0.262899</td>\n",
       "      <td>0.049622</td>\n",
       "    </tr>\n",
       "    <tr>\n",
       "      <th>membership</th>\n",
       "      <td>0.008028</td>\n",
       "      <td>0.162162</td>\n",
       "      <td>0.049507</td>\n",
       "    </tr>\n",
       "    <tr>\n",
       "      <th>bulk</th>\n",
       "      <td>0.008028</td>\n",
       "      <td>0.162162</td>\n",
       "      <td>0.049507</td>\n",
       "    </tr>\n",
       "    <tr>\n",
       "      <th>fill</th>\n",
       "      <td>0.009533</td>\n",
       "      <td>0.194103</td>\n",
       "      <td>0.049115</td>\n",
       "    </tr>\n",
       "    <tr>\n",
       "      <th>kabila</th>\n",
       "      <td>0.005018</td>\n",
       "      <td>0.103194</td>\n",
       "      <td>0.048623</td>\n",
       "    </tr>\n",
       "    <tr>\n",
       "      <th>earn</th>\n",
       "      <td>0.007025</td>\n",
       "      <td>0.144963</td>\n",
       "      <td>0.048458</td>\n",
       "    </tr>\n",
       "    <tr>\n",
       "      <th>receive</th>\n",
       "      <td>0.026593</td>\n",
       "      <td>0.582310</td>\n",
       "      <td>0.045668</td>\n",
       "    </tr>\n",
       "    <tr>\n",
       "      <th>cbyi</th>\n",
       "      <td>0.005018</td>\n",
       "      <td>0.110565</td>\n",
       "      <td>0.045381</td>\n",
       "    </tr>\n",
       "    <tr>\n",
       "      <th>orders</th>\n",
       "      <td>0.012042</td>\n",
       "      <td>0.275184</td>\n",
       "      <td>0.043760</td>\n",
       "    </tr>\n",
       "    <tr>\n",
       "      <th>guaranteed</th>\n",
       "      <td>0.007526</td>\n",
       "      <td>0.174447</td>\n",
       "      <td>0.043144</td>\n",
       "    </tr>\n",
       "    <tr>\n",
       "      <th>mortgage</th>\n",
       "      <td>0.005519</td>\n",
       "      <td>0.135135</td>\n",
       "      <td>0.040843</td>\n",
       "    </tr>\n",
       "    <tr>\n",
       "      <th>insurance</th>\n",
       "      <td>0.010537</td>\n",
       "      <td>0.270270</td>\n",
       "      <td>0.038986</td>\n",
       "    </tr>\n",
       "    <tr>\n",
       "      <th>removal</th>\n",
       "      <td>0.006523</td>\n",
       "      <td>0.169533</td>\n",
       "      <td>0.038475</td>\n",
       "    </tr>\n",
       "    <tr>\n",
       "      <th>grants</th>\n",
       "      <td>0.013046</td>\n",
       "      <td>0.393120</td>\n",
       "      <td>0.033185</td>\n",
       "    </tr>\n",
       "    <tr>\n",
       "      <th>mailings</th>\n",
       "      <td>0.006021</td>\n",
       "      <td>0.191646</td>\n",
       "      <td>0.031418</td>\n",
       "    </tr>\n",
       "    <tr>\n",
       "      <th>click</th>\n",
       "      <td>0.025590</td>\n",
       "      <td>0.825553</td>\n",
       "      <td>0.030997</td>\n",
       "    </tr>\n",
       "    <tr>\n",
       "      <th>hyperlink</th>\n",
       "      <td>0.006523</td>\n",
       "      <td>1.567568</td>\n",
       "      <td>0.004161</td>\n",
       "    </tr>\n",
       "  </tbody>\n",
       "</table>\n",
       "</div>"
      ],
      "text/plain": [
       "                 ham      spam  ham_to_spam_ratio\n",
       "token                                            \n",
       "yours       0.008028  0.157248           0.051054\n",
       "cash        0.015554  0.307125           0.050645\n",
       "guide       0.011039  0.221130           0.049919\n",
       "mails       0.013046  0.262899           0.049622\n",
       "membership  0.008028  0.162162           0.049507\n",
       "bulk        0.008028  0.162162           0.049507\n",
       "fill        0.009533  0.194103           0.049115\n",
       "kabila      0.005018  0.103194           0.048623\n",
       "earn        0.007025  0.144963           0.048458\n",
       "receive     0.026593  0.582310           0.045668\n",
       "cbyi        0.005018  0.110565           0.045381\n",
       "orders      0.012042  0.275184           0.043760\n",
       "guaranteed  0.007526  0.174447           0.043144\n",
       "mortgage    0.005519  0.135135           0.040843\n",
       "insurance   0.010537  0.270270           0.038986\n",
       "removal     0.006523  0.169533           0.038475\n",
       "grants      0.013046  0.393120           0.033185\n",
       "mailings    0.006021  0.191646           0.031418\n",
       "click       0.025590  0.825553           0.030997\n",
       "hyperlink   0.006523  1.567568           0.004161"
      ]
     },
     "execution_count": 60,
     "metadata": {},
     "output_type": "execute_result"
    }
   ],
   "source": [
    "tokens.sort_values('ham_to_spam_ratio',ascending=False).tail(20)"
   ]
  },
  {
   "cell_type": "code",
   "execution_count": null,
   "id": "06b228f4-b6be-4de9-a96f-03181b3d4547",
   "metadata": {},
   "outputs": [],
   "source": []
  }
 ],
 "metadata": {
  "kernelspec": {
   "display_name": "Python 3",
   "language": "python",
   "name": "python3"
  },
  "language_info": {
   "codemirror_mode": {
    "name": "ipython",
    "version": 3
   },
   "file_extension": ".py",
   "mimetype": "text/x-python",
   "name": "python",
   "nbconvert_exporter": "python",
   "pygments_lexer": "ipython3",
   "version": "3.9.0"
  }
 },
 "nbformat": 4,
 "nbformat_minor": 5
}
