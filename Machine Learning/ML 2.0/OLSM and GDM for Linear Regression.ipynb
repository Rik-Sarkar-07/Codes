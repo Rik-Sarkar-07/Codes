{
 "cells": [
  {
   "cell_type": "markdown",
   "id": "815a55d7-3ba5-4a2b-8648-741cddf7e3b6",
   "metadata": {},
   "source": [
    "# Best Fitted Curve by using the Ordinary Least Squere Method"
   ]
  },
  {
   "cell_type": "code",
   "execution_count": 1,
   "id": "d2afd9fa-8aec-4abe-be5f-64c7dfd31811",
   "metadata": {},
   "outputs": [],
   "source": [
    "import numpy as np\n",
    "import pandas as pd\n",
    "import matplotlib.pyplot as plt"
   ]
  },
  {
   "cell_type": "code",
   "execution_count": 2,
   "id": "02c3b395-d141-422f-b356-399aab76a330",
   "metadata": {},
   "outputs": [],
   "source": [
    "no_of_data_points = 15\n",
    "m = no_of_data_points"
   ]
  },
  {
   "cell_type": "code",
   "execution_count": 3,
   "id": "7f0c0699-ef3f-4d3b-8270-7803bea21831",
   "metadata": {},
   "outputs": [
    {
     "data": {
      "text/plain": [
       "True"
      ]
     },
     "execution_count": 3,
     "metadata": {},
     "output_type": "execute_result"
    }
   ],
   "source": [
    "# Data Set\n",
    "X = [15,23,18,23,24,22,22,19,19,16,24,11,24,16,23]\n",
    "Y = [49,63,58,60,58,61,60,63,60,52,62,30,59,49,68]\n",
    "len(X) == len(Y) == 15"
   ]
  },
  {
   "cell_type": "code",
   "execution_count": 4,
   "id": "4dd64496-8f62-407b-b44f-5c810fff9c70",
   "metadata": {},
   "outputs": [
    {
     "name": "stdout",
     "output_type": "stream",
     "text": [
      "19.933333333333334 56.8\n"
     ]
    }
   ],
   "source": [
    "X_mean = np.mean(X)\n",
    "Y_mean = np.mean(Y)\n",
    "print(X_mean,Y_mean)"
   ]
  },
  {
   "cell_type": "code",
   "execution_count": 5,
   "id": "e172e43c-925d-4a31-8df5-11ad1f0c67b4",
   "metadata": {},
   "outputs": [],
   "source": [
    "def OLSM(X,Y):\n",
    "    X_mean = np.mean(X)\n",
    "    Y_mean = np.mean(Y)\n",
    "\n",
    "    X_var = []\n",
    "\n",
    "    cov_xy = []\n",
    "    \n",
    "    for i in range(0,m):\n",
    "        cov_xy.append((X[i]-X_mean)*(Y[i]-Y_mean))\n",
    "        X_var.append( (X[i] - X_mean)**2 )\n",
    "    cov = np.sum(cov_xy)\n",
    "    var = np.sum(X_var)\n",
    "    slope = cov/var\n",
    "    intercept = Y_mean - slope*X_mean\n",
    "    return (slope,intercept)"
   ]
  },
  {
   "cell_type": "code",
   "execution_count": 6,
   "id": "4ccc6e63-0d6b-436d-8f94-f7f7d8c4bb07",
   "metadata": {},
   "outputs": [],
   "source": [
    "slope, intercept = OLSM(X,Y)"
   ]
  },
  {
   "cell_type": "code",
   "execution_count": 7,
   "id": "51294ce1-7127-4ea7-b56e-16f804136214",
   "metadata": {},
   "outputs": [
    {
     "data": {
      "text/plain": [
       "1.8939482961222098"
      ]
     },
     "execution_count": 7,
     "metadata": {},
     "output_type": "execute_result"
    }
   ],
   "source": [
    "slope"
   ]
  },
  {
   "cell_type": "code",
   "execution_count": 8,
   "id": "d358a39a-074c-4577-803a-10a92f2f23e3",
   "metadata": {},
   "outputs": [
    {
     "data": {
      "text/plain": [
       "19.047297297297284"
      ]
     },
     "execution_count": 8,
     "metadata": {},
     "output_type": "execute_result"
    }
   ],
   "source": [
    "intercept"
   ]
  },
  {
   "cell_type": "code",
   "execution_count": 9,
   "id": "cf8a2618-71a6-4465-ad7f-b3e76f325df0",
   "metadata": {},
   "outputs": [],
   "source": [
    "def BestFittedCurve(x,slope,intercept):\n",
    "    return (x*slope + intercept)"
   ]
  },
  {
   "cell_type": "code",
   "execution_count": 10,
   "id": "7f6fbe09-c761-4115-becc-403a98082ab3",
   "metadata": {},
   "outputs": [
    {
     "data": {
      "text/plain": [
       "[47.45652173913043,\n",
       " 62.60810810810811,\n",
       " 53.138366627497064,\n",
       " 62.60810810810811,\n",
       " 64.50205640423033,\n",
       " 60.7141598119859,\n",
       " 60.7141598119859,\n",
       " 55.03231492361927,\n",
       " 55.03231492361927,\n",
       " 49.35047003525264,\n",
       " 64.50205640423033,\n",
       " 39.88072855464159,\n",
       " 64.50205640423033,\n",
       " 49.35047003525264,\n",
       " 62.60810810810811]"
      ]
     },
     "execution_count": 10,
     "metadata": {},
     "output_type": "execute_result"
    }
   ],
   "source": [
    "Y_pred = []\n",
    "for i in range(0,m):\n",
    "    Y_pred.append(BestFittedCurve(X[i],slope,intercept))\n",
    "Y_pred    "
   ]
  },
  {
   "cell_type": "code",
   "execution_count": 11,
   "id": "b8f984ff-313e-459a-8e17-800b1d50d29c",
   "metadata": {},
   "outputs": [],
   "source": [
    "def SSE(Y,Y_pred):\n",
    "    error = 0\n",
    "    temp = []\n",
    "    for i in range(0,m):\n",
    "        temp.append( (Y[i] - Y_pred[i])**2 )\n",
    "    error = np.sum(temp)\n",
    "    return error"
   ]
  },
  {
   "cell_type": "code",
   "execution_count": 12,
   "id": "002aeca1-1aa6-479c-a856-b13c96d596fa",
   "metadata": {},
   "outputs": [
    {
     "data": {
      "text/plain": [
       "334.38102232667484"
      ]
     },
     "execution_count": 12,
     "metadata": {},
     "output_type": "execute_result"
    }
   ],
   "source": [
    "SSE(Y,Y_pred)"
   ]
  },
  {
   "cell_type": "code",
   "execution_count": 13,
   "id": "99b50e15-20c0-465d-b1cd-5e6f37eab1ed",
   "metadata": {},
   "outputs": [
    {
     "data": {
      "image/png": "[encoded data removed]",
      "text/plain": [
       "<Figure size 640x480 with 1 Axes>"
      ]
     },
     "metadata": {},
     "output_type": "display_data"
    }
   ],
   "source": [
    "plt.plot(X,Y_pred,'red')\n",
    "plt.title('Best Fitted Curve')\n",
    "plt.scatter(X,Y)\n",
    "plt.show()"
   ]
  },
  {
   "cell_type": "markdown",
   "id": "38c63b7f-fcd0-49ca-a51e-8c04ec8821e1",
   "metadata": {},
   "source": [
    "# Best Fitted Curve by using the Gredient Decent Method "
   ]
  },
  {
   "cell_type": "code",
   "execution_count": 14,
   "id": "58dc7ec6-9c73-436f-bb94-b5f542184db2",
   "metadata": {},
   "outputs": [
    {
     "data": {
      "text/plain": [
       "True"
      ]
     },
     "execution_count": 14,
     "metadata": {},
     "output_type": "execute_result"
    }
   ],
   "source": [
    "# Data Set\n",
    "X = [15,23,18,23,24,22,22,19,19,16,24,11,24,16,23]\n",
    "Y = [49,63,58,60,58,61,60,63,60,52,62,30,59,49,68]\n",
    "len(X) == len(Y) == 15"
   ]
  },
  {
   "cell_type": "code",
   "execution_count": 15,
   "id": "ea7d12d1-8d49-46aa-96b7-2b4d40a85788",
   "metadata": {},
   "outputs": [],
   "source": [
    "def BestFittedCurve(x,slope,intercept):\n",
    "    return (x*slope + intercept)"
   ]
  },
  {
   "cell_type": "code",
   "execution_count": 90,
   "id": "15039206-0707-4219-9b96-22ed80226a14",
   "metadata": {},
   "outputs": [],
   "source": [
    "def GD_Method(X,Y):\n",
    "    slope = 2\n",
    "    intercept = 2\n",
    "    init_intercept = intercept\n",
    "    lemda = 0.001\n",
    "    while(True):\n",
    "        temp = []\n",
    "        for i in range(m):\n",
    "            temp.append( (BestFittedCurve(X[i],slope,intercept) - Y[i]) )\n",
    "        err = lemda*(1/m)*np.sum(temp)\n",
    "        intercept = intercept - err\n",
    "        del temp\n",
    "        if( abs(err) < 0.000000000001):\n",
    "            break\n",
    "    #print(intercept)\n",
    "    while(True):\n",
    "        temp = []\n",
    "        for i in range(m):\n",
    "            temp.append( ((BestFittedCurve(X[i], slope,intercept) - Y[i])*X[i]) )\n",
    "        err = lemda*(1/m)*np.sum(temp)\n",
    "        slope = slope - err\n",
    "        if( abs(err) <  0.0000000001):\n",
    "            break\n",
    "        del temp\n",
    "\n",
    "    return slope,intercept\n",
    "        \n",
    "        "
   ]
  },
  {
   "cell_type": "code",
   "execution_count": 91,
   "id": "b17db119-76f3-4534-96ab-496bb1fa4e56",
   "metadata": {},
   "outputs": [
    {
     "name": "stdout",
     "output_type": "stream",
     "text": [
      "(1.99611012351811, 16.93333333233517)\n"
     ]
    }
   ],
   "source": [
    "print(GD_Method(X,Y))\n",
    "new_slope,new_intercept = GD_Method(X,Y)"
   ]
  },
  {
   "cell_type": "code",
   "execution_count": 92,
   "id": "fb1a41ec-2803-40ca-ac21-6b57294b5002",
   "metadata": {},
   "outputs": [
    {
     "data": {
      "text/plain": [
       "[46.87498518510682,\n",
       " 62.8438661732517,\n",
       " 52.863315555661146,\n",
       " 62.8438661732517,\n",
       " 64.8399762967698,\n",
       " 60.84775604973359,\n",
       " 60.84775604973359,\n",
       " 54.85942567917927,\n",
       " 54.85942567917927,\n",
       " 48.87109530862493,\n",
       " 64.8399762967698,\n",
       " 38.89054469103438,\n",
       " 64.8399762967698,\n",
       " 48.87109530862493,\n",
       " 62.8438661732517]"
      ]
     },
     "execution_count": 92,
     "metadata": {},
     "output_type": "execute_result"
    }
   ],
   "source": [
    "Y_pred = []\n",
    "for i in range(0,m):\n",
    "    Y_pred.append(BestFittedCurve(X[i],new_slope,new_intercept))\n",
    "Y_pred  "
   ]
  },
  {
   "cell_type": "code",
   "execution_count": 93,
   "id": "065349aa-0241-4a12-91b2-a4160f5186b1",
   "metadata": {},
   "outputs": [],
   "source": [
    "def SSE(Y,Y_pred):\n",
    "    error = 0\n",
    "    temp = []\n",
    "    for i in range(0,m):\n",
    "        temp.append( (Y[i] - Y_pred[i])**2 )\n",
    "    error = np.sum(temp)\n",
    "    return error"
   ]
  },
  {
   "cell_type": "code",
   "execution_count": 94,
   "id": "700d560d-ea2d-4eb4-9d7d-3ce9b6418c52",
   "metadata": {},
   "outputs": [
    {
     "data": {
      "text/plain": [
       "336.83971697159404"
      ]
     },
     "execution_count": 94,
     "metadata": {},
     "output_type": "execute_result"
    }
   ],
   "source": [
    "SSE(Y,Y_pred)"
   ]
  },
  {
   "cell_type": "code",
   "execution_count": 95,
   "id": "cc562d66-5b7c-4236-8b2b-4ecac2f0fb4e",
   "metadata": {},
   "outputs": [
    {
     "data": {
      "image/png": "[encoded data removed]",
      "text/plain": [
       "<Figure size 640x480 with 1 Axes>"
      ]
     },
     "metadata": {},
     "output_type": "display_data"
    }
   ],
   "source": [
    "plt.plot(X,Y_pred,'red')\n",
    "plt.title('Best Fitted Curve')\n",
    "plt.scatter(X,Y)\n",
    "plt.show()"
   ]
  },
  {
   "cell_type": "code",
   "execution_count": null,
   "id": "19147974-1739-4c31-b141-5d208800c213",
   "metadata": {},
   "outputs": [],
   "source": []
  }
 ],
 "metadata": {
  "kernelspec": {
   "display_name": "Python 3",
   "language": "python",
   "name": "python3"
  },
  "language_info": {
   "codemirror_mode": {
    "name": "ipython",
    "version": 3
   },
   "file_extension": ".py",
   "mimetype": "text/x-python",
   "name": "python",
   "nbconvert_exporter": "python",
   "pygments_lexer": "ipython3",
   "version": "3.9.0"
  }
 },
 "nbformat": 4,
 "nbformat_minor": 5
}
